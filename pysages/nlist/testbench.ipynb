{
 "cells": [
  {
   "cell_type": "code",
   "execution_count": 1,
   "metadata": {},
   "outputs": [],
   "source": [
    "%load_ext autoreload\n",
    "%load_ext line_profiler\n",
    "%autoreload 2"
   ]
  },
  {
   "cell_type": "code",
   "execution_count": 2,
   "metadata": {},
   "outputs": [
    {
     "name": "stderr",
     "output_type": "stream",
     "text": [
      "An NVIDIA GPU may be present on this machine, but a CUDA-enabled jaxlib is not installed. Falling back to cpu.\n"
     ]
    }
   ],
   "source": [
    "from cell_list import get_cell_list, get_neighbors_list, get_neighbor_ids\n",
    "from verlet_list import get_neighbor_ids as get_verlet_neighbor_ids\n",
    "from verlet_list import get_neighborhood, _pairwise_dist\n",
    "from jax import random\n",
    "import jax.numpy as jnp\n",
    "from jax_md.partition import neighbor_list\n",
    "from jax_md.space import periodic"
   ]
  },
  {
   "cell_type": "markdown",
   "metadata": {},
   "source": [
    "## Setting up a simple box\n",
    "\n",
    "This will create a $5 \\times 5 \\times 5$ box and puts 100 random particles in it."
   ]
  },
  {
   "cell_type": "code",
   "execution_count": 3,
   "metadata": {},
   "outputs": [],
   "source": [
    "box_edge = 5.0\n",
    "box_size = jnp.array([box_edge, box_edge, box_edge])\n",
    "positions = random.uniform(random.PRNGKey(0), (int(1e2), 3))*box_edge\n",
    "cutoff_c = 1.0 # cutoff for cell list\n",
    "cutoff_v = 1.0 # cutoff for verlet list\n",
    "buffer = 30"
   ]
  },
  {
   "cell_type": "markdown",
   "metadata": {},
   "source": [
    "# Cell list method\n",
    "This will create a cell list which breaks the box into 125 boxes of edge size 1 (`cutoff_c`)."
   ]
  },
  {
   "cell_type": "code",
   "execution_count": 4,
   "metadata": {},
   "outputs": [],
   "source": [
    "cell_list = get_cell_list(positions, box_size, cutoff_c)"
   ]
  },
  {
   "cell_type": "markdown",
   "metadata": {},
   "source": [
    "## Method 1\n",
    "\n",
    "Using `get_neighbors_list` we can get the neighbors for a list of particles. Under the hood, this functions calls `vmap` on another function `get_neighbor_ids` which is implemented for a single particle (+ some postprocessing)."
   ]
  },
  {
   "cell_type": "code",
   "execution_count": 5,
   "metadata": {},
   "outputs": [
    {
     "name": "stdout",
     "output_type": "stream",
     "text": [
      "[[99 95 93 85 78 77 75 71 70 69 68 63 62 56 38 32 31 30 12  2  0 -1 -1 -1\n",
      "  -1 -1 -1 -1]\n",
      " [99 98 94 88 82 80 79 73 67 66 58 57 54 44 43 42 41 34 29 24 22 20 11 10\n",
      "   8  7  4  1]\n",
      " [96 94 93 89 76 71 65 55 47 39 37 25 21 14  9  2  0 -1 -1 -1 -1 -1 -1 -1\n",
      "  -1 -1 -1 -1]\n",
      " [92 81 80 79 75 72 60 56 54 48 42 40 35 33 30 28 25 24 23 18 17 12 11  3\n",
      "  -1 -1 -1 -1]\n",
      " [99 98 94 88 82 80 79 73 67 66 58 57 54 44 43 42 41 34 29 24 22 20 11 10\n",
      "   8  7  4  1]\n",
      " [96 91 86 83 69 68 61 59 55 52 50 45 38 32 27 26 19 16 15 13 12 10  7  5\n",
      "  -1 -1 -1 -1]\n",
      " [94 89 88 87 69 62 45 41 39 38 33 28 22  8  6 -1 -1 -1 -1 -1 -1 -1 -1 -1\n",
      "  -1 -1 -1 -1]\n",
      " [99 95 88 85 82 78 70 65 58 57 51 50 45 41 34 31 22 20 10  8  7  5  4  1\n",
      "  -1 -1 -1 -1]\n",
      " [94 90 89 88 87 82 69 67 58 51 45 41 39 38 34 28 22 20 10  8  7  6  4  1\n",
      "  -1 -1 -1 -1]\n",
      " [99 92 86 84 78 74 71 70 64 63 60 52 37 36 35 15 14  9  2 -1 -1 -1 -1 -1\n",
      "  -1 -1 -1 -1]]\n"
     ]
    }
   ],
   "source": [
    "idxs = jnp.asarray([i for i in range(10)]) # only the first 10 particles\n",
    "nbors = get_neighbors_list(box_size=box_size, cutoff=cutoff_c, cell_idx=cell_list, idxs=idxs, buffer_size_cell=buffer, mask_self=False)\n",
    "print(nbors) # padded with -1"
   ]
  },
  {
   "cell_type": "markdown",
   "metadata": {},
   "source": [
    "## Method 2\n",
    "\n",
    "Using `get_neighbor_ids` directly with an external for loop and the postprocessing outside of the neighbor list."
   ]
  },
  {
   "cell_type": "code",
   "execution_count": 6,
   "metadata": {},
   "outputs": [
    {
     "name": "stdout",
     "output_type": "stream",
     "text": [
      "[99 38 69 85 62 70 78 31 95 32 68 63 71  2 77 93 30 56 75 12 43 11 24 42\n",
      " 67 44 73 94 29 66 54 79 80 22 88  4 34 58 82 57  8 41 20 98 99  7 10  9\n",
      " 14 37 47 65  0 76 71 21 93 55 96 25 89 39 94 30 56 75 12 60 35 92 40 33\n",
      " 28 17 18 11 24 42 25 48 81 72 54 79 80 23 43 11 24 42 67 44 73 94 29 66\n",
      " 54 79 80 22 88  1 34 58 82 57  8 41 20 98 99  7 10 38 69  7 10 45 15 16\n",
      " 83 32 68 50 52 86 27 91 59 55 96 13 12 19 26 61 89 39 94 33 28 22 88 87\n",
      "  8 41 38 69 62 45 22 88  1  4 34 58 82 57  8 41 20 51 99 10 45 85 65 70\n",
      " 78 31  5 50 95 89 67 39 94 28 90 22 88  1  4 34 58 82  6 87 41 20 51 38\n",
      " 69  7 10 45 64 84 36 15 99 74 52 86 14 37 70 78 60 35 92 63 71  2]\n"
     ]
    }
   ],
   "source": [
    "nbors_2 = []\n",
    "for i in idxs:\n",
    "    n_i = get_neighbor_ids(box_size=box_size, cutoff=cutoff_c, cell_idx=cell_list, idx=i, buffer_size_cell=buffer)\n",
    "    n_i = n_i[n_i != i]\n",
    "    n_i = n_i[n_i != -1]\n",
    "    nbors_2.append(n_i)\n",
    "print(jnp.concatenate(nbors_2, axis=0)) # no padding"
   ]
  },
  {
   "cell_type": "markdown",
   "metadata": {},
   "source": [
    "# Verlet list\n",
    "\n",
    "Verlet list can be used together with a cell list to get exact cutoffs. Cell list will capture all particles within a `cutoff_c`$\\times$`cutoff_c`$\\times$`cutoff_c` box, regardless of exact cutoff selected. This hybrid method is more efficient than calculating pairwise distance for all particles and doesn't require a skin radius."
   ]
  },
  {
   "cell_type": "markdown",
   "metadata": {},
   "source": [
    "## Method 1\n",
    "Here we can get the particle ids of the neighbors of particle $0$ and get its exact neighborhood (`cutoff_v`) with a verlet list using `get_neighborhood`. This functions returns a list of `bool`s that shows whether the particles in the cell list neighbor list are within the verlet cutoff as well."
   ]
  },
  {
   "cell_type": "code",
   "execution_count": 7,
   "metadata": {},
   "outputs": [
    {
     "name": "stdout",
     "output_type": "stream",
     "text": [
      "[93 70 63 31  0]\n"
     ]
    }
   ],
   "source": [
    "atom0_n_ids = nbors[0][nbors[0] != -1] # get neighbor ids of atom 0 and remove padding\n",
    "neighbors = get_neighborhood(positions[atom0_n_ids, :], positions[0, :], cutoff_v, box_size)\n",
    "print(atom0_n_ids[jnp.where(neighbors)]) # note that 0 is in the list too."
   ]
  },
  {
   "cell_type": "markdown",
   "metadata": {},
   "source": [
    "## Method 2\n",
    "We can also get the neighborhood for all particles in a position matrix. The result is a $N \\times N$ matrix (or a list of size $N$ if `sparse = True`)"
   ]
  },
  {
   "cell_type": "code",
   "execution_count": 8,
   "metadata": {},
   "outputs": [
    {
     "name": "stdout",
     "output_type": "stream",
     "text": [
      "[[ True False False ... False False False]\n",
      " [False  True False ... False False False]\n",
      " [False False  True ... False False False]\n",
      " ...\n",
      " [False False False ...  True False False]\n",
      " [False False False ... False  True False]\n",
      " [False False False ... False False  True]]\n"
     ]
    }
   ],
   "source": [
    "n_ids_verlet = get_verlet_neighbor_ids(positions, cutoff_v, box_size, sparse=False)\n",
    "print(n_ids_verlet)"
   ]
  },
  {
   "cell_type": "code",
   "execution_count": 9,
   "metadata": {},
   "outputs": [
    {
     "name": "stdout",
     "output_type": "stream",
     "text": [
      "[31 63 70 93]\n",
      "[ 4 10 58 66 82 88]\n",
      "[76]\n",
      "[11 17 35 60 72 92]\n",
      "[ 1 34 43 54 58 66 88]\n",
      "[45 50 91]\n",
      "[ 8 38 41 87]\n",
      "[10]\n",
      "[ 6 89]\n",
      "[14 37]\n",
      "[ 1  7 41]\n",
      "[ 3 17 24 35 42 72 81 92]\n",
      "[18]\n",
      "[55 96]\n",
      "[ 9 37]\n",
      "[16 36]\n",
      "[15]\n",
      "[ 3 11 33 48 60 72 81]\n",
      "[12]\n",
      "[27 52 86]\n",
      "[41]\n",
      "[96]\n",
      "[23 58 66 88]\n",
      "[22 88]\n",
      "[11 34 42 43 44 57 67 73 92]\n",
      "[89]\n",
      "[61 90 97]\n",
      "[19 47 52 83 91]\n",
      "[87]\n",
      "[33 40 75]\n",
      "[56 60 74 75 95]\n",
      "[ 0 63 70 77]\n",
      "[45 68]\n",
      "[17 29 56 60 75]\n",
      "[ 4 24 42 43 44 57 58 66 67 82]\n",
      "[ 3 11 60 92]\n",
      "[15]\n",
      "[ 9 14]\n",
      "[ 6 45 69]\n",
      "[89]\n",
      "[29]\n",
      "[ 6 10 20]\n",
      "[11 24 34 44 57 73 92]\n",
      "[ 4 24 34 44 58 67]\n",
      "[24 34 42 43 57 67 73 92]\n",
      "[ 5 32 38 69]\n",
      "[76]\n",
      "[27 83 98]\n",
      "[17 72 79 81 84]\n",
      "[51 53]\n",
      "[ 5 59]\n",
      "[49]\n",
      "[19 27 86]\n",
      "[49]\n",
      "[ 4 57 66 79 80]\n",
      "[13 96]\n",
      "[30 33 60 74 75 95]\n",
      "[24 34 42 44 54 73]\n",
      "[ 1  4 22 34 43 66 67 82 88]\n",
      "[50 64 74]\n",
      "[ 3 17 30 33 35 56]\n",
      "[26 90 97]\n",
      "[]\n",
      "[ 0 31 70 77 78]\n",
      "[59 74 84 95]\n",
      "[98]\n",
      "[ 1  4 22 34 54 58 88]\n",
      "[24 34 43 44 58 82]\n",
      "[32 86]\n",
      "[38 45]\n",
      "[ 0 31 63 78 99]\n",
      "[92]\n",
      "[ 3 11 17 48 81]\n",
      "[24 42 44 57]\n",
      "[30 56 59 64 95]\n",
      "[29 30 33 56 77]\n",
      "[ 2 46]\n",
      "[31 63 75]\n",
      "[63 70]\n",
      "[48 54 80]\n",
      "[54 79 81]\n",
      "[11 17 48 72 80]\n",
      "[ 1 34 58 67]\n",
      "[27 47 91]\n",
      "[48 64 85]\n",
      "[84]\n",
      "[19 52 68]\n",
      "[ 6 28]\n",
      "[ 1  4 22 23 58 66]\n",
      "[ 8 25 39]\n",
      "[26 61 97]\n",
      "[ 5 27 83]\n",
      "[ 3 11 24 35 42 44 71]\n",
      "[0]\n",
      "[]\n",
      "[30 56 64 74]\n",
      "[13 21 55]\n",
      "[26 61 90]\n",
      "[47 65]\n",
      "[70]\n"
     ]
    }
   ],
   "source": [
    "n_ids_verlet_s = get_verlet_neighbor_ids(positions, cutoff_v, box_size, sparse=True, mask_self=True)\n",
    "for particle in n_ids_verlet_s:\n",
    "    print(particle)"
   ]
  },
  {
   "cell_type": "markdown",
   "metadata": {},
   "source": [
    "## Comparison with `jax_md` neighbor list"
   ]
  },
  {
   "cell_type": "markdown",
   "metadata": {},
   "source": [
    "Define a periodic box and create the neighbor list"
   ]
  },
  {
   "cell_type": "code",
   "execution_count": 10,
   "metadata": {},
   "outputs": [],
   "source": [
    "disp_fn, shift_fn = periodic(box_size)\n",
    "nb_fn = neighbor_list(disp_fn, box_size, cutoff_v)\n",
    "nbs = nb_fn.allocate(positions)"
   ]
  },
  {
   "cell_type": "markdown",
   "metadata": {},
   "source": [
    "Check that all the returned neighbors are the same from `verlet_list` and `jax_md`."
   ]
  },
  {
   "cell_type": "code",
   "execution_count": 11,
   "metadata": {},
   "outputs": [
    {
     "name": "stdout",
     "output_type": "stream",
     "text": [
      "0: OK\n",
      "1: OK\n",
      "2: OK\n",
      "3: OK\n",
      "4: OK\n",
      "5: OK\n",
      "6: OK\n",
      "7: OK\n",
      "8: OK\n",
      "9: OK\n",
      "10: OK\n",
      "11: OK\n",
      "12: OK\n",
      "13: OK\n",
      "14: OK\n",
      "15: OK\n",
      "16: OK\n",
      "17: OK\n",
      "18: OK\n",
      "19: OK\n",
      "20: OK\n",
      "21: OK\n",
      "22: OK\n",
      "23: OK\n",
      "24: OK\n",
      "25: OK\n",
      "26: OK\n",
      "27: OK\n",
      "28: OK\n",
      "29: OK\n",
      "30: OK\n",
      "31: OK\n",
      "32: OK\n",
      "33: OK\n",
      "34: OK\n",
      "35: OK\n",
      "36: OK\n",
      "37: OK\n",
      "38: OK\n",
      "39: OK\n",
      "40: OK\n",
      "41: OK\n",
      "42: OK\n",
      "43: OK\n",
      "44: OK\n",
      "45: OK\n",
      "46: OK\n",
      "47: OK\n",
      "48: OK\n",
      "49: OK\n",
      "50: OK\n",
      "51: OK\n",
      "52: OK\n",
      "53: OK\n",
      "54: OK\n",
      "55: OK\n",
      "56: OK\n",
      "57: OK\n",
      "58: OK\n",
      "59: OK\n",
      "60: OK\n",
      "61: OK\n",
      "62: OK\n",
      "63: OK\n",
      "64: OK\n",
      "65: OK\n",
      "66: OK\n",
      "67: OK\n",
      "68: OK\n",
      "69: OK\n",
      "70: OK\n",
      "71: OK\n",
      "72: OK\n",
      "73: OK\n",
      "74: OK\n",
      "75: OK\n",
      "76: OK\n",
      "77: OK\n",
      "78: OK\n",
      "79: OK\n",
      "80: OK\n",
      "81: OK\n",
      "82: OK\n",
      "83: OK\n",
      "84: OK\n",
      "85: OK\n",
      "86: OK\n",
      "87: OK\n",
      "88: OK\n",
      "89: OK\n",
      "90: OK\n",
      "91: OK\n",
      "92: OK\n",
      "93: OK\n",
      "94: OK\n",
      "95: OK\n",
      "96: OK\n",
      "97: OK\n",
      "98: OK\n",
      "99: OK\n",
      "All OK\n"
     ]
    }
   ],
   "source": [
    "for idx, nbl in enumerate(n_ids_verlet_s):\n",
    "    for n in nbl:\n",
    "        assert n in nbs.idx[idx]\n",
    "    for n in nbs.idx[idx]:\n",
    "        if n != 100:\n",
    "            assert n in nbl\n",
    "    print(f\"{idx}: OK\")\n",
    "print(\"All OK\")"
   ]
  },
  {
   "cell_type": "code",
   "execution_count": null,
   "metadata": {},
   "outputs": [],
   "source": []
  }
 ],
 "metadata": {
  "kernelspec": {
   "display_name": "jax",
   "language": "python",
   "name": "python3"
  },
  "language_info": {
   "codemirror_mode": {
    "name": "ipython",
    "version": 3
   },
   "file_extension": ".py",
   "mimetype": "text/x-python",
   "name": "python",
   "nbconvert_exporter": "python",
   "pygments_lexer": "ipython3",
   "version": "3.11.7"
  }
 },
 "nbformat": 4,
 "nbformat_minor": 2
}
