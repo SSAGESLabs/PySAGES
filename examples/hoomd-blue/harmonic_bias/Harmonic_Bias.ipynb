{
 "cells": [
  {
   "cell_type": "markdown",
   "metadata": {
    "id": "T-Qkg9C9n7Cc"
   },
   "source": [
    "# Setting up the environment\n",
    "\n",
    "First, we set up our environment. We will be using a pre-compiled and packaged installation of HOOMD-blue and the hoomd-dlext plugin.\n",
    "It will be downloaded from Google Drive and made accessible to the Python process running in this Colab instance."
   ]
  },
  {
   "cell_type": "code",
   "execution_count": null,
   "id": "f7cf6962",
   "metadata": {
    "id": "3eTbKklCnyd_"
   },
   "outputs": [],
   "source": [
    "%%bash\n",
    "\n",
    "BASE_URL=\"https://drive.usercontent.google.com/download?id=1hsKkKtdxZTVfHKgqVF6qV2e-4SShmhr7\"\n",
    "COOKIES=\"/tmp/cookies.txt\"\n",
    "CONFIRMATION=\"$(wget -q --save-cookies $COOKIES --keep-session-cookies --no-check-certificate $BASE_URL -O- | sed -rn 's/.*confirm=(\\w+).*/\\1\\n/p')\"\n",
    "\n",
    "wget -q --load-cookies $COOKIES \"$BASE_URL&confirm=$CONFIRMATION\" -O pysages-env.zip\n",
    "rm -rf $COOKIES"
   ]
  },
  {
   "cell_type": "code",
   "execution_count": 2,
   "metadata": {
    "colab": {
     "base_uri": "https://localhost:8080/"
    },
    "id": "KRPmkpd9n_NG",
    "outputId": "b757f2aa-38cc-4726-c4ab-5197810b9d77"
   },
   "outputs": [
    {
     "name": "stdout",
     "output_type": "stream",
     "text": [
      "env: PYSAGES_ENV=/env/pysages\n"
     ]
    }
   ],
   "source": [
    "%env PYSAGES_ENV=/env/pysages"
   ]
  },
  {
   "cell_type": "code",
   "execution_count": 3,
   "metadata": {
    "id": "J7OY5K9VoBBh"
   },
   "outputs": [],
   "source": [
    "%%bash\n",
    "\n",
    "mkdir -p $PYSAGES_ENV .\n",
    "unzip -qquo pysages-env.zip -d $PYSAGES_ENV"
   ]
  },
  {
   "cell_type": "code",
   "execution_count": 4,
   "metadata": {
    "id": "EMAWp8VloIk4"
   },
   "outputs": [],
   "source": [
    "import os\n",
    "import sys\n",
    "\n",
    "ver = sys.version_info\n",
    "sys.path.append(os.environ[\"PYSAGES_ENV\"] + \"/lib/python\" + str(ver.major) + \".\" + str(ver.minor) + \"/site-packages/\")\n",
    "\n",
    "os.environ[\"LD_LIBRARY_PATH\"] = \"/usr/lib/x86_64-linux-gnu:\" + os.environ[\"LD_LIBRARY_PATH\"]"
   ]
  },
  {
   "cell_type": "markdown",
   "metadata": {
    "id": "Wy-75Pt7Bqs1"
   },
   "source": [
    "We'll also need some additional python dependencies"
   ]
  },
  {
   "cell_type": "code",
   "execution_count": 5,
   "metadata": {
    "id": "LpBucu3V81xm"
   },
   "outputs": [],
   "source": [
    "!pip install -qq \"numpy<2\" gsd > /dev/null"
   ]
  },
  {
   "cell_type": "markdown",
   "metadata": {
    "id": "we_mTkFioS6R"
   },
   "source": [
    "## PySAGES\n",
    "\n",
    "Next, we install PySAGES. The latest version is retrieved from GitHub and installed (along with its dependencies) using `pip`."
   ]
  },
  {
   "cell_type": "code",
   "execution_count": 6,
   "metadata": {
    "id": "B-HB9CzioV5j"
   },
   "outputs": [
    {
     "name": "stdout",
     "output_type": "stream",
     "text": [
      "0.2.27\n",
      "0.1.75\n"
     ]
    }
   ],
   "source": [
    "!pip install -qq git+https://github.com/SSAGESLabs/PySAGES.git > /dev/null"
   ]
  },
  {
   "cell_type": "markdown",
   "metadata": {
    "id": "fRZDARPsDQHF"
   },
   "source": [
    "# Harmonic Bias simulation"
   ]
  },
  {
   "cell_type": "markdown",
   "metadata": {
    "id": "Uh2y2RXDDZub"
   },
   "source": [
    "A harmonic bias simulation constraints a collective variable with a harmonic potential. This is useful for a variety of advanced sampling methods, in particular, umbrella sampling.\n",
    "\n",
    "For this Colab, we are generating a small system of soft DPD particles first. This system of soft particles allows fast reliable execution.\n",
    "For this, we use the [GSD](https://gsd.readthedocs.io/en/stable/) file format and its python frontend to generate the initial conditions.\n",
    "Since all particles are soft, it is OK to start with random positions inside the simulation box. We also assign random velocities drawn from the Maxwell-Boltzmann distribution. The final configuration is written to disk and can be opened by HOOMD-blue for simulations."
   ]
  },
  {
   "cell_type": "code",
   "execution_count": 8,
   "metadata": {
    "id": "aIP9vx8yDdr1"
   },
   "outputs": [],
   "source": [
    "import gsd\n",
    "import gsd.hoomd\n",
    "import numpy as np\n",
    "\n",
    "\n",
    "class System:\n",
    "    def __init__(self):\n",
    "        self.L = 5\n",
    "        self.N = 200\n",
    "\n",
    "\n",
    "def post_process_pos(snapshot):\n",
    "    box_size = snapshot.configuration.box[:3]\n",
    "    snapshot.particles.image = np.rint(snapshot.particles.position / box_size)\n",
    "    snapshot.particles.position -= snapshot.particles.image * box_size\n",
    "    return snapshot\n",
    "\n",
    "\n",
    "def get_snap(system):\n",
    "    L = system.L\n",
    "    snapshot = gsd.hoomd.Frame()\n",
    "    snapshot.configuration.box = [L, L, L, 0, 0, 0]\n",
    "\n",
    "    snapshot.particles.N = N = system.N\n",
    "    snapshot.particles.types = [\"A\"]\n",
    "    snapshot.particles.position = np.zeros((N, 3))\n",
    "    snapshot.particles.velocity = np.random.standard_normal((N, 3))\n",
    "    snapshot.particles.image = np.zeros((N, 3), dtype=int)\n",
    "    snapshot.particles.typeid = np.zeros(N, dtype=int)\n",
    "\n",
    "    rng = np.random.default_rng()\n",
    "    for particle in range(N):\n",
    "        snapshot.particles.position[particle, 0] = (rng.random() * L - L / 2)\n",
    "        snapshot.particles.position[particle, 1] = (rng.random() * L - L / 2)\n",
    "        snapshot.particles.position[particle, 2] = (rng.random() * L - L / 2)\n",
    "\n",
    "    return snapshot\n",
    "\n",
    "\n",
    "system = System()\n",
    "snap = get_snap(system)\n",
    "snap = post_process_pos(snap)\n",
    "snap.particles.validate()\n",
    "\n",
    "with gsd.hoomd.open(\"harmonic_start.gsd\", \"w\") as f:\n",
    "   f.append(snap)"
   ]
  },
  {
   "cell_type": "markdown",
   "metadata": {
    "id": "n0Rd-hMnCD-B"
   },
   "source": [
    "Next, we start running the system, we start with importing the required libraries.\n",
    "Noteworthy are here the hoomd and the pysages package.\n",
    "\n",
    "We are going to use a collective variable that constrains a particle position.\n",
    "In PySAGES the `Component` class from the `colvars` package can achieve this for us.\n",
    "\n",
    "The `HarmonicBias` class is responsible for introducing the bias into the simulation run,\n",
    "while `HistogramLogger` collects the state of the collective variable during the run."
   ]
  },
  {
   "cell_type": "code",
   "execution_count": 9,
   "metadata": {
    "colab": {
     "base_uri": "https://localhost:8080/"
    },
    "id": "HkHOzXMzExps",
    "outputId": "27c1f5c0-43d4-4911-f1f8-069709242593"
   },
   "outputs": [
    {
     "name": "stderr",
     "output_type": "stream",
     "text": [
      "WARNING:absl:No GPU/TPU found, falling back to CPU. (Set TF_CPP_MIN_LOG_LEVEL=0 and rerun for more info.)\n"
     ]
    }
   ],
   "source": [
    "import hoomd\n",
    "\n",
    "import pysages\n",
    "from pysages.colvars import Component\n",
    "from pysages.methods import HarmonicBias, HistogramLogger"
   ]
  },
  {
   "cell_type": "markdown",
   "metadata": {
    "id": "YibErIQhC0Lv"
   },
   "source": [
    "The next step is to write a function that generates the simulation context.\n",
    "Inside this function is the HOOMD-blue specific code, that you would normally write to execute a HOOMD-blue simulation. Here it is packaged into a function, such that PySAGES can deploy the simulation context when needed.\n",
    "In this case, we use the GSD file read in the initial, and define the DPD forcefield with parameters.\n",
    "DPD is a special case in HOOMD-blue. The thermostat is part of the pair-potential and not part of the integrator. Hence, we specify NVE integration and all thermostat parameter for NVT in the potential. The function returns the simulation context for PySAGES to work with.\n",
    "\n",
    "The second function is a helper function to generate the theoretically expected distribution of a harmonically biased simulation of an ideal gas in NVT. And helps to verify the results of the simulation."
   ]
  },
  {
   "cell_type": "code",
   "execution_count": 10,
   "metadata": {
    "id": "67488aXwQXba"
   },
   "outputs": [],
   "source": [
    "def generate_simulation(\n",
    "    kT=1, dt=0.01, A=5, gamma=1, r_cut=1,\n",
    "    device=hoomd.device.auto_select(), seed=42,\n",
    "    **kwargs\n",
    "):\n",
    "    \"\"\"\n",
    "    Generates a simulation context to which will attatch our sampling method.\n",
    "    \"\"\"\n",
    "    simulation = hoomd.Simulation(device=device, seed=seed)\n",
    "    simulation.create_state_from_gsd(\"harmonic_start.gsd\")\n",
    "    simulation.run(0)\n",
    "\n",
    "    nlist = hoomd.md.nlist.Cell(buffer=0.4)\n",
    "    dpd = hoomd.md.pair.DPD(nlist=nlist, kT=kT, default_r_cut=r_cut)\n",
    "    dpd.params[(\"A\", \"A\")] = dict(A=A, gamma=gamma)\n",
    "\n",
    "    nve = hoomd.md.methods.ConstantVolume(filter=hoomd.filter.All())\n",
    "\n",
    "    integrator = hoomd.md.Integrator(dt=dt)\n",
    "    integrator.forces.append(dpd)\n",
    "    integrator.methods.append(nve)\n",
    "    simulation.operations.integrator = integrator\n",
    "\n",
    "    return simulation\n",
    "\n",
    "\n",
    "def get_target_dist(center, k, lim, bins):\n",
    "    x = np.linspace(lim[0], lim[1], bins)\n",
    "    p = np.exp(-0.5 * k * (x - center)**2)\n",
    "    # norm numerically\n",
    "    p *= (lim[1] - lim[0]) / np.sum(p)\n",
    "    return p"
   ]
  },
  {
   "cell_type": "markdown",
   "metadata": {
    "id": "BgQ88M0sIfbp"
   },
   "source": [
    "The next step is to define the collective variables (CVs) we are interested in.\n",
    "In this case, we are using the `Component` CV to describe the position in space. We choose particle `[0]` for this and log in 3 different CVS the Z- `2`, Y- `1`, and X- `0` position of the particle.\n",
    "The center describes where we are restraining the CVs to, which is also specified for each of the CVs described earlier.\n",
    "\n",
    "Finally, we define the spring constant for the harmonic biasing potential and the `HarmonicBias` method itself."
   ]
  },
  {
   "cell_type": "code",
   "execution_count": 11,
   "metadata": {
    "id": "r911REinQdLF"
   },
   "outputs": [],
   "source": [
    "cvs = [Component([0], 2), Component([0], 1), Component([0], 0)]\n",
    "cv_centers = [0.0, 1.0, -0.3]\n",
    "k = 15\n",
    "method = HarmonicBias(cvs, k, cv_centers)"
   ]
  },
  {
   "cell_type": "markdown",
   "metadata": {
    "id": "bGIDE56RLCcP"
   },
   "source": [
    "Next, we define the `HistogramLogger` callback. The callback interacts with the simulation every timestep after the biasing. In this case, we use it to log the state of the collective variables every `100` time-steps.\n",
    "\n",
    "And we can finally run the simulations. This happens through the PySAGES method run and is transparent to the user which backend is running.\n",
    "Here, the run is just a simple simulation for the number of steps specified with the biasing potential. Other advanced sampling methods can have more advanced run schemes."
   ]
  },
  {
   "cell_type": "code",
   "execution_count": 12,
   "metadata": {
    "colab": {
     "base_uri": "https://localhost:8080/"
    },
    "id": "aOXCppWkQnJI",
    "outputId": "a34ae4f3-92a9-47ce-cac6-7a02f1aa4a72"
   },
   "outputs": [
    {
     "name": "stdout",
     "output_type": "stream",
     "text": [
      "HOOMD-blue v2.9.7 CUDA (11.1) DOUBLE HPMC_MIXED SSE SSE2 \n",
      "Compiled: 01/26/2022\n",
      "Copyright (c) 2009-2019 The Regents of the University of Michigan.\n",
      "-----\n",
      "You are using HOOMD-blue. Please cite the following:\n",
      "* J A Anderson, J Glaser, and S C Glotzer. \"HOOMD-blue: A Python package for\n",
      "  high-performance molecular dynamics and hard particle Monte Carlo\n",
      "  simulations\", Computational Materials Science 173 (2020) 109363\n",
      "-----\n",
      "no CUDA-capable device is detected\n",
      "HOOMD-blue is running on the CPU\n",
      "notice(2): Group \"all\" created containing 200 particles\n",
      "-----\n",
      "You are using DPD. Please cite the following:\n",
      "* C L Phillips, J A Anderson, and S C Glotzer. \"Pseudo-random number generation\n",
      "  for Brownian Dynamics and Dissipative Particle Dynamics simulations on GPU\n",
      "  devices\", Journal of Computational Physics 230 (2011) 7191--7201\n",
      "-----\n",
      "notice(2): -- Neighborlist exclusion statistics -- :\n",
      "notice(2): Particles with 0 exclusions             : 200\n",
      "notice(2): Neighbors included by diameter          : no\n",
      "notice(2): Neighbors excluded when in the same body: no\n",
      "** starting run **\n",
      "Time 00:00:09 | Step 10000 / 10000 | TPS 1172.75 | ETA 00:00:00\n",
      "Average TPS: 1172.55\n",
      "Simulation:  8.5334s | 100.000% \n",
      "        Integrate:  0.1414s |  1.657% \n",
      "                NVE step 1:  0.0533s |  0.624% \n",
      "                NVE step 2:  0.0330s |  0.387% \n",
      "                Net force:   0.0318s |  0.372% \n",
      "                Sum accel:   0.0000s |  0.000% \n",
      "                Self:        0.0233s |  0.273% \n",
      "        Neighbor:   1.6113s | 18.882% \n",
      "                Cell:        0.0359s |  0.421% \n",
      "                        compute:  0.0307s |  0.360% \n",
      "                        init:     0.0002s |  0.002% \n",
      "                Dist check:  0.0267s |  0.313% \n",
      "                compute:     1.5314s | 17.946% \n",
      "                head-list:   0.0002s |  0.002% \n",
      "                Self:        0.0171s |  0.200% \n",
      "        Pair dpd:   0.9522s | 11.158% \n",
      "        SFCPack:    0.3095s |  3.627% \n",
      "        Self:       5.5191s | 64.676% \n",
      "---------\n",
      "-- Neighborlist stats:\n",
      "1677 normal updates / 100 forced updates / 0 dangerous updates\n",
      "n_neigh_min: 0 / n_neigh_max: 22 / n_neigh_avg: 8.86500\n",
      "shortest rebuild period: 3\n",
      "-- Cell list stats:\n",
      "Dimension: 3, 3, 3\n",
      "n_min    : 3 / n_max: 11 / n_avg: 7.40741\n",
      "** run complete **\n"
     ]
    }
   ],
   "source": [
    "callback = HistogramLogger(100)\n",
    "pysages.run(method, generate_simulation, int(1e4), callback, {\"A\": 7.0})"
   ]
  },
  {
   "cell_type": "markdown",
   "metadata": {
    "id": "_vigR7XaMUD3"
   },
   "source": [
    "After the simulation run, we collect the results for comparison with the analytic prediction for an ideal gas.\n",
    "First, we generate the analytic predictions for each of the CVs in a list `target_hist`.\n",
    "\n",
    "After that, we are using the collected results from the callback to build the histograms from the simulations, and store the results in `hist_list`."
   ]
  },
  {
   "cell_type": "code",
   "execution_count": 13,
   "metadata": {
    "id": "jBiATDSaSqUw"
   },
   "outputs": [],
   "source": [
    "Lmax = 5.0\n",
    "bins = 25\n",
    "target_hist = []\n",
    "\n",
    "for i in range(len(center_cv)):\n",
    "    target_hist.append(\n",
    "        get_target_dist(center_cv[i], k, (-Lmax / 2, Lmax / 2), bins)\n",
    "    )\n",
    "\n",
    "lims = [(-Lmax / 2, Lmax / 2) for i in range(3)]\n",
    "hist, edges = callback.get_histograms(bins=bins, range=lims)\n",
    "hist_list = [\n",
    "    np.sum(hist, axis=(1, 2)) / (Lmax ** 2),\n",
    "    np.sum(hist, axis=(0, 2)) / (Lmax ** 2),\n",
    "    np.sum(hist, axis=(0, 1)) / (Lmax ** 2),\n",
    "]\n",
    "lim = (-Lmax / 2, Lmax / 2)"
   ]
  },
  {
   "cell_type": "markdown",
   "metadata": {
    "id": "2xwriftjNKgz"
   },
   "source": [
    "Finally, we want to evaluate how the simulations turned out.\n",
    "We use matplotlib to visualize the expected (dashed) and actual results of the simulations (solid)."
   ]
  },
  {
   "cell_type": "code",
   "execution_count": 14,
   "metadata": {
    "colab": {
     "base_uri": "https://localhost:8080/",
     "height": 301
    },
    "id": "ZCkylgdvS3To",
    "outputId": "440269b2-ef60-4bce-b9fc-f34c823c8299"
   },
   "outputs": [
    {
     "data": {
      "text/plain": [
       "<matplotlib.legend.Legend at 0x7f153d728150>"
      ]
     },
     "execution_count": 14,
     "metadata": {},
     "output_type": "execute_result"
    },
    {
     "data": {
      "image/png": "[encoded data removed]",
      "text/plain": [
       "<Figure size 432x288 with 1 Axes>"
      ]
     },
     "metadata": {
      "needs_background": "light"
     },
     "output_type": "display_data"
    }
   ],
   "source": [
    "import matplotlib.pyplot as plt\n",
    "\n",
    "fig, ax = plt.subplots()\n",
    "\n",
    "ax.set_xlabel(r\"CV $\\xi_i$\")\n",
    "ax.set_ylabel(r\"$p(\\xi_i)$\")\n",
    "\n",
    "x = np.linspace(lim[0], lim[1], hist_list[0].shape[0])\n",
    "\n",
    "for i in range(len(hist_list)):\n",
    "    (line,) = ax.plot(x, hist_list[i], label=\"i= {0}\".format(i))\n",
    "    ax.plot(x, target_hist[i], \"--\", color=line.get_color())\n",
    "\n",
    "ax.legend(loc=\"best\")\n",
    "\n",
    "fig.show()"
   ]
  },
  {
   "cell_type": "markdown",
   "metadata": {
    "id": "IXryBllMNiKM"
   },
   "source": [
    "We can see, that the particle positions are indeed centered around the constraints we set up earlier. Also, we see the shape of the histograms is very similar to the expected analytical prediction. We expect this since a liquid of soft particles is not that much different from an ideal gas."
   ]
  }
 ],
 "metadata": {
  "accelerator": "GPU",
  "colab": {
   "collapsed_sections": [],
   "name": "Harmonic-Bias-PySAGES-HOOMD.ipynb",
   "provenance": [],
   "toc_visible": true
  },
  "jupytext": {
   "formats": "ipynb,md",
   "main_language": "python"
  },
  "kernelspec": {
   "display_name": "Python 3",
   "name": "python3"
  },
  "language_info": {
   "name": "python"
  }
 },
 "nbformat": 4,
 "nbformat_minor": 0
}
