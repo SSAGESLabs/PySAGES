{
 "cells": [
  {
   "cell_type": "markdown",
   "metadata": {
    "id": "T-Qkg9C9n7Cc"
   },
   "source": [
    "# Setting up the environment\n",
    "\n",
    "First, we set up our environment. We will be using a pre-compiled and packaged installation of HOOMD-blue and the hoomd-dlext plugin.\n",
    "It will be downloaded from Google Drive and made accessible to the Python process running in this Colab instance."
   ]
  },
  {
   "cell_type": "code",
   "execution_count": 1,
   "metadata": {
    "id": "3eTbKklCnyd_"
   },
   "outputs": [],
   "source": [
    "%%bash\n",
    "\n",
    "BASE_URL=\"https://drive.usercontent.google.com/download?id=1hsKkKtdxZTVfHKgqVF6qV2e-4SShmhr7\"\n",
    "COOKIES=\"/tmp/cookies.txt\"\n",
    "CONFIRMATION=\"$(wget -q --save-cookies $COOKIES --keep-session-cookies --no-check-certificate $BASE_URL -O- | sed -rn 's/.*confirm=(\\w+).*/\\1\\n/p')\"\n",
    "\n",
    "wget -q --load-cookies $COOKIES \"$BASE_URL&confirm=$CONFIRMATION\" -O pysages-env.zip\n",
    "rm -rf $COOKIES"
   ]
  },
  {
   "cell_type": "code",
   "execution_count": 2,
   "metadata": {
    "colab": {
     "base_uri": "https://localhost:8080/"
    },
    "id": "KRPmkpd9n_NG",
    "outputId": "acc3a92c-182f-415b-d8dc-b5af076b3d01"
   },
   "outputs": [
    {
     "name": "stdout",
     "output_type": "stream",
     "text": [
      "env: PYSAGES_ENV=/env/pysages\n"
     ]
    }
   ],
   "source": [
    "%env PYSAGES_ENV=/env/pysages"
   ]
  },
  {
   "cell_type": "code",
   "execution_count": 3,
   "metadata": {
    "id": "J7OY5K9VoBBh"
   },
   "outputs": [],
   "source": [
    "%%bash\n",
    "\n",
    "mkdir -p $PYSAGES_ENV .\n",
    "unzip -qquo pysages-env.zip -d $PYSAGES_ENV"
   ]
  },
  {
   "cell_type": "code",
   "execution_count": 5,
   "metadata": {
    "id": "EMAWp8VloIk4"
   },
   "outputs": [],
   "source": [
    "import os\n",
    "import sys\n",
    "\n",
    "ver = sys.version_info\n",
    "sys.path.append(os.environ[\"PYSAGES_ENV\"] + \"/lib/python\" + str(ver.major) + \".\" + str(ver.minor) + \"/site-packages/\")\n",
    "\n",
    "os.environ[\"LD_LIBRARY_PATH\"] = \"/usr/lib/x86_64-linux-gnu:\" + os.environ[\"LD_LIBRARY_PATH\"]"
   ]
  },
  {
   "cell_type": "markdown",
   "metadata": {
    "id": "Wy-75Pt7Bqs1"
   },
   "source": [
    "We'll also need some additional python dependencies"
   ]
  },
  {
   "cell_type": "code",
   "execution_count": 6,
   "metadata": {
    "id": "LpBucu3V81xm"
   },
   "outputs": [
    {
     "name": "stderr",
     "output_type": "stream",
     "text": [
      "WARNING: Running pip as the 'root' user can result in broken permissions and conflicting behaviour with the system package manager. It is recommended to use a virtual environment instead: https://pip.pypa.io/warnings/venv\n"
     ]
    }
   ],
   "source": [
    "!pip install -qq \"numpy<2\" gsd > /dev/null"
   ]
  },
  {
   "cell_type": "markdown",
   "metadata": {
    "id": "we_mTkFioS6R"
   },
   "source": [
    "## PySAGES\n",
    "\n",
    "Next, we install PySAGES. The latest version is retrieved from GitHub and installed (along with its dependencies) using `pip`."
   ]
  },
  {
   "cell_type": "code",
   "execution_count": 7,
   "metadata": {
    "id": "B-HB9CzioV5j"
   },
   "outputs": [],
   "source": [
    "!pip install -qq git+https://github.com/SSAGESLabs/PySAGES.git > /dev/null"
   ]
  },
  {
   "cell_type": "markdown",
   "metadata": {
    "id": "KBFVcG1FoeMq"
   },
   "source": [
    "# FUNN-biased simulations"
   ]
  },
  {
   "cell_type": "code",
   "execution_count": 8,
   "metadata": {
    "id": "ppTzMmyyobHB"
   },
   "outputs": [
    {
     "name": "stderr",
     "output_type": "stream",
     "text": [
      "mkdir: cannot create directory ‘/content/funn’: File exists\n"
     ]
    }
   ],
   "source": [
    "%%bash\n",
    "\n",
    "mkdir /content/funn\n",
    "cd /content/funn"
   ]
  },
  {
   "cell_type": "markdown",
   "metadata": {
    "id": "0W2ukJuuojAl"
   },
   "source": [
    "FUNN gradually learns the free energy gradient from a discrete estimate based on the same algorithm as the ABF method, but employs a neural network to provide a continuous approximation to it.\n",
    "\n",
    "In this Colab notebook, we will use butane as an example system."
   ]
  },
  {
   "cell_type": "code",
   "execution_count": 9,
   "metadata": {
    "id": "BBvC7Spoog82"
   },
   "outputs": [],
   "source": [
    "import hoomd\n",
    "import gsd.hoomd\n",
    "import numpy as np\n",
    "\n",
    "\n",
    "pi = np.pi\n",
    "kT = 0.596161\n",
    "dt = 0.02045\n",
    "\n",
    "\n",
    "def generate_simulation(kT = kT, dt = dt, device = hoomd.device.auto_select(), seed = 42):\n",
    "    \"\"\"\n",
    "    Generates a simulation context to which will attatch our sampling method.\n",
    "    \"\"\"\n",
    "    simulation = hoomd.Simulation(device=device, seed=seed)\n",
    "\n",
    "    snapshot = gsd.hoomd.Frame()\n",
    "\n",
    "    snapshot.configuration.box = [41, 41, 41, 0, 0, 0]\n",
    "\n",
    "    snapshot.particles.N = N = 14\n",
    "    snapshot.particles.types = [\"C\", \"H\"]\n",
    "    snapshot.particles.typeid = np.zeros(N, dtype=int)\n",
    "    snapshot.particles.position = np.zeros((N, 3))\n",
    "    snapshot.particles.mass = np.zeros(N, dtype=float)\n",
    "    snapshot.particles.charge = np.zeros(N, dtype=float)\n",
    "    snapshot.particles.typeid[0] = 0\n",
    "    snapshot.particles.typeid[1:4] = 1\n",
    "    snapshot.particles.typeid[4] = 0\n",
    "    snapshot.particles.typeid[5:7] = 1\n",
    "    snapshot.particles.typeid[7] = 0\n",
    "    snapshot.particles.typeid[8:10] = 1\n",
    "    snapshot.particles.typeid[10] = 0\n",
    "    snapshot.particles.typeid[11:14] = 1\n",
    "\n",
    "    positions = np.array(\n",
    "        [\n",
    "            [-2.990196, 0.097881, 0.000091],\n",
    "            [-2.634894, -0.911406, 0.001002],\n",
    "            [-2.632173, 0.601251, -0.873601],\n",
    "            [-4.060195, 0.099327, -0.000736],\n",
    "            [-2.476854, 0.823942, 1.257436],\n",
    "            [-2.832157, 1.833228, 1.256526],\n",
    "            [-2.834877, 0.320572, 2.131128],\n",
    "            [-0.936856, 0.821861, 1.258628],\n",
    "            [-0.578833, 1.325231, 0.384935],\n",
    "            [-0.581553, -0.187426, 1.259538],\n",
    "            [-0.423514, 1.547922, 2.515972],\n",
    "            [-0.781537, 1.044552, 3.389664],\n",
    "            [0.646485, 1.546476, 2.516800],\n",
    "            [-0.778816, 2.557208, 2.515062],\n",
    "        ]\n",
    "    )\n",
    "\n",
    "    reference_box_low_coords = np.array([-22.206855, -19.677099, -19.241968])\n",
    "    box_low_coords = np.array([-41.0 / 2, -41.0 / 2, -41.0 / 2])\n",
    "    positions += box_low_coords - reference_box_low_coords\n",
    "\n",
    "    snapshot.particles.position[:] = positions[:]\n",
    "\n",
    "    mC = 12.00\n",
    "    mH = 1.008\n",
    "\n",
    "    # fmt: off\n",
    "    snapshot.particles.mass[:] = [\n",
    "        mC, mH, mH, mH,  # grouped by carbon atoms\n",
    "        mC, mH, mH,\n",
    "        mC, mH, mH,\n",
    "        mC, mH, mH, mH,\n",
    "    ]\n",
    "\n",
    "    reference_charges = np.array(\n",
    "        [\n",
    "            -0.180000, 0.060000, 0.060000, 0.060000,  # grouped by carbon atoms\n",
    "            -0.120000, 0.060000, 0.060000,\n",
    "            -0.120000, 0.060000, 0.060000,\n",
    "            -0.180000, 0.060000, 0.060000, 0.060000,\n",
    "        ]\n",
    "    )\n",
    "    # fmt: on\n",
    "\n",
    "    charge_conversion = 18.22262\n",
    "    snapshot.particles.charge[:] = charge_conversion * reference_charges[:]\n",
    "\n",
    "    snapshot.particles.validate()\n",
    "\n",
    "    snapshot.bonds.N = 13\n",
    "    snapshot.bonds.types = [\"CC\", \"CH\"]\n",
    "    snapshot.bonds.typeid = np.zeros(13, dtype=int)\n",
    "    snapshot.bonds.typeid[0:3] = 1\n",
    "    snapshot.bonds.typeid[3] = 0\n",
    "    snapshot.bonds.typeid[4:6] = 1\n",
    "    snapshot.bonds.typeid[6] = 0\n",
    "    snapshot.bonds.typeid[7:9] = 1\n",
    "    snapshot.bonds.typeid[9] = 0\n",
    "    snapshot.bonds.typeid[10:13] = 1\n",
    "\n",
    "    snapshot.bonds.group = np.zeros((13, 2), dtype=int)\n",
    "    # fmt: off\n",
    "    snapshot.bonds.group[:] = [\n",
    "        [0, 2], [0, 1], [0, 3], [0, 4],  # grouped by carbon atoms\n",
    "        [4, 5], [4, 6], [4, 7],\n",
    "        [7, 8], [7, 9], [7, 10],\n",
    "        [10, 11], [10, 12], [10, 13],\n",
    "    ]\n",
    "    # fmt: on\n",
    "\n",
    "    snapshot.angles.N = 24\n",
    "    snapshot.angles.types = [\"CCC\", \"CCH\", \"HCH\"]\n",
    "    snapshot.angles.typeid = np.zeros(24, dtype=int)\n",
    "    snapshot.angles.typeid[0:2] = 2\n",
    "    snapshot.angles.typeid[2] = 1\n",
    "    snapshot.angles.typeid[3] = 2\n",
    "    snapshot.angles.typeid[4:8] = 1\n",
    "    snapshot.angles.typeid[8] = 0\n",
    "    snapshot.angles.typeid[9] = 2\n",
    "    snapshot.angles.typeid[10:14] = 1\n",
    "    snapshot.angles.typeid[14] = 0\n",
    "    snapshot.angles.typeid[15] = 2\n",
    "    snapshot.angles.typeid[16:21] = 1\n",
    "    snapshot.angles.typeid[21:24] = 2\n",
    "\n",
    "    snapshot.angles.group = np.zeros((24, 3), dtype=int)\n",
    "    # fmt: off\n",
    "    snapshot.angles.group[:] = [\n",
    "        [1, 0, 2], [2, 0, 3], [2, 0, 4],  # grouped by carbon atoms\n",
    "        [1, 0, 3], [1, 0, 4], [3, 0, 4],\n",
    "        # ---\n",
    "        [0, 4, 5], [0, 4, 6], [0, 4, 7],\n",
    "        [5, 4, 6], [5, 4, 7], [6, 4, 7],\n",
    "        # ---\n",
    "        [4, 7, 8], [4, 7, 9], [4, 7, 10],\n",
    "        [8, 7, 9], [8, 7, 10], [9, 7, 10],\n",
    "        # ---\n",
    "        [7, 10, 11], [7, 10, 12], [7, 10, 13],\n",
    "        [11, 10, 12], [11, 10, 13], [12, 10, 13],\n",
    "    ]\n",
    "    # fmt: on\n",
    "\n",
    "    snapshot.dihedrals.N = 27\n",
    "    snapshot.dihedrals.types = [\"CCCC\", \"HCCC\", \"HCCH\"]\n",
    "    snapshot.dihedrals.typeid = np.zeros(27, dtype=int)\n",
    "    snapshot.dihedrals.typeid[0:2] = 2\n",
    "    snapshot.dihedrals.typeid[2] = 1\n",
    "    snapshot.dihedrals.typeid[3:5] = 2\n",
    "    snapshot.dihedrals.typeid[5] = 1\n",
    "    snapshot.dihedrals.typeid[6:8] = 2\n",
    "    snapshot.dihedrals.typeid[8:11] = 1\n",
    "    snapshot.dihedrals.typeid[11] = 0\n",
    "    snapshot.dihedrals.typeid[12:14] = 2\n",
    "    snapshot.dihedrals.typeid[14] = 1\n",
    "    snapshot.dihedrals.typeid[15:17] = 2\n",
    "    snapshot.dihedrals.typeid[17:21] = 1\n",
    "    snapshot.dihedrals.typeid[21:27] = 2\n",
    "\n",
    "    snapshot.dihedrals.group = np.zeros((27, 4), dtype=int)\n",
    "    # fmt: off\n",
    "    snapshot.dihedrals.group[:] = [\n",
    "        [2, 0, 4, 5], [2, 0, 4, 6], [2, 0, 4, 7],  # grouped by pairs of central atoms\n",
    "        [1, 0, 4, 5], [1, 0, 4, 6], [1, 0, 4, 7],\n",
    "        [3, 0, 4, 5], [3, 0, 4, 6], [3, 0, 4, 7],\n",
    "        # ---\n",
    "        [0, 4, 7, 8], [0, 4, 7, 9], [0, 4, 7, 10],\n",
    "        [5, 4, 7, 8], [5, 4, 7, 9], [5, 4, 7, 10],\n",
    "        [6, 4, 7, 8], [6, 4, 7, 9], [6, 4, 7, 10],\n",
    "        # ---\n",
    "        [4, 7, 10, 11], [4, 7, 10, 12], [4, 7, 10, 13],\n",
    "        [8, 7, 10, 11], [8, 7, 10, 12], [8, 7, 10, 13],\n",
    "        [9, 7, 10, 11], [9, 7, 10, 12], [9, 7, 10, 13],\n",
    "    ]\n",
    "    # fmt: on\n",
    "\n",
    "    snapshot.pairs.N = 27\n",
    "    snapshot.pairs.types = [\"CCCC\", \"HCCC\", \"HCCH\"]\n",
    "    snapshot.pairs.typeid = np.zeros(27, dtype=int)\n",
    "    snapshot.pairs.typeid[0:1] = 0\n",
    "    snapshot.pairs.typeid[1:11] = 1\n",
    "    snapshot.pairs.typeid[11:27] = 2\n",
    "    snapshot.pairs.group = np.zeros((27, 2), dtype=int)\n",
    "    # fmt: off\n",
    "    snapshot.pairs.group[:] = [\n",
    "        # CCCC\n",
    "        [0, 10],\n",
    "        # HCCC\n",
    "        [0, 8],\n",
    "        [0, 9],\n",
    "        [5, 10], [6, 10],\n",
    "        [1, 7], [2, 7], [3, 7],\n",
    "        [11, 4], [12, 4], [13, 4],\n",
    "        # HCCH\n",
    "        [1, 5], [1, 6],\n",
    "        [2, 5], [2, 6],\n",
    "        [3, 5], [3, 6],\n",
    "        [5, 8], [6, 8],\n",
    "        [5, 9], [6, 9],\n",
    "        [8, 11], [8, 12], [8, 13],\n",
    "        [9, 11], [9, 12], [9, 13],\n",
    "    ]\n",
    "    # fmt: on\n",
    "\n",
    "    simulation.create_state_from_snapshot(snapshot, domain_decomposition=(None, None, None))\n",
    "    simulation.run(0)\n",
    "\n",
    "    exclusions = [\"bond\", \"1-3\", \"1-4\"]\n",
    "    nl = hoomd.md.nlist.Cell(buffer=0.4, exclusions=exclusions)\n",
    "    lj = hoomd.md.pair.LJ(nlist=nl, default_r_cut=12.0)\n",
    "    lj.params[(\"C\", \"C\")] = dict(epsilon=0.07, sigma=3.55)\n",
    "    lj.params[(\"H\", \"H\")] = dict(epsilon=0.03, sigma=2.42)\n",
    "    lj.params[(\"C\", \"H\")] = dict(epsilon=np.sqrt(0.07 * 0.03), sigma=np.sqrt(3.55 * 2.42))\n",
    "\n",
    "    coulomb = hoomd.md.long_range.pppm.make_pppm_coulomb_forces(\n",
    "        nlist=nl, resolution=[64, 64, 64], order=6, r_cut=12.0\n",
    "    )\n",
    "\n",
    "    harmonic = hoomd.md.bond.Harmonic()\n",
    "    harmonic.params[\"CC\"] = dict(k=2 * 268.0, r0=1.529)\n",
    "    harmonic.params[\"CH\"] = dict(k=2 * 340.0, r0=1.09)\n",
    "\n",
    "    angle = hoomd.md.angle.Harmonic()\n",
    "    angle.params[\"CCC\"] = dict(k=2 * 58.35, t0=112.7 * pi / 180)\n",
    "    angle.params[\"CCH\"] = dict(k=2 * 37.5, t0=110.7 * pi / 180)\n",
    "    angle.params[\"HCH\"] = dict(k=2 * 33.0, t0=107.8 * pi / 180)\n",
    "\n",
    "    dihedral = hoomd.md.dihedral.OPLS()\n",
    "    dihedral.params[\"CCCC\"] = dict(k1=1.3, k2=-0.05, k3=0.2, k4=0.0)\n",
    "    dihedral.params[\"HCCC\"] = dict(k1=0.0, k2=0.0, k3=0.3, k4=0.0)\n",
    "    dihedral.params[\"HCCH\"] = dict(k1=0.0, k2=0.0, k3=0.3, k4=0.0)\n",
    "\n",
    "    lj_special_pairs = hoomd.md.special_pair.LJ()\n",
    "    lj_special_pairs.params[\"CCCC\"] = dict(epsilon=0.07, sigma=3.55)\n",
    "    lj_special_pairs.params[\"HCCH\"] = dict(epsilon=0.03, sigma=2.42)\n",
    "    lj_special_pairs.params[\"HCCC\"] = dict(epsilon=np.sqrt(0.07 * 0.03), sigma=np.sqrt(3.55 * 2.42))\n",
    "    lj_special_pairs.r_cut[\"CCCC\"] = 12.0\n",
    "    lj_special_pairs.r_cut[\"HCCC\"] = 12.0\n",
    "    lj_special_pairs.r_cut[\"HCCH\"] = 12.0\n",
    "    coulomb_special_pairs = hoomd.md.special_pair.Coulomb()\n",
    "    coulomb_special_pairs.params[\"CCCC\"] = dict(alpha=0.5)\n",
    "    coulomb_special_pairs.params[\"HCCC\"] = dict(alpha=0.5)\n",
    "    coulomb_special_pairs.params[\"HCCH\"] = dict(alpha=0.5)\n",
    "    coulomb_special_pairs.r_cut[\"HCCH\"] = 12.0\n",
    "    coulomb_special_pairs.r_cut[\"CCCC\"] = 12.0\n",
    "    coulomb_special_pairs.r_cut[\"HCCC\"] = 12.0\n",
    "\n",
    "    nvt = hoomd.md.methods.Langevin(filter=hoomd.filter.All(), kT=kT)\n",
    "\n",
    "    integrator = hoomd.md.Integrator(dt=dt)\n",
    "    integrator.forces.append(lj)\n",
    "    integrator.forces.append(coulomb[0])\n",
    "    integrator.forces.append(coulomb[1])\n",
    "    integrator.forces.append(harmonic)\n",
    "    integrator.forces.append(angle)\n",
    "    integrator.forces.append(dihedral)\n",
    "    integrator.forces.append(lj_special_pairs)\n",
    "    integrator.forces.append(coulomb_special_pairs)\n",
    "    integrator.methods.append(nvt)\n",
    "    simulation.operations.integrator = integrator\n",
    "\n",
    "    return simulation"
   ]
  },
  {
   "cell_type": "markdown",
   "metadata": {
    "id": "3UrzENm_oo6U"
   },
   "source": [
    "Next, we import PySAGES and the necessary classes and methods for our simulation"
   ]
  },
  {
   "cell_type": "code",
   "execution_count": 10,
   "metadata": {
    "id": "fpMg-o8WomAA"
   },
   "outputs": [],
   "source": [
    "from pysages.grids import Grid\n",
    "from pysages.colvars import DihedralAngle\n",
    "from pysages.methods import FUNN\n",
    "\n",
    "import pysages"
   ]
  },
  {
   "cell_type": "markdown",
   "metadata": {
    "id": "LknkRvo1o4av"
   },
   "source": [
    "\n",
    "The next step is to define the collective variable (CV). In this case, we choose the central dihedral angle.\n",
    "\n",
    "We also define a grid to bin our CV space, the topology (tuple indicating the number of\n",
    "nodes of each hidden layer) for our neural network which will model the free energy.\n",
    "\n",
    "The appropriate number of bins depends on the complexity of the free energy landscape,\n",
    "a good rule of thumb is to choose between 20 to 100 bins along each CV dimension\n",
    "(using higher values for more rugged free energy surfaces), but it can be systematically\n",
    "found trying different values for short runs of any given system.\n"
   ]
  },
  {
   "cell_type": "code",
   "execution_count": 11,
   "metadata": {
    "id": "B1Z8FWz0o7u_"
   },
   "outputs": [],
   "source": [
    "cvs = [DihedralAngle([0, 4, 7, 10])]\n",
    "grid = Grid(lower=(-pi,), upper=(pi,), shape=(64,), periodic=True)\n",
    "\n",
    "topology = (14,)\n",
    "method = FUNN(cvs, grid, topology)"
   ]
  },
  {
   "cell_type": "markdown",
   "metadata": {
    "id": "Fz8BfU34pA_N"
   },
   "source": [
    "\n",
    "We will now run a simulation for $5\\times10^5$ time steps.\n",
    "For optimal performance, ensure that the simulation is executed with GPU acceleration. Otherwise, it may take a considerably longer time to complete.\n"
   ]
  },
  {
   "cell_type": "code",
   "execution_count": 12,
   "metadata": {
    "colab": {
     "base_uri": "https://localhost:8080/"
    },
    "id": "K951m4BbpUar",
    "outputId": "f3e79872-41da-479a-caec-5bca7a6792e5"
   },
   "outputs": [
    {
     "name": "stdout",
     "output_type": "stream",
     "text": [
      "HOOMD-blue v2.9.7 CUDA (11.1) DOUBLE HPMC_MIXED SSE SSE2 \n",
      "Compiled: 07/07/2022\n",
      "Copyright (c) 2009-2019 The Regents of the University of Michigan.\n",
      "-----\n",
      "You are using HOOMD-blue. Please cite the following:\n",
      "* J A Anderson, J Glaser, and S C Glotzer. \"HOOMD-blue: A Python package for\n",
      "  high-performance molecular dynamics and hard particle Monte Carlo\n",
      "  simulations\", Computational Materials Science 173 (2020) 109363\n",
      "-----\n",
      "HOOMD-blue is running on the following GPU(s):\n",
      " [0]              Tesla T4  40 SM_7.5 @ 1.59 GHz, 15109 MiB DRAM, MNG\n",
      "notice(2): Group \"all\" created containing 14 particles\n",
      "notice(2): -- Neighborlist exclusion statistics -- :\n",
      "notice(2): Particles with 7 exclusions             : 6\n",
      "notice(2): Particles with 10 exclusions             : 6\n",
      "notice(2): Particles with 13 exclusions             : 2\n",
      "notice(2): Neighbors included by diameter          : no\n",
      "notice(2): Neighbors excluded when in the same body: no\n",
      "notice(2): Group \"charged\" created containing 14 particles\n",
      "-----\n",
      "You are using PPPM. Please cite the following:\n",
      "* D N LeBard, B G Levine, S A Barr, A Jusufi, S Sanders, M L Klein, and A Z\n",
      "  Panagiotopoulos. \"Self-assembly of coarse-grained ionic surfactants\n",
      "  accelerated by graphics processing units\", Journal of Computational Physics 8\n",
      "  (2012) 2385-2397\n",
      "-----\n"
     ]
    },
    {
     "name": "stdout",
     "output_type": "stream",
     "text": [
      "** starting run **\n",
      "notice(2): charge.pppm: RMS error: 1.29239e-08\n"
     ]
    },
    {
     "name": "stdout",
     "output_type": "stream",
     "text": [
      "Time 00:00:15 | Step 2382 / 500000 | TPS 238.192 | ETA 00:34:49\n",
      "Time 00:00:25 | Step 9800 / 500000 | TPS 741.731 | ETA 00:11:00\n",
      "Time 00:00:35 | Step 16594 / 500000 | TPS 679.375 | ETA 00:11:51\n",
      "Time 00:00:45 | Step 23699 / 500000 | TPS 710.482 | ETA 00:11:10\n",
      "Time 00:00:55 | Step 30685 / 500000 | TPS 698.565 | ETA 00:11:11\n",
      "Time 00:01:05 | Step 38038 / 500000 | TPS 735.282 | ETA 00:10:28\n",
      "Time 00:01:15 | Step 44802 / 500000 | TPS 676.339 | ETA 00:11:13\n",
      "Time 00:01:25 | Step 51935 / 500000 | TPS 713.242 | ETA 00:10:28\n",
      "Time 00:01:35 | Step 59345 / 500000 | TPS 740.912 | ETA 00:09:54\n",
      "Time 00:01:45 | Step 66486 / 500000 | TPS 714.031 | ETA 00:10:07\n",
      "Time 00:01:55 | Step 73877 / 500000 | TPS 739.073 | ETA 00:09:36\n",
      "Time 00:02:05 | Step 81221 / 500000 | TPS 734.045 | ETA 00:09:30\n",
      "Time 00:02:15 | Step 88551 / 500000 | TPS 732.972 | ETA 00:09:21\n",
      "Time 00:02:25 | Step 95662 / 500000 | TPS 711.075 | ETA 00:09:28\n",
      "Time 00:02:35 | Step 102927 / 500000 | TPS 726.454 | ETA 00:09:06\n",
      "Time 00:02:45 | Step 110189 / 500000 | TPS 726.175 | ETA 00:08:56\n",
      "Time 00:02:55 | Step 117219 / 500000 | TPS 702.939 | ETA 00:09:04\n",
      "Time 00:03:05 | Step 124386 / 500000 | TPS 716.627 | ETA 00:08:44\n",
      "Time 00:03:15 | Step 131649 / 500000 | TPS 726.238 | ETA 00:08:27\n",
      "Time 00:03:25 | Step 138980 / 500000 | TPS 733.08 | ETA 00:08:12\n",
      "Time 00:03:35 | Step 146259 / 500000 | TPS 727.83 | ETA 00:08:06\n",
      "Time 00:03:45 | Step 153598 / 500000 | TPS 733.834 | ETA 00:07:52\n",
      "Time 00:03:55 | Step 160870 / 500000 | TPS 727.165 | ETA 00:07:46\n",
      "Time 00:04:05 | Step 168150 / 500000 | TPS 727.977 | ETA 00:07:35\n",
      "Time 00:04:15 | Step 175412 / 500000 | TPS 726.142 | ETA 00:07:27\n",
      "Time 00:04:25 | Step 182753 / 500000 | TPS 734.066 | ETA 00:07:12\n",
      "Time 00:04:35 | Step 190001 / 500000 | TPS 721.559 | ETA 00:07:09\n",
      "Time 00:04:45 | Step 197404 / 500000 | TPS 740.255 | ETA 00:06:48\n",
      "Time 00:04:55 | Step 204713 / 500000 | TPS 730.888 | ETA 00:06:44\n",
      "Time 00:05:05 | Step 212053 / 500000 | TPS 733.967 | ETA 00:06:32\n",
      "Time 00:05:15 | Step 219418 / 500000 | TPS 736.472 | ETA 00:06:20\n",
      "Time 00:05:25 | Step 226762 / 500000 | TPS 734.326 | ETA 00:06:12\n",
      "Time 00:05:35 | Step 233828 / 500000 | TPS 706.592 | ETA 00:06:16\n",
      "Time 00:05:45 | Step 240993 / 500000 | TPS 716.425 | ETA 00:06:01\n",
      "Time 00:05:55 | Step 248322 / 500000 | TPS 732.826 | ETA 00:05:43\n",
      "Time 00:06:05 | Step 255645 / 500000 | TPS 732.213 | ETA 00:05:33\n",
      "Time 00:06:15 | Step 263035 / 500000 | TPS 738.913 | ETA 00:05:20\n",
      "Time 00:06:25 | Step 270349 / 500000 | TPS 731.387 | ETA 00:05:13\n",
      "Time 00:06:35 | Step 277694 / 500000 | TPS 734.447 | ETA 00:05:02\n",
      "Time 00:06:45 | Step 285001 / 500000 | TPS 730.286 | ETA 00:04:54\n",
      "Time 00:06:55 | Step 292333 / 500000 | TPS 733.145 | ETA 00:04:43\n",
      "Time 00:07:05 | Step 299675 / 500000 | TPS 734.125 | ETA 00:04:32\n",
      "Time 00:07:15 | Step 307066 / 500000 | TPS 739.064 | ETA 00:04:21\n",
      "Time 00:07:25 | Step 314514 / 500000 | TPS 744.769 | ETA 00:04:09\n",
      "Time 00:07:35 | Step 321962 / 500000 | TPS 744.749 | ETA 00:03:59\n",
      "Time 00:07:45 | Step 329389 / 500000 | TPS 742.647 | ETA 00:03:49\n",
      "Time 00:07:55 | Step 336764 / 500000 | TPS 737.498 | ETA 00:03:41\n",
      "Time 00:08:05 | Step 344194 / 500000 | TPS 742.825 | ETA 00:03:29\n",
      "Time 00:08:15 | Step 351001 / 500000 | TPS 680.669 | ETA 00:03:38\n",
      "Time 00:08:25 | Step 358207 / 500000 | TPS 720.552 | ETA 00:03:16\n",
      "Time 00:08:35 | Step 365515 / 500000 | TPS 730.713 | ETA 00:03:04\n",
      "Time 00:08:45 | Step 372786 / 500000 | TPS 727.084 | ETA 00:02:54\n",
      "Time 00:08:55 | Step 380039 / 500000 | TPS 725.232 | ETA 00:02:45\n",
      "Time 00:09:05 | Step 387469 / 500000 | TPS 742.9 | ETA 00:02:31\n",
      "Time 00:09:15 | Step 394910 / 500000 | TPS 744.028 | ETA 00:02:21\n",
      "Time 00:09:25 | Step 402050 / 500000 | TPS 713.989 | ETA 00:02:17\n",
      "Time 00:09:35 | Step 409480 / 500000 | TPS 742.954 | ETA 00:02:01\n",
      "Time 00:09:45 | Step 416909 / 500000 | TPS 742.893 | ETA 00:01:51\n",
      "Time 00:09:55 | Step 424338 / 500000 | TPS 742.894 | ETA 00:01:41\n",
      "Time 00:10:05 | Step 431758 / 500000 | TPS 741.955 | ETA 00:01:31\n",
      "Time 00:10:15 | Step 439226 / 500000 | TPS 746.72 | ETA 00:01:21\n",
      "Time 00:10:25 | Step 446648 / 500000 | TPS 742.13 | ETA 00:01:11\n",
      "Time 00:10:35 | Step 454097 / 500000 | TPS 744.802 | ETA 00:01:01\n",
      "Time 00:10:45 | Step 461493 / 500000 | TPS 739.54 | ETA 00:00:52\n",
      "Time 00:10:55 | Step 468989 / 500000 | TPS 749.58 | ETA 00:00:41\n",
      "Time 00:11:05 | Step 476190 / 500000 | TPS 720.017 | ETA 00:00:33\n",
      "Time 00:11:15 | Step 483637 / 500000 | TPS 744.693 | ETA 00:00:21\n",
      "Time 00:11:25 | Step 491091 / 500000 | TPS 745.319 | ETA 00:00:11\n",
      "Time 00:11:35 | Step 498561 / 500000 | TPS 746.975 | ETA 00:00:01\n",
      "Time 00:11:37 | Step 500000 / 500000 | TPS 742.668 | ETA 00:00:00\n",
      "Average TPS: 722.503\n",
      "---------\n",
      "-- Neighborlist stats:\n",
      "82696 normal updates / 1667 forced updates / 0 dangerous updates\n",
      "n_neigh_min: 0 / n_neigh_max: 6 / n_neigh_avg: 3.85714\n",
      "shortest rebuild period: 3\n",
      "-- Cell list stats:\n",
      "Dimension: 3, 3, 3\n",
      "n_min    : 0 / n_max: 14 / n_avg: 0.518519\n",
      "** run complete **\n"
     ]
    }
   ],
   "source": [
    "run_result = pysages.run(method, generate_simulation, int(5e5))"
   ]
  },
  {
   "cell_type": "markdown",
   "metadata": {
    "id": "PXBKUfK0p9T2"
   },
   "source": [
    "\n",
    "Let's now plot the free energy landscape learned by the FUNN sampling method."
   ]
  },
  {
   "cell_type": "code",
   "execution_count": 13,
   "metadata": {
    "id": "X69d1R7OpW4P"
   },
   "outputs": [],
   "source": [
    "import matplotlib.pyplot as plt"
   ]
  },
  {
   "cell_type": "code",
   "execution_count": 14,
   "metadata": {
    "id": "6W7Xf0ilqAcm"
   },
   "outputs": [],
   "source": [
    "result = pysages.analyze(run_result)\n",
    "\n",
    "mesh = result[\"mesh\"]\n",
    "A = result[\"free_energy\"]"
   ]
  },
  {
   "cell_type": "code",
   "execution_count": 16,
   "metadata": {
    "colab": {
     "base_uri": "https://localhost:8080/",
     "height": 300
    },
    "id": "TBiPAnMwqEIF",
    "lines_to_next_cell": 0,
    "outputId": "3a13a52d-2bd8-4122-db13-18bc6a11c797"
   },
   "outputs": [
    {
     "data": {
      "text/plain": [
       "<matplotlib.axes._subplots.AxesSubplot at 0x7f07042f45d0>"
      ]
     },
     "execution_count": 16,
     "metadata": {},
     "output_type": "execute_result"
    },
    {
     "data": {
      "image/png": "[encoded data removed]",
      "text/plain": [
       "<Figure size 432x288 with 1 Axes>"
      ]
     },
     "metadata": {
      "needs_background": "light"
     },
     "output_type": "display_data"
    }
   ],
   "source": [
    "fig, ax = plt.subplots()\n",
    "\n",
    "ax.set_xlabel(r\"Dihedral Angle, $\\xi$\")\n",
    "ax.set_ylabel(r\"$\\nabla A(\\xi)$\")\n",
    "ax.plot(mesh, A)\n",
    "\n",
    "fig.show()"
   ]
  },
  {
   "cell_type": "markdown",
   "id": "8657b0b7",
   "metadata": {},
   "source": []
  }
 ],
 "metadata": {
  "accelerator": "GPU",
  "colab": {
   "collapsed_sections": [],
   "name": "Butane-FUNN.ipynb",
   "provenance": []
  },
  "jupytext": {
   "formats": "ipynb,md",
   "main_language": "python"
  },
  "kernelspec": {
   "display_name": "Python 3",
   "name": "python3"
  },
  "language_info": {
   "codemirror_mode": {
    "name": "ipython",
    "version": 3
   },
   "file_extension": ".py",
   "mimetype": "text/x-python",
   "name": "python",
   "nbconvert_exporter": "python",
   "pygments_lexer": "ipython3",
   "version": "3.9.12"
  }
 },
 "nbformat": 4,
 "nbformat_minor": 0
}
