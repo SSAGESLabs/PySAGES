{
 "cells": [
  {
   "cell_type": "markdown",
   "metadata": {
    "id": "T-Qkg9C9n7Cc"
   },
   "source": [
    "# Setting up the environment\n",
    "\n",
    "First, we set up our environment. We will be using a pre-compiled and packaged installation of HOOMD-blue and the hoomd-dlext plugin.\n",
    "It will be downloaded from Google Drive and made accessible to the Python process running in this Colab instance."
   ]
  },
  {
   "cell_type": "code",
   "execution_count": 1,
   "metadata": {
    "id": "3eTbKklCnyd_"
   },
   "outputs": [],
   "source": [
    "%%bash\n",
    "\n",
    "BASE_URL=\"https://drive.usercontent.google.com/download?id=1hsKkKtdxZTVfHKgqVF6qV2e-4SShmhr7\"\n",
    "COOKIES=\"/tmp/cookies.txt\"\n",
    "CONFIRMATION=\"$(wget -q --save-cookies $COOKIES --keep-session-cookies --no-check-certificate $BASE_URL -O- | sed -rn 's/.*confirm=(\\w+).*/\\1\\n/p')\"\n",
    "\n",
    "wget -q --load-cookies $COOKIES \"$BASE_URL&confirm=$CONFIRMATION\" -O pysages-env.zip\n",
    "rm -rf $COOKIES"
   ]
  },
  {
   "cell_type": "code",
   "execution_count": 2,
   "metadata": {
    "colab": {
     "base_uri": "https://localhost:8080/"
    },
    "id": "KRPmkpd9n_NG",
    "outputId": "b757f2aa-38cc-4726-c4ab-5197810b9d77"
   },
   "outputs": [
    {
     "name": "stdout",
     "output_type": "stream",
     "text": [
      "env: PYSAGES_ENV=/env/pysages\n"
     ]
    }
   ],
   "source": [
    "%env PYSAGES_ENV=/env/pysages"
   ]
  },
  {
   "cell_type": "code",
   "execution_count": 3,
   "metadata": {
    "id": "J7OY5K9VoBBh"
   },
   "outputs": [],
   "source": [
    "%%bash\n",
    "\n",
    "mkdir -p $PYSAGES_ENV .\n",
    "unzip -qquo pysages-env.zip -d $PYSAGES_ENV"
   ]
  },
  {
   "cell_type": "code",
   "execution_count": 5,
   "metadata": {
    "id": "EMAWp8VloIk4"
   },
   "outputs": [],
   "source": [
    "import os\n",
    "import sys\n",
    "\n",
    "ver = sys.version_info\n",
    "sys.path.append(os.environ[\"PYSAGES_ENV\"] + \"/lib/python\" + str(ver.major) + \".\" + str(ver.minor) + \"/site-packages/\")\n",
    "\n",
    "os.environ[\"LD_LIBRARY_PATH\"] = \"/usr/lib/x86_64-linux-gnu:\" + os.environ[\"LD_LIBRARY_PATH\"]"
   ]
  },
  {
   "cell_type": "markdown",
   "metadata": {
    "id": "Wy-75Pt7Bqs1"
   },
   "source": [
    "We'll also need some additional python dependencies"
   ]
  },
  {
   "cell_type": "code",
   "execution_count": 6,
   "metadata": {
    "id": "LpBucu3V81xm"
   },
   "outputs": [],
   "source": [
    "!pip install -qq \"numpy<2\" gsd > /dev/null"
   ]
  },
  {
   "cell_type": "markdown",
   "metadata": {
    "id": "we_mTkFioS6R"
   },
   "source": [
    "## PySAGES\n",
    "\n",
    "Next, we install PySAGES. The latest version is retrieved from GitHub and installed (along with its dependencies) using `pip`."
   ]
  },
  {
   "cell_type": "code",
   "execution_count": 6,
   "metadata": {
    "id": "B-HB9CzioV5j"
   },
   "outputs": [],
   "source": [
    "!pip install -qq git+https://github.com/SSAGESLabs/PySAGES.git > /dev/null"
   ]
  },
  {
   "cell_type": "markdown",
   "metadata": {
    "id": "KBFVcG1FoeMq"
   },
   "source": [
    "# ANN-biased simulations"
   ]
  },
  {
   "cell_type": "code",
   "execution_count": 7,
   "metadata": {
    "id": "ppTzMmyyobHB"
   },
   "outputs": [],
   "source": [
    "%%bash\n",
    "\n",
    "mkdir /content/ann\n",
    "cd /content/ann"
   ]
  },
  {
   "cell_type": "markdown",
   "metadata": {
    "id": "0W2ukJuuojAl"
   },
   "source": [
    "ANN gradually learns the free energy from a probability density estimate based on the frequency of visits to the grid on collective variable space.\n",
    "\n",
    "In this Colab notebook, we will use butane as an example system."
   ]
  },
  {
   "cell_type": "code",
   "execution_count": 8,
   "metadata": {
    "id": "BBvC7Spoog82"
   },
   "outputs": [],
   "source": [
    "import hoomd\n",
    "import gsd.hoomd\n",
    "import numpy as np\n",
    "\n",
    "\n",
    "pi = np.pi\n",
    "kT = 0.596161\n",
    "dt = 0.02045\n",
    "\n",
    "\n",
    "def generate_simulation(kT = kT, dt = dt, device = hoomd.device.auto_select(), seed = 42):\n",
    "    \"\"\"\n",
    "    Generates a simulation context to which will attatch our sampling method.\n",
    "    \"\"\"\n",
    "    simulation = hoomd.Simulation(device=device, seed=seed)\n",
    "\n",
    "    snapshot = gsd.hoomd.Frame()\n",
    "\n",
    "    snapshot.configuration.box = [41, 41, 41, 0, 0, 0]\n",
    "\n",
    "    snapshot.particles.N = N = 14\n",
    "    snapshot.particles.types = [\"C\", \"H\"]\n",
    "    snapshot.particles.typeid = np.zeros(N, dtype=int)\n",
    "    snapshot.particles.position = np.zeros((N, 3))\n",
    "    snapshot.particles.mass = np.zeros(N, dtype=float)\n",
    "    snapshot.particles.charge = np.zeros(N, dtype=float)\n",
    "    snapshot.particles.typeid[0] = 0\n",
    "    snapshot.particles.typeid[1:4] = 1\n",
    "    snapshot.particles.typeid[4] = 0\n",
    "    snapshot.particles.typeid[5:7] = 1\n",
    "    snapshot.particles.typeid[7] = 0\n",
    "    snapshot.particles.typeid[8:10] = 1\n",
    "    snapshot.particles.typeid[10] = 0\n",
    "    snapshot.particles.typeid[11:14] = 1\n",
    "\n",
    "    positions = np.array(\n",
    "        [\n",
    "            [-2.990196, 0.097881, 0.000091],\n",
    "            [-2.634894, -0.911406, 0.001002],\n",
    "            [-2.632173, 0.601251, -0.873601],\n",
    "            [-4.060195, 0.099327, -0.000736],\n",
    "            [-2.476854, 0.823942, 1.257436],\n",
    "            [-2.832157, 1.833228, 1.256526],\n",
    "            [-2.834877, 0.320572, 2.131128],\n",
    "            [-0.936856, 0.821861, 1.258628],\n",
    "            [-0.578833, 1.325231, 0.384935],\n",
    "            [-0.581553, -0.187426, 1.259538],\n",
    "            [-0.423514, 1.547922, 2.515972],\n",
    "            [-0.781537, 1.044552, 3.389664],\n",
    "            [0.646485, 1.546476, 2.516800],\n",
    "            [-0.778816, 2.557208, 2.515062],\n",
    "        ]\n",
    "    )\n",
    "\n",
    "    reference_box_low_coords = np.array([-22.206855, -19.677099, -19.241968])\n",
    "    box_low_coords = np.array([-41.0 / 2, -41.0 / 2, -41.0 / 2])\n",
    "    positions += box_low_coords - reference_box_low_coords\n",
    "\n",
    "    snapshot.particles.position[:] = positions[:]\n",
    "\n",
    "    mC = 12.00\n",
    "    mH = 1.008\n",
    "\n",
    "    # fmt: off\n",
    "    snapshot.particles.mass[:] = [\n",
    "        mC, mH, mH, mH,  # grouped by carbon atoms\n",
    "        mC, mH, mH,\n",
    "        mC, mH, mH,\n",
    "        mC, mH, mH, mH,\n",
    "    ]\n",
    "\n",
    "    reference_charges = np.array(\n",
    "        [\n",
    "            -0.180000, 0.060000, 0.060000, 0.060000,  # grouped by carbon atoms\n",
    "            -0.120000, 0.060000, 0.060000,\n",
    "            -0.120000, 0.060000, 0.060000,\n",
    "            -0.180000, 0.060000, 0.060000, 0.060000,\n",
    "        ]\n",
    "    )\n",
    "    # fmt: on\n",
    "\n",
    "    charge_conversion = 18.22262\n",
    "    snapshot.particles.charge[:] = charge_conversion * reference_charges[:]\n",
    "\n",
    "    snapshot.particles.validate()\n",
    "\n",
    "    snapshot.bonds.N = 13\n",
    "    snapshot.bonds.types = [\"CC\", \"CH\"]\n",
    "    snapshot.bonds.typeid = np.zeros(13, dtype=int)\n",
    "    snapshot.bonds.typeid[0:3] = 1\n",
    "    snapshot.bonds.typeid[3] = 0\n",
    "    snapshot.bonds.typeid[4:6] = 1\n",
    "    snapshot.bonds.typeid[6] = 0\n",
    "    snapshot.bonds.typeid[7:9] = 1\n",
    "    snapshot.bonds.typeid[9] = 0\n",
    "    snapshot.bonds.typeid[10:13] = 1\n",
    "\n",
    "    snapshot.bonds.group = np.zeros((13, 2), dtype=int)\n",
    "    # fmt: off\n",
    "    snapshot.bonds.group[:] = [\n",
    "        [0, 2], [0, 1], [0, 3], [0, 4],  # grouped by carbon atoms\n",
    "        [4, 5], [4, 6], [4, 7],\n",
    "        [7, 8], [7, 9], [7, 10],\n",
    "        [10, 11], [10, 12], [10, 13],\n",
    "    ]\n",
    "    # fmt: on\n",
    "\n",
    "    snapshot.angles.N = 24\n",
    "    snapshot.angles.types = [\"CCC\", \"CCH\", \"HCH\"]\n",
    "    snapshot.angles.typeid = np.zeros(24, dtype=int)\n",
    "    snapshot.angles.typeid[0:2] = 2\n",
    "    snapshot.angles.typeid[2] = 1\n",
    "    snapshot.angles.typeid[3] = 2\n",
    "    snapshot.angles.typeid[4:8] = 1\n",
    "    snapshot.angles.typeid[8] = 0\n",
    "    snapshot.angles.typeid[9] = 2\n",
    "    snapshot.angles.typeid[10:14] = 1\n",
    "    snapshot.angles.typeid[14] = 0\n",
    "    snapshot.angles.typeid[15] = 2\n",
    "    snapshot.angles.typeid[16:21] = 1\n",
    "    snapshot.angles.typeid[21:24] = 2\n",
    "\n",
    "    snapshot.angles.group = np.zeros((24, 3), dtype=int)\n",
    "    # fmt: off\n",
    "    snapshot.angles.group[:] = [\n",
    "        [1, 0, 2], [2, 0, 3], [2, 0, 4],  # grouped by carbon atoms\n",
    "        [1, 0, 3], [1, 0, 4], [3, 0, 4],\n",
    "        # ---\n",
    "        [0, 4, 5], [0, 4, 6], [0, 4, 7],\n",
    "        [5, 4, 6], [5, 4, 7], [6, 4, 7],\n",
    "        # ---\n",
    "        [4, 7, 8], [4, 7, 9], [4, 7, 10],\n",
    "        [8, 7, 9], [8, 7, 10], [9, 7, 10],\n",
    "        # ---\n",
    "        [7, 10, 11], [7, 10, 12], [7, 10, 13],\n",
    "        [11, 10, 12], [11, 10, 13], [12, 10, 13],\n",
    "    ]\n",
    "    # fmt: on\n",
    "\n",
    "    snapshot.dihedrals.N = 27\n",
    "    snapshot.dihedrals.types = [\"CCCC\", \"HCCC\", \"HCCH\"]\n",
    "    snapshot.dihedrals.typeid = np.zeros(27, dtype=int)\n",
    "    snapshot.dihedrals.typeid[0:2] = 2\n",
    "    snapshot.dihedrals.typeid[2] = 1\n",
    "    snapshot.dihedrals.typeid[3:5] = 2\n",
    "    snapshot.dihedrals.typeid[5] = 1\n",
    "    snapshot.dihedrals.typeid[6:8] = 2\n",
    "    snapshot.dihedrals.typeid[8:11] = 1\n",
    "    snapshot.dihedrals.typeid[11] = 0\n",
    "    snapshot.dihedrals.typeid[12:14] = 2\n",
    "    snapshot.dihedrals.typeid[14] = 1\n",
    "    snapshot.dihedrals.typeid[15:17] = 2\n",
    "    snapshot.dihedrals.typeid[17:21] = 1\n",
    "    snapshot.dihedrals.typeid[21:27] = 2\n",
    "\n",
    "    snapshot.dihedrals.group = np.zeros((27, 4), dtype=int)\n",
    "    # fmt: off\n",
    "    snapshot.dihedrals.group[:] = [\n",
    "        [2, 0, 4, 5], [2, 0, 4, 6], [2, 0, 4, 7],  # grouped by pairs of central atoms\n",
    "        [1, 0, 4, 5], [1, 0, 4, 6], [1, 0, 4, 7],\n",
    "        [3, 0, 4, 5], [3, 0, 4, 6], [3, 0, 4, 7],\n",
    "        # ---\n",
    "        [0, 4, 7, 8], [0, 4, 7, 9], [0, 4, 7, 10],\n",
    "        [5, 4, 7, 8], [5, 4, 7, 9], [5, 4, 7, 10],\n",
    "        [6, 4, 7, 8], [6, 4, 7, 9], [6, 4, 7, 10],\n",
    "        # ---\n",
    "        [4, 7, 10, 11], [4, 7, 10, 12], [4, 7, 10, 13],\n",
    "        [8, 7, 10, 11], [8, 7, 10, 12], [8, 7, 10, 13],\n",
    "        [9, 7, 10, 11], [9, 7, 10, 12], [9, 7, 10, 13],\n",
    "    ]\n",
    "    # fmt: on\n",
    "\n",
    "    snapshot.pairs.N = 27\n",
    "    snapshot.pairs.types = [\"CCCC\", \"HCCC\", \"HCCH\"]\n",
    "    snapshot.pairs.typeid = np.zeros(27, dtype=int)\n",
    "    snapshot.pairs.typeid[0:1] = 0\n",
    "    snapshot.pairs.typeid[1:11] = 1\n",
    "    snapshot.pairs.typeid[11:27] = 2\n",
    "    snapshot.pairs.group = np.zeros((27, 2), dtype=int)\n",
    "    # fmt: off\n",
    "    snapshot.pairs.group[:] = [\n",
    "        # CCCC\n",
    "        [0, 10],\n",
    "        # HCCC\n",
    "        [0, 8],\n",
    "        [0, 9],\n",
    "        [5, 10], [6, 10],\n",
    "        [1, 7], [2, 7], [3, 7],\n",
    "        [11, 4], [12, 4], [13, 4],\n",
    "        # HCCH\n",
    "        [1, 5], [1, 6],\n",
    "        [2, 5], [2, 6],\n",
    "        [3, 5], [3, 6],\n",
    "        [5, 8], [6, 8],\n",
    "        [5, 9], [6, 9],\n",
    "        [8, 11], [8, 12], [8, 13],\n",
    "        [9, 11], [9, 12], [9, 13],\n",
    "    ]\n",
    "    # fmt: on\n",
    "\n",
    "    simulation.create_state_from_snapshot(snapshot, domain_decomposition=(None, None, None))\n",
    "    simulation.run(0)\n",
    "\n",
    "    exclusions = [\"bond\", \"1-3\", \"1-4\"]\n",
    "    nl = hoomd.md.nlist.Cell(buffer=0.4, exclusions=exclusions)\n",
    "    lj = hoomd.md.pair.LJ(nlist=nl, default_r_cut=12.0)\n",
    "    lj.params[(\"C\", \"C\")] = dict(epsilon=0.07, sigma=3.55)\n",
    "    lj.params[(\"H\", \"H\")] = dict(epsilon=0.03, sigma=2.42)\n",
    "    lj.params[(\"C\", \"H\")] = dict(epsilon=np.sqrt(0.07 * 0.03), sigma=np.sqrt(3.55 * 2.42))\n",
    "\n",
    "    coulomb = hoomd.md.long_range.pppm.make_pppm_coulomb_forces(\n",
    "        nlist=nl, resolution=[64, 64, 64], order=6, r_cut=12.0\n",
    "    )\n",
    "\n",
    "    harmonic = hoomd.md.bond.Harmonic()\n",
    "    harmonic.params[\"CC\"] = dict(k=2 * 268.0, r0=1.529)\n",
    "    harmonic.params[\"CH\"] = dict(k=2 * 340.0, r0=1.09)\n",
    "\n",
    "    angle = hoomd.md.angle.Harmonic()\n",
    "    angle.params[\"CCC\"] = dict(k=2 * 58.35, t0=112.7 * pi / 180)\n",
    "    angle.params[\"CCH\"] = dict(k=2 * 37.5, t0=110.7 * pi / 180)\n",
    "    angle.params[\"HCH\"] = dict(k=2 * 33.0, t0=107.8 * pi / 180)\n",
    "\n",
    "    dihedral = hoomd.md.dihedral.OPLS()\n",
    "    dihedral.params[\"CCCC\"] = dict(k1=1.3, k2=-0.05, k3=0.2, k4=0.0)\n",
    "    dihedral.params[\"HCCC\"] = dict(k1=0.0, k2=0.0, k3=0.3, k4=0.0)\n",
    "    dihedral.params[\"HCCH\"] = dict(k1=0.0, k2=0.0, k3=0.3, k4=0.0)\n",
    "\n",
    "    lj_special_pairs = hoomd.md.special_pair.LJ()\n",
    "    lj_special_pairs.params[\"CCCC\"] = dict(epsilon=0.07, sigma=3.55)\n",
    "    lj_special_pairs.params[\"HCCH\"] = dict(epsilon=0.03, sigma=2.42)\n",
    "    lj_special_pairs.params[\"HCCC\"] = dict(epsilon=np.sqrt(0.07 * 0.03), sigma=np.sqrt(3.55 * 2.42))\n",
    "    lj_special_pairs.r_cut[\"CCCC\"] = 12.0\n",
    "    lj_special_pairs.r_cut[\"HCCC\"] = 12.0\n",
    "    lj_special_pairs.r_cut[\"HCCH\"] = 12.0\n",
    "    coulomb_special_pairs = hoomd.md.special_pair.Coulomb()\n",
    "    coulomb_special_pairs.params[\"CCCC\"] = dict(alpha=0.5)\n",
    "    coulomb_special_pairs.params[\"HCCC\"] = dict(alpha=0.5)\n",
    "    coulomb_special_pairs.params[\"HCCH\"] = dict(alpha=0.5)\n",
    "    coulomb_special_pairs.r_cut[\"HCCH\"] = 12.0\n",
    "    coulomb_special_pairs.r_cut[\"CCCC\"] = 12.0\n",
    "    coulomb_special_pairs.r_cut[\"HCCC\"] = 12.0\n",
    "\n",
    "    nvt = hoomd.md.methods.Langevin(filter=hoomd.filter.All(), kT=kT)\n",
    "\n",
    "    integrator = hoomd.md.Integrator(dt=dt)\n",
    "    integrator.forces.append(lj)\n",
    "    integrator.forces.append(coulomb[0])\n",
    "    integrator.forces.append(coulomb[1])\n",
    "    integrator.forces.append(harmonic)\n",
    "    integrator.forces.append(angle)\n",
    "    integrator.forces.append(dihedral)\n",
    "    integrator.forces.append(lj_special_pairs)\n",
    "    integrator.forces.append(coulomb_special_pairs)\n",
    "    integrator.methods.append(nvt)\n",
    "    simulation.operations.integrator = integrator\n",
    "\n",
    "    return simulation"
   ]
  },
  {
   "cell_type": "markdown",
   "metadata": {
    "id": "3UrzENm_oo6U"
   },
   "source": [
    "\n",
    "Next, we import PySAGES and the necessary classes and methods for our simulation\n"
   ]
  },
  {
   "cell_type": "code",
   "execution_count": 9,
   "metadata": {
    "id": "fpMg-o8WomAA"
   },
   "outputs": [],
   "source": [
    "from pysages.grids import Grid\n",
    "from pysages.colvars import DihedralAngle\n",
    "from pysages.methods import ANN\n",
    "\n",
    "import pysages"
   ]
  },
  {
   "cell_type": "markdown",
   "metadata": {
    "id": "LknkRvo1o4av"
   },
   "source": [
    "\n",
    "The next step is to define the collective variable (CV). In this case, we choose the central dihedral angle.\n",
    "\n",
    "We also define a grid to bin our CV space, the topology (tuple indicating the number of\n",
    "nodes of each hidden layer) for our neural network which will model the free energy,\n",
    "and pass the value of $kT$ for our system specified above.\n",
    "\n",
    "The appropriate number of bins depends on the complexity of the free energy landscape,\n",
    "a good rule of thumb is to choose between 20 to 100 bins along each CV dimension\n",
    "(using higher values for more rugged free energy surfaces), but it can be systematically\n",
    "found trying different values for short runs of any given system.\n"
   ]
  },
  {
   "cell_type": "code",
   "execution_count": 11,
   "metadata": {
    "id": "B1Z8FWz0o7u_"
   },
   "outputs": [],
   "source": [
    "cvs = [DihedralAngle([0, 4, 7, 10])]\n",
    "grid = Grid(lower=(-pi,), upper=(pi,), shape=(64,), periodic=True)\n",
    "\n",
    "topology = (8, 8)\n",
    "method = ANN(cvs, grid, topology, kT)"
   ]
  },
  {
   "cell_type": "markdown",
   "metadata": {
    "id": "Fz8BfU34pA_N"
   },
   "source": [
    "\n",
    "We will now run a simulation for $5\\times10^5$ time steps.\n",
    "For optimal performance, ensure that the simulation is executed with GPU acceleration. Otherwise, it may take a considerably longer time to complete.\n"
   ]
  },
  {
   "cell_type": "code",
   "execution_count": 12,
   "metadata": {
    "colab": {
     "base_uri": "https://localhost:8080/"
    },
    "id": "K951m4BbpUar",
    "outputId": "f01ca7e3-69f4-4218-9eb5-cdc022f877b8"
   },
   "outputs": [
    {
     "name": "stdout",
     "output_type": "stream",
     "text": [
      "HOOMD-blue v2.9.7 CUDA (11.1) DOUBLE HPMC_MIXED SSE SSE2 \n",
      "Compiled: 01/26/2022\n",
      "Copyright (c) 2009-2019 The Regents of the University of Michigan.\n",
      "-----\n",
      "You are using HOOMD-blue. Please cite the following:\n",
      "* J A Anderson, J Glaser, and S C Glotzer. \"HOOMD-blue: A Python package for\n",
      "  high-performance molecular dynamics and hard particle Monte Carlo\n",
      "  simulations\", Computational Materials Science 173 (2020) 109363\n",
      "-----\n",
      "HOOMD-blue is running on the following GPU(s):\n",
      " [0]             Tesla K80  13 SM_3.7 @ 0.823 GHz, 11441 MiB DRAM\n",
      "notice(2): Group \"all\" created containing 14 particles\n",
      "notice(2): -- Neighborlist exclusion statistics -- :\n",
      "notice(2): Particles with 7 exclusions             : 6\n",
      "notice(2): Particles with 10 exclusions             : 6\n",
      "notice(2): Particles with 13 exclusions             : 2\n",
      "notice(2): Neighbors included by diameter          : no\n",
      "notice(2): Neighbors excluded when in the same body: no\n",
      "notice(2): Group \"charged\" created containing 14 particles\n",
      "-----\n",
      "You are using PPPM. Please cite the following:\n",
      "* D N LeBard, B G Levine, S A Barr, A Jusufi, S Sanders, M L Klein, and A Z\n",
      "  Panagiotopoulos. \"Self-assembly of coarse-grained ionic surfactants\n",
      "  accelerated by graphics processing units\", Journal of Computational Physics 8\n",
      "  (2012) 2385-2397\n",
      "-----\n",
      "** starting run **\n",
      "notice(2): charge.pppm: RMS error: 1.29239e-08\n",
      "Time 00:01:18 | Step 1 / 500000 | TPS 0.0137152 | ETA 10126:34:59\n",
      "Time 00:01:28 | Step 4331 / 500000 | TPS 432.928 | ETA 00:19:04\n",
      "Time 00:01:38 | Step 8386 / 500000 | TPS 405.425 | ETA 00:20:12\n",
      "Time 00:01:48 | Step 12429 / 500000 | TPS 404.295 | ETA 00:20:05\n",
      "Time 00:01:58 | Step 16460 / 500000 | TPS 403.054 | ETA 00:19:59\n",
      "Time 00:02:08 | Step 20514 / 500000 | TPS 405.35 | ETA 00:19:42\n",
      "Time 00:02:18 | Step 24858 / 500000 | TPS 434.366 | ETA 00:18:13\n",
      "Time 00:02:28 | Step 28898 / 500000 | TPS 403.914 | ETA 00:19:26\n",
      "Time 00:02:38 | Step 32909 / 500000 | TPS 401.047 | ETA 00:19:24\n",
      "Time 00:02:48 | Step 36076 / 500000 | TPS 316.639 | ETA 00:24:25\n",
      "Time 00:02:58 | Step 40092 / 500000 | TPS 401.575 | ETA 00:19:05\n",
      "Time 00:03:08 | Step 44444 / 500000 | TPS 435.181 | ETA 00:17:26\n",
      "Time 00:03:18 | Step 48494 / 500000 | TPS 404.973 | ETA 00:18:34\n",
      "Time 00:03:28 | Step 52529 / 500000 | TPS 403.454 | ETA 00:18:29\n",
      "Time 00:03:38 | Step 56553 / 500000 | TPS 402.36 | ETA 00:18:22\n",
      "Time 00:03:48 | Step 60606 / 500000 | TPS 405.259 | ETA 00:18:04\n",
      "Time 00:03:58 | Step 64944 / 500000 | TPS 433.731 | ETA 00:16:43\n",
      "Time 00:04:08 | Step 68980 / 500000 | TPS 403.57 | ETA 00:17:48\n",
      "Time 00:04:18 | Step 73016 / 500000 | TPS 403.548 | ETA 00:17:38\n",
      "Time 00:04:28 | Step 77055 / 500000 | TPS 403.899 | ETA 00:17:27\n",
      "Time 00:04:38 | Step 81112 / 500000 | TPS 405.692 | ETA 00:17:12\n",
      "Time 00:04:48 | Step 85128 / 500000 | TPS 401.578 | ETA 00:17:13\n",
      "Time 00:04:58 | Step 89455 / 500000 | TPS 432.68 | ETA 00:15:48\n",
      "Time 00:05:08 | Step 93491 / 500000 | TPS 403.521 | ETA 00:16:47\n",
      "Time 00:05:18 | Step 97521 / 500000 | TPS 402.974 | ETA 00:16:38\n",
      "Time 00:05:28 | Step 101527 / 500000 | TPS 400.518 | ETA 00:16:34\n",
      "Time 00:05:38 | Step 105560 / 500000 | TPS 403.299 | ETA 00:16:18\n",
      "Time 00:05:48 | Step 109911 / 500000 | TPS 435.042 | ETA 00:14:56\n",
      "Time 00:05:58 | Step 113949 / 500000 | TPS 403.746 | ETA 00:15:56\n",
      "Time 00:06:08 | Step 117981 / 500000 | TPS 403.191 | ETA 00:15:47\n",
      "Time 00:06:18 | Step 122033 / 500000 | TPS 405.153 | ETA 00:15:32\n",
      "Time 00:06:28 | Step 126071 / 500000 | TPS 403.759 | ETA 00:15:26\n",
      "Time 00:06:38 | Step 130109 / 500000 | TPS 403.717 | ETA 00:15:16\n",
      "Time 00:06:48 | Step 134471 / 500000 | TPS 436.134 | ETA 00:13:58\n",
      "Time 00:06:58 | Step 138492 / 500000 | TPS 402.038 | ETA 00:14:59\n",
      "Time 00:07:08 | Step 142545 / 500000 | TPS 405.272 | ETA 00:14:42\n",
      "Time 00:07:18 | Step 146574 / 500000 | TPS 402.836 | ETA 00:14:37\n",
      "Time 00:07:28 | Step 150588 / 500000 | TPS 401.324 | ETA 00:14:30\n",
      "Time 00:07:38 | Step 154917 / 500000 | TPS 432.866 | ETA 00:13:17\n",
      "Time 00:07:48 | Step 158938 / 500000 | TPS 402.077 | ETA 00:14:08\n",
      "Time 00:07:58 | Step 162939 / 500000 | TPS 400.02 | ETA 00:14:02\n",
      "Time 00:08:08 | Step 166975 / 500000 | TPS 403.563 | ETA 00:13:45\n",
      "Time 00:08:18 | Step 171015 / 500000 | TPS 403.985 | ETA 00:13:34\n",
      "Time 00:08:28 | Step 175061 / 500000 | TPS 404.58 | ETA 00:13:23\n",
      "Time 00:08:38 | Step 179415 / 500000 | TPS 435.326 | ETA 00:12:16\n",
      "Time 00:08:48 | Step 183477 / 500000 | TPS 406.145 | ETA 00:12:59\n",
      "Time 00:08:58 | Step 187499 / 500000 | TPS 402.2 | ETA 00:12:56\n",
      "Time 00:09:08 | Step 191530 / 500000 | TPS 403.066 | ETA 00:12:45\n",
      "Time 00:09:18 | Step 195580 / 500000 | TPS 404.985 | ETA 00:12:31\n",
      "Time 00:09:28 | Step 199940 / 500000 | TPS 435.919 | ETA 00:11:28\n",
      "Time 00:09:38 | Step 203957 / 500000 | TPS 401.663 | ETA 00:12:17\n",
      "Time 00:09:48 | Step 207913 / 500000 | TPS 395.385 | ETA 00:12:18\n",
      "Time 00:09:58 | Step 211424 / 500000 | TPS 351.088 | ETA 00:13:41\n",
      "Time 00:10:08 | Step 215472 / 500000 | TPS 404.728 | ETA 00:11:43\n",
      "Time 00:10:18 | Step 219837 / 500000 | TPS 436.447 | ETA 00:10:41\n",
      "Time 00:10:28 | Step 223877 / 500000 | TPS 403.947 | ETA 00:11:23\n",
      "Time 00:10:38 | Step 227894 / 500000 | TPS 401.682 | ETA 00:11:17\n",
      "Time 00:10:48 | Step 231585 / 500000 | TPS 369.013 | ETA 00:12:07\n",
      "Time 00:10:58 | Step 235362 / 500000 | TPS 377.677 | ETA 00:11:40\n",
      "Time 00:11:08 | Step 239651 / 500000 | TPS 428.836 | ETA 00:10:07\n",
      "Time 00:11:18 | Step 243677 / 500000 | TPS 402.551 | ETA 00:10:36\n",
      "Time 00:11:28 | Step 247723 / 500000 | TPS 404.565 | ETA 00:10:23\n",
      "Time 00:11:38 | Step 251759 / 500000 | TPS 403.559 | ETA 00:10:15\n",
      "Time 00:11:48 | Step 255789 / 500000 | TPS 402.915 | ETA 00:10:06\n",
      "Time 00:11:58 | Step 260001 / 500000 | TPS 404.785 | ETA 00:09:52\n",
      "Time 00:12:08 | Step 264342 / 500000 | TPS 433.991 | ETA 00:09:03\n",
      "Time 00:12:18 | Step 268380 / 500000 | TPS 403.772 | ETA 00:09:33\n",
      "Time 00:12:28 | Step 272407 / 500000 | TPS 402.679 | ETA 00:09:25\n",
      "Time 00:12:38 | Step 276435 / 500000 | TPS 402.717 | ETA 00:09:15\n",
      "Time 00:12:48 | Step 280483 / 500000 | TPS 404.788 | ETA 00:09:02\n",
      "Time 00:12:58 | Step 284791 / 500000 | TPS 430.71 | ETA 00:08:19\n",
      "Time 00:13:08 | Step 288791 / 500000 | TPS 399.971 | ETA 00:08:48\n",
      "Time 00:13:18 | Step 292823 / 500000 | TPS 403.136 | ETA 00:08:33\n",
      "Time 00:13:28 | Step 296857 / 500000 | TPS 403.397 | ETA 00:08:23\n",
      "Time 00:13:38 | Step 300875 / 500000 | TPS 401.796 | ETA 00:08:15\n",
      "Time 00:13:49 | Step 305001 / 500000 | TPS 403.826 | ETA 00:08:02\n",
      "Time 00:13:59 | Step 309371 / 500000 | TPS 436.954 | ETA 00:07:16\n",
      "Time 00:14:09 | Step 313405 / 500000 | TPS 403.371 | ETA 00:07:42\n",
      "Time 00:14:19 | Step 317459 / 500000 | TPS 405.353 | ETA 00:07:30\n",
      "Time 00:14:29 | Step 321499 / 500000 | TPS 403.979 | ETA 00:07:21\n",
      "Time 00:14:39 | Step 325475 / 500000 | TPS 397.479 | ETA 00:07:19\n",
      "Time 00:14:49 | Step 329598 / 500000 | TPS 412.251 | ETA 00:06:53\n",
      "Time 00:14:59 | Step 333628 / 500000 | TPS 402.97 | ETA 00:06:52\n",
      "Time 00:15:09 | Step 337653 / 500000 | TPS 402.488 | ETA 00:06:43\n",
      "Time 00:15:19 | Step 341686 / 500000 | TPS 403.231 | ETA 00:06:32\n",
      "Time 00:15:29 | Step 345720 / 500000 | TPS 403.347 | ETA 00:06:22\n",
      "Time 00:15:39 | Step 350001 / 500000 | TPS 405.008 | ETA 00:06:10\n",
      "Time 00:15:49 | Step 354364 / 500000 | TPS 436.232 | ETA 00:05:33\n",
      "Time 00:15:59 | Step 358390 / 500000 | TPS 402.6 | ETA 00:05:51\n",
      "Time 00:16:09 | Step 362410 / 500000 | TPS 401.921 | ETA 00:05:42\n",
      "Time 00:16:19 | Step 366437 / 500000 | TPS 402.681 | ETA 00:05:31\n",
      "Time 00:16:29 | Step 370481 / 500000 | TPS 404.309 | ETA 00:05:20\n",
      "Time 00:16:39 | Step 374809 / 500000 | TPS 432.752 | ETA 00:04:49\n",
      "Time 00:16:49 | Step 378860 / 500000 | TPS 405.093 | ETA 00:04:59\n",
      "Time 00:16:59 | Step 382889 / 500000 | TPS 402.838 | ETA 00:04:50\n",
      "Time 00:17:09 | Step 386919 / 500000 | TPS 402.933 | ETA 00:04:40\n",
      "Time 00:17:19 | Step 390965 / 500000 | TPS 404.592 | ETA 00:04:29\n",
      "Time 00:17:29 | Step 395014 / 500000 | TPS 404.853 | ETA 00:04:19\n",
      "Time 00:17:39 | Step 399361 / 500000 | TPS 434.695 | ETA 00:03:51\n",
      "Time 00:17:49 | Step 403384 / 500000 | TPS 402.222 | ETA 00:04:00\n",
      "Time 00:17:59 | Step 407422 / 500000 | TPS 403.718 | ETA 00:03:49\n",
      "Time 00:18:09 | Step 411428 / 500000 | TPS 400.592 | ETA 00:03:41\n",
      "Time 00:18:19 | Step 415432 / 500000 | TPS 400.34 | ETA 00:03:31\n",
      "Time 00:18:29 | Step 419789 / 500000 | TPS 435.655 | ETA 00:03:04\n",
      "Time 00:18:39 | Step 423830 / 500000 | TPS 404.062 | ETA 00:03:08\n",
      "Time 00:18:49 | Step 427878 / 500000 | TPS 404.747 | ETA 00:02:58\n",
      "Time 00:18:59 | Step 431925 / 500000 | TPS 404.664 | ETA 00:02:48\n",
      "Time 00:19:09 | Step 435941 / 500000 | TPS 401.561 | ETA 00:02:39\n",
      "Time 00:19:19 | Step 439185 / 500000 | TPS 324.341 | ETA 00:03:07\n",
      "Time 00:19:29 | Step 443105 / 500000 | TPS 391.962 | ETA 00:02:25\n",
      "Time 00:19:39 | Step 447145 / 500000 | TPS 403.953 | ETA 00:02:10\n",
      "Time 00:19:49 | Step 451203 / 500000 | TPS 405.799 | ETA 00:02:00\n",
      "Time 00:19:59 | Step 455255 / 500000 | TPS 405.111 | ETA 00:01:50\n",
      "Time 00:20:09 | Step 459616 / 500000 | TPS 436.04 | ETA 00:01:32\n",
      "Time 00:20:19 | Step 463673 / 500000 | TPS 405.605 | ETA 00:01:29\n",
      "Time 00:20:29 | Step 467725 / 500000 | TPS 405.147 | ETA 00:01:19\n",
      "Time 00:20:39 | Step 471767 / 500000 | TPS 404.185 | ETA 00:01:09\n",
      "Time 00:20:49 | Step 475799 / 500000 | TPS 403.151 | ETA 00:01:00\n",
      "Time 00:21:00 | Step 480001 / 500000 | TPS 397.089 | ETA 00:00:50\n",
      "Time 00:21:10 | Step 484289 / 500000 | TPS 428.761 | ETA 00:00:36\n",
      "Time 00:21:20 | Step 488332 / 500000 | TPS 404.22 | ETA 00:00:28\n",
      "Time 00:21:30 | Step 492383 / 500000 | TPS 405.075 | ETA 00:00:18\n",
      "Time 00:21:40 | Step 496431 / 500000 | TPS 404.789 | ETA 00:00:08\n",
      "Time 00:21:48 | Step 500000 / 500000 | TPS 437.255 | ETA 00:00:00\n",
      "Average TPS: 383.733\n",
      "---------\n",
      "-- Neighborlist stats:\n",
      "81840 normal updates / 1667 forced updates / 0 dangerous updates\n",
      "n_neigh_min: 0 / n_neigh_max: 6 / n_neigh_avg: 3.85714\n",
      "shortest rebuild period: 3\n",
      "-- Cell list stats:\n",
      "Dimension: 3, 3, 3\n",
      "n_min    : 0 / n_max: 14 / n_avg: 0.518519\n",
      "** run complete **\n"
     ]
    }
   ],
   "source": [
    "run_result = pysages.run(method, generate_simulation, int(5e5))"
   ]
  },
  {
   "cell_type": "markdown",
   "metadata": {
    "id": "PXBKUfK0p9T2"
   },
   "source": [
    "We can now visualize the free energy landscape learned by the ANN sampling method."
   ]
  },
  {
   "cell_type": "code",
   "execution_count": 13,
   "metadata": {
    "id": "X69d1R7OpW4P"
   },
   "outputs": [],
   "source": [
    "import matplotlib.pyplot as plt"
   ]
  },
  {
   "cell_type": "code",
   "execution_count": 14,
   "metadata": {
    "id": "6W7Xf0ilqAcm"
   },
   "outputs": [],
   "source": [
    "result = pysages.analyze(run_result)\n",
    "\n",
    "mesh = result[\"mesh\"]\n",
    "A = result[\"free_energy\"]"
   ]
  },
  {
   "cell_type": "code",
   "execution_count": 15,
   "metadata": {
    "colab": {
     "base_uri": "https://localhost:8080/",
     "height": 300
    },
    "id": "TBiPAnMwqEIF",
    "outputId": "de1e6c26-0dc9-48ef-cecd-6f94bf11c25c"
   },
   "outputs": [
    {
     "data": {
      "text/plain": [
       "<matplotlib.axes._subplots.AxesSubplot at 0x7fa34a1d29d0>"
      ]
     },
     "execution_count": 15,
     "metadata": {},
     "output_type": "execute_result"
    },
    {
     "data": {
      "image/png": "[encoded data removed]",
      "text/plain": [
       "<Figure size 432x288 with 1 Axes>"
      ]
     },
     "metadata": {
      "needs_background": "light"
     },
     "output_type": "display_data"
    }
   ],
   "source": [
    "fig, ax = plt.subplots()\n",
    "\n",
    "ax.set_xlabel(r\"Dihedral Angle, $\\xi$\")\n",
    "ax.set_ylabel(r\"$A(\\xi)$\")\n",
    "ax.plot(mesh, A)\n",
    "\n",
    "fig.show()"
   ]
  },
  {
   "cell_type": "markdown",
   "metadata": {
    "id": "Kf_CMdih90Cd"
   },
   "source": [
    "You can compare this with the free energy landscape for the different conformations of butane."
   ]
  }
 ],
 "metadata": {
  "accelerator": "GPU",
  "colab": {
   "collapsed_sections": [],
   "name": "Butane-ANN.ipynb",
   "provenance": []
  },
  "jupytext": {
   "formats": "ipynb,md",
   "main_language": "python"
  },
  "kernelspec": {
   "display_name": "Python 3",
   "name": "python3"
  },
  "language_info": {
   "codemirror_mode": {
    "name": "ipython",
    "version": 3
   },
   "file_extension": ".py",
   "mimetype": "text/x-python",
   "name": "python",
   "nbconvert_exporter": "python",
   "pygments_lexer": "ipython3",
   "version": "3.9.12"
  }
 },
 "nbformat": 4,
 "nbformat_minor": 1
}
