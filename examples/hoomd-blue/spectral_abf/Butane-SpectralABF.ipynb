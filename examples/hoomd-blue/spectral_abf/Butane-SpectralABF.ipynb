{
 "cells": [
  {
   "cell_type": "markdown",
   "metadata": {
    "id": "T-Qkg9C9n7Cc"
   },
   "source": [
    "# Setting up the environment\n",
    "\n",
    "First, we set up our environment. We will be using a pre-compiled and packaged installation of HOOMD-blue and the hoomd-dlext plugin.\n",
    "It will be downloaded from Google Drive and made accessible to the Python process running in this Colab instance."
   ]
  },
  {
   "cell_type": "code",
   "execution_count": 1,
   "metadata": {
    "id": "3eTbKklCnyd_"
   },
   "outputs": [],
   "source": [
    "%%bash\n",
    "\n",
    "BASE_URL=\"https://drive.usercontent.google.com/download?id=1hsKkKtdxZTVfHKgqVF6qV2e-4SShmhr7\"\n",
    "COOKIES=\"/tmp/cookies.txt\"\n",
    "CONFIRMATION=\"$(wget -q --save-cookies $COOKIES --keep-session-cookies --no-check-certificate $BASE_URL -O- | sed -rn 's/.*confirm=(\\w+).*/\\1\\n/p')\"\n",
    "\n",
    "wget -q --load-cookies $COOKIES \"$BASE_URL&confirm=$CONFIRMATION\" -O pysages-env.zip\n",
    "rm -rf $COOKIES"
   ]
  },
  {
   "cell_type": "code",
   "execution_count": 2,
   "metadata": {
    "colab": {
     "base_uri": "https://localhost:8080/"
    },
    "id": "KRPmkpd9n_NG",
    "outputId": "b757f2aa-38cc-4726-c4ab-5197810b9d77"
   },
   "outputs": [
    {
     "name": "stdout",
     "output_type": "stream",
     "text": [
      "env: PYSAGES_ENV=/env/pysages\n"
     ]
    }
   ],
   "source": [
    "%env PYSAGES_ENV=/env/pysages"
   ]
  },
  {
   "cell_type": "code",
   "execution_count": 3,
   "metadata": {
    "id": "J7OY5K9VoBBh"
   },
   "outputs": [],
   "source": [
    "%%bash\n",
    "\n",
    "mkdir -p $PYSAGES_ENV .\n",
    "unzip -qquo pysages-env.zip -d $PYSAGES_ENV"
   ]
  },
  {
   "cell_type": "code",
   "execution_count": 5,
   "metadata": {
    "id": "EMAWp8VloIk4"
   },
   "outputs": [],
   "source": [
    "import os\n",
    "import sys\n",
    "\n",
    "ver = sys.version_info\n",
    "sys.path.append(os.environ[\"PYSAGES_ENV\"] + \"/lib/python\" + str(ver.major) + \".\" + str(ver.minor) + \"/site-packages/\")\n",
    "\n",
    "os.environ[\"LD_LIBRARY_PATH\"] = \"/usr/lib/x86_64-linux-gnu:\" + os.environ[\"LD_LIBRARY_PATH\"]"
   ]
  },
  {
   "cell_type": "markdown",
   "metadata": {
    "id": "Wy-75Pt7Bqs1"
   },
   "source": [
    "We'll also need some additional python dependencies"
   ]
  },
  {
   "cell_type": "code",
   "execution_count": 6,
   "metadata": {
    "id": "LpBucu3V81xm"
   },
   "outputs": [],
   "source": [
    "!pip install -qq \"numpy<2\" gsd > /dev/null"
   ]
  },
  {
   "cell_type": "markdown",
   "metadata": {
    "id": "we_mTkFioS6R"
   },
   "source": [
    "## PySAGES\n",
    "\n",
    "Next, we install PySAGES. The latest version is retrieved from GitHub and installed (along with its dependencies) using `pip`."
   ]
  },
  {
   "cell_type": "code",
   "execution_count": 7,
   "metadata": {
    "id": "B-HB9CzioV5j"
   },
   "outputs": [],
   "source": [
    "!pip install -qq git+https://github.com/SSAGESLabs/PySAGES.git > /dev/null"
   ]
  },
  {
   "cell_type": "markdown",
   "metadata": {
    "id": "KBFVcG1FoeMq"
   },
   "source": [
    "# SpectralABF-biased simulations"
   ]
  },
  {
   "cell_type": "code",
   "execution_count": null,
   "id": "a230059f",
   "metadata": {
    "id": "ppTzMmyyobHB"
   },
   "outputs": [],
   "source": [
    "%%bash\n",
    "\n",
    "mkdir /content/spectral-abf\n",
    "cd /content/spectral-abf"
   ]
  },
  {
   "cell_type": "markdown",
   "metadata": {
    "id": "0W2ukJuuojAl"
   },
   "source": [
    "SpectralABF gradually learns a better approximation to the coefficients of a basis functions expansion of the free energy of a system, from the generalized mean forces in a similar fashion to the ABF sampling method.\n",
    "\n",
    "In this Colab notebook, we will use butane as an example system."
   ]
  },
  {
   "cell_type": "code",
   "execution_count": 1,
   "metadata": {
    "id": "BBvC7Spoog82"
   },
   "outputs": [],
   "source": [
    "import hoomd\n",
    "import gsd.hoomd\n",
    "import numpy as np\n",
    "\n",
    "\n",
    "pi = np.pi\n",
    "kT = 0.596161\n",
    "dt = 0.02045\n",
    "\n",
    "\n",
    "def generate_simulation(kT = kT, dt = dt, device = hoomd.device.auto_select(), seed = 42):\n",
    "    \"\"\"\n",
    "    Generates a simulation context to which will attatch our sampling method.\n",
    "    \"\"\"\n",
    "    simulation = hoomd.Simulation(device=device, seed=seed)\n",
    "\n",
    "    snapshot = gsd.hoomd.Frame()\n",
    "\n",
    "    snapshot.configuration.box = [41, 41, 41, 0, 0, 0]\n",
    "\n",
    "    snapshot.particles.N = N = 14\n",
    "    snapshot.particles.types = [\"C\", \"H\"]\n",
    "    snapshot.particles.typeid = np.zeros(N, dtype=int)\n",
    "    snapshot.particles.position = np.zeros((N, 3))\n",
    "    snapshot.particles.mass = np.zeros(N, dtype=float)\n",
    "    snapshot.particles.charge = np.zeros(N, dtype=float)\n",
    "    snapshot.particles.typeid[0] = 0\n",
    "    snapshot.particles.typeid[1:4] = 1\n",
    "    snapshot.particles.typeid[4] = 0\n",
    "    snapshot.particles.typeid[5:7] = 1\n",
    "    snapshot.particles.typeid[7] = 0\n",
    "    snapshot.particles.typeid[8:10] = 1\n",
    "    snapshot.particles.typeid[10] = 0\n",
    "    snapshot.particles.typeid[11:14] = 1\n",
    "\n",
    "    positions = np.array(\n",
    "        [\n",
    "            [-2.990196, 0.097881, 0.000091],\n",
    "            [-2.634894, -0.911406, 0.001002],\n",
    "            [-2.632173, 0.601251, -0.873601],\n",
    "            [-4.060195, 0.099327, -0.000736],\n",
    "            [-2.476854, 0.823942, 1.257436],\n",
    "            [-2.832157, 1.833228, 1.256526],\n",
    "            [-2.834877, 0.320572, 2.131128],\n",
    "            [-0.936856, 0.821861, 1.258628],\n",
    "            [-0.578833, 1.325231, 0.384935],\n",
    "            [-0.581553, -0.187426, 1.259538],\n",
    "            [-0.423514, 1.547922, 2.515972],\n",
    "            [-0.781537, 1.044552, 3.389664],\n",
    "            [0.646485, 1.546476, 2.516800],\n",
    "            [-0.778816, 2.557208, 2.515062],\n",
    "        ]\n",
    "    )\n",
    "\n",
    "    reference_box_low_coords = np.array([-22.206855, -19.677099, -19.241968])\n",
    "    box_low_coords = np.array([-41.0 / 2, -41.0 / 2, -41.0 / 2])\n",
    "    positions += box_low_coords - reference_box_low_coords\n",
    "\n",
    "    snapshot.particles.position[:] = positions[:]\n",
    "\n",
    "    mC = 12.00\n",
    "    mH = 1.008\n",
    "\n",
    "    # fmt: off\n",
    "    snapshot.particles.mass[:] = [\n",
    "        mC, mH, mH, mH,  # grouped by carbon atoms\n",
    "        mC, mH, mH,\n",
    "        mC, mH, mH,\n",
    "        mC, mH, mH, mH,\n",
    "    ]\n",
    "\n",
    "    reference_charges = np.array(\n",
    "        [\n",
    "            -0.180000, 0.060000, 0.060000, 0.060000,  # grouped by carbon atoms\n",
    "            -0.120000, 0.060000, 0.060000,\n",
    "            -0.120000, 0.060000, 0.060000,\n",
    "            -0.180000, 0.060000, 0.060000, 0.060000,\n",
    "        ]\n",
    "    )\n",
    "    # fmt: on\n",
    "\n",
    "    charge_conversion = 18.22262\n",
    "    snapshot.particles.charge[:] = charge_conversion * reference_charges[:]\n",
    "\n",
    "    snapshot.particles.validate()\n",
    "\n",
    "    snapshot.bonds.N = 13\n",
    "    snapshot.bonds.types = [\"CC\", \"CH\"]\n",
    "    snapshot.bonds.typeid = np.zeros(13, dtype=int)\n",
    "    snapshot.bonds.typeid[0:3] = 1\n",
    "    snapshot.bonds.typeid[3] = 0\n",
    "    snapshot.bonds.typeid[4:6] = 1\n",
    "    snapshot.bonds.typeid[6] = 0\n",
    "    snapshot.bonds.typeid[7:9] = 1\n",
    "    snapshot.bonds.typeid[9] = 0\n",
    "    snapshot.bonds.typeid[10:13] = 1\n",
    "\n",
    "    snapshot.bonds.group = np.zeros((13, 2), dtype=int)\n",
    "    # fmt: off\n",
    "    snapshot.bonds.group[:] = [\n",
    "        [0, 2], [0, 1], [0, 3], [0, 4],  # grouped by carbon atoms\n",
    "        [4, 5], [4, 6], [4, 7],\n",
    "        [7, 8], [7, 9], [7, 10],\n",
    "        [10, 11], [10, 12], [10, 13],\n",
    "    ]\n",
    "    # fmt: on\n",
    "\n",
    "    snapshot.angles.N = 24\n",
    "    snapshot.angles.types = [\"CCC\", \"CCH\", \"HCH\"]\n",
    "    snapshot.angles.typeid = np.zeros(24, dtype=int)\n",
    "    snapshot.angles.typeid[0:2] = 2\n",
    "    snapshot.angles.typeid[2] = 1\n",
    "    snapshot.angles.typeid[3] = 2\n",
    "    snapshot.angles.typeid[4:8] = 1\n",
    "    snapshot.angles.typeid[8] = 0\n",
    "    snapshot.angles.typeid[9] = 2\n",
    "    snapshot.angles.typeid[10:14] = 1\n",
    "    snapshot.angles.typeid[14] = 0\n",
    "    snapshot.angles.typeid[15] = 2\n",
    "    snapshot.angles.typeid[16:21] = 1\n",
    "    snapshot.angles.typeid[21:24] = 2\n",
    "\n",
    "    snapshot.angles.group = np.zeros((24, 3), dtype=int)\n",
    "    # fmt: off\n",
    "    snapshot.angles.group[:] = [\n",
    "        [1, 0, 2], [2, 0, 3], [2, 0, 4],  # grouped by carbon atoms\n",
    "        [1, 0, 3], [1, 0, 4], [3, 0, 4],\n",
    "        # ---\n",
    "        [0, 4, 5], [0, 4, 6], [0, 4, 7],\n",
    "        [5, 4, 6], [5, 4, 7], [6, 4, 7],\n",
    "        # ---\n",
    "        [4, 7, 8], [4, 7, 9], [4, 7, 10],\n",
    "        [8, 7, 9], [8, 7, 10], [9, 7, 10],\n",
    "        # ---\n",
    "        [7, 10, 11], [7, 10, 12], [7, 10, 13],\n",
    "        [11, 10, 12], [11, 10, 13], [12, 10, 13],\n",
    "    ]\n",
    "    # fmt: on\n",
    "\n",
    "    snapshot.dihedrals.N = 27\n",
    "    snapshot.dihedrals.types = [\"CCCC\", \"HCCC\", \"HCCH\"]\n",
    "    snapshot.dihedrals.typeid = np.zeros(27, dtype=int)\n",
    "    snapshot.dihedrals.typeid[0:2] = 2\n",
    "    snapshot.dihedrals.typeid[2] = 1\n",
    "    snapshot.dihedrals.typeid[3:5] = 2\n",
    "    snapshot.dihedrals.typeid[5] = 1\n",
    "    snapshot.dihedrals.typeid[6:8] = 2\n",
    "    snapshot.dihedrals.typeid[8:11] = 1\n",
    "    snapshot.dihedrals.typeid[11] = 0\n",
    "    snapshot.dihedrals.typeid[12:14] = 2\n",
    "    snapshot.dihedrals.typeid[14] = 1\n",
    "    snapshot.dihedrals.typeid[15:17] = 2\n",
    "    snapshot.dihedrals.typeid[17:21] = 1\n",
    "    snapshot.dihedrals.typeid[21:27] = 2\n",
    "\n",
    "    snapshot.dihedrals.group = np.zeros((27, 4), dtype=int)\n",
    "    # fmt: off\n",
    "    snapshot.dihedrals.group[:] = [\n",
    "        [2, 0, 4, 5], [2, 0, 4, 6], [2, 0, 4, 7],  # grouped by pairs of central atoms\n",
    "        [1, 0, 4, 5], [1, 0, 4, 6], [1, 0, 4, 7],\n",
    "        [3, 0, 4, 5], [3, 0, 4, 6], [3, 0, 4, 7],\n",
    "        # ---\n",
    "        [0, 4, 7, 8], [0, 4, 7, 9], [0, 4, 7, 10],\n",
    "        [5, 4, 7, 8], [5, 4, 7, 9], [5, 4, 7, 10],\n",
    "        [6, 4, 7, 8], [6, 4, 7, 9], [6, 4, 7, 10],\n",
    "        # ---\n",
    "        [4, 7, 10, 11], [4, 7, 10, 12], [4, 7, 10, 13],\n",
    "        [8, 7, 10, 11], [8, 7, 10, 12], [8, 7, 10, 13],\n",
    "        [9, 7, 10, 11], [9, 7, 10, 12], [9, 7, 10, 13],\n",
    "    ]\n",
    "    # fmt: on\n",
    "\n",
    "    snapshot.pairs.N = 27\n",
    "    snapshot.pairs.types = [\"CCCC\", \"HCCC\", \"HCCH\"]\n",
    "    snapshot.pairs.typeid = np.zeros(27, dtype=int)\n",
    "    snapshot.pairs.typeid[0:1] = 0\n",
    "    snapshot.pairs.typeid[1:11] = 1\n",
    "    snapshot.pairs.typeid[11:27] = 2\n",
    "    snapshot.pairs.group = np.zeros((27, 2), dtype=int)\n",
    "    # fmt: off\n",
    "    snapshot.pairs.group[:] = [\n",
    "        # CCCC\n",
    "        [0, 10],\n",
    "        # HCCC\n",
    "        [0, 8],\n",
    "        [0, 9],\n",
    "        [5, 10], [6, 10],\n",
    "        [1, 7], [2, 7], [3, 7],\n",
    "        [11, 4], [12, 4], [13, 4],\n",
    "        # HCCH\n",
    "        [1, 5], [1, 6],\n",
    "        [2, 5], [2, 6],\n",
    "        [3, 5], [3, 6],\n",
    "        [5, 8], [6, 8],\n",
    "        [5, 9], [6, 9],\n",
    "        [8, 11], [8, 12], [8, 13],\n",
    "        [9, 11], [9, 12], [9, 13],\n",
    "    ]\n",
    "    # fmt: on\n",
    "\n",
    "    simulation.create_state_from_snapshot(snapshot, domain_decomposition=(None, None, None))\n",
    "    simulation.run(0)\n",
    "\n",
    "    exclusions = [\"bond\", \"1-3\", \"1-4\"]\n",
    "    nl = hoomd.md.nlist.Cell(buffer=0.4, exclusions=exclusions)\n",
    "    lj = hoomd.md.pair.LJ(nlist=nl, default_r_cut=12.0)\n",
    "    lj.params[(\"C\", \"C\")] = dict(epsilon=0.07, sigma=3.55)\n",
    "    lj.params[(\"H\", \"H\")] = dict(epsilon=0.03, sigma=2.42)\n",
    "    lj.params[(\"C\", \"H\")] = dict(epsilon=np.sqrt(0.07 * 0.03), sigma=np.sqrt(3.55 * 2.42))\n",
    "\n",
    "    coulomb = hoomd.md.long_range.pppm.make_pppm_coulomb_forces(\n",
    "        nlist=nl, resolution=[64, 64, 64], order=6, r_cut=12.0\n",
    "    )\n",
    "\n",
    "    harmonic = hoomd.md.bond.Harmonic()\n",
    "    harmonic.params[\"CC\"] = dict(k=2 * 268.0, r0=1.529)\n",
    "    harmonic.params[\"CH\"] = dict(k=2 * 340.0, r0=1.09)\n",
    "\n",
    "    angle = hoomd.md.angle.Harmonic()\n",
    "    angle.params[\"CCC\"] = dict(k=2 * 58.35, t0=112.7 * pi / 180)\n",
    "    angle.params[\"CCH\"] = dict(k=2 * 37.5, t0=110.7 * pi / 180)\n",
    "    angle.params[\"HCH\"] = dict(k=2 * 33.0, t0=107.8 * pi / 180)\n",
    "\n",
    "    dihedral = hoomd.md.dihedral.OPLS()\n",
    "    dihedral.params[\"CCCC\"] = dict(k1=1.3, k2=-0.05, k3=0.2, k4=0.0)\n",
    "    dihedral.params[\"HCCC\"] = dict(k1=0.0, k2=0.0, k3=0.3, k4=0.0)\n",
    "    dihedral.params[\"HCCH\"] = dict(k1=0.0, k2=0.0, k3=0.3, k4=0.0)\n",
    "\n",
    "    lj_special_pairs = hoomd.md.special_pair.LJ()\n",
    "    lj_special_pairs.params[\"CCCC\"] = dict(epsilon=0.07, sigma=3.55)\n",
    "    lj_special_pairs.params[\"HCCH\"] = dict(epsilon=0.03, sigma=2.42)\n",
    "    lj_special_pairs.params[\"HCCC\"] = dict(epsilon=np.sqrt(0.07 * 0.03), sigma=np.sqrt(3.55 * 2.42))\n",
    "    lj_special_pairs.r_cut[\"CCCC\"] = 12.0\n",
    "    lj_special_pairs.r_cut[\"HCCC\"] = 12.0\n",
    "    lj_special_pairs.r_cut[\"HCCH\"] = 12.0\n",
    "    coulomb_special_pairs = hoomd.md.special_pair.Coulomb()\n",
    "    coulomb_special_pairs.params[\"CCCC\"] = dict(alpha=0.5)\n",
    "    coulomb_special_pairs.params[\"HCCC\"] = dict(alpha=0.5)\n",
    "    coulomb_special_pairs.params[\"HCCH\"] = dict(alpha=0.5)\n",
    "    coulomb_special_pairs.r_cut[\"HCCH\"] = 12.0\n",
    "    coulomb_special_pairs.r_cut[\"CCCC\"] = 12.0\n",
    "    coulomb_special_pairs.r_cut[\"HCCC\"] = 12.0\n",
    "\n",
    "    nvt = hoomd.md.methods.Langevin(filter=hoomd.filter.All(), kT=kT)\n",
    "\n",
    "    integrator = hoomd.md.Integrator(dt=dt)\n",
    "    integrator.forces.append(lj)\n",
    "    integrator.forces.append(coulomb[0])\n",
    "    integrator.forces.append(coulomb[1])\n",
    "    integrator.forces.append(harmonic)\n",
    "    integrator.forces.append(angle)\n",
    "    integrator.forces.append(dihedral)\n",
    "    integrator.forces.append(lj_special_pairs)\n",
    "    integrator.forces.append(coulomb_special_pairs)\n",
    "    integrator.methods.append(nvt)\n",
    "    simulation.operations.integrator = integrator\n",
    "\n",
    "    return simulation"
   ]
  },
  {
   "cell_type": "markdown",
   "metadata": {
    "id": "3UrzENm_oo6U"
   },
   "source": [
    "Next, we import PySAGES and the necessary classes and methods for our simulation"
   ]
  },
  {
   "cell_type": "code",
   "execution_count": 2,
   "metadata": {
    "id": "fpMg-o8WomAA"
   },
   "outputs": [],
   "source": [
    "from pysages.grids import Grid\n",
    "from pysages.colvars import DihedralAngle\n",
    "from pysages.methods import SpectralABF\n",
    "\n",
    "import pysages"
   ]
  },
  {
   "cell_type": "markdown",
   "metadata": {
    "id": "LknkRvo1o4av"
   },
   "source": [
    "The next step is to define the collective variable (CV). In this case, we choose the central dihedral angle.\n",
    "\n",
    "We define a grid, which will be used to indicate how we want to bin the forces that will be used to approximate the biasing potential and its gradient."
   ]
  },
  {
   "cell_type": "code",
   "execution_count": 3,
   "metadata": {
    "id": "B1Z8FWz0o7u_"
   },
   "outputs": [],
   "source": [
    "cvs = [DihedralAngle([0, 4, 7, 10])]\n",
    "grid = Grid(lower=(-pi,), upper=(pi,), shape=(64,), periodic=True)\n",
    "timesteps = int(5e5)\n",
    "\n",
    "method = SpectralABF(cvs, grid)"
   ]
  },
  {
   "cell_type": "markdown",
   "metadata": {
    "id": "Fz8BfU34pA_N"
   },
   "source": [
    "We will now run a simulation for $5\\times10^5$ time steps.\n",
    "For optimal performance, ensure that the simulation is executed with GPU acceleration. Otherwise, it may take a considerably longer time to complete."
   ]
  },
  {
   "cell_type": "code",
   "execution_count": 4,
   "metadata": {
    "colab": {
     "base_uri": "https://localhost:8080/"
    },
    "id": "K951m4BbpUar",
    "outputId": "8005b8a9-2967-4eb9-f9db-e0dc0d523835"
   },
   "outputs": [
    {
     "name": "stdout",
     "output_type": "stream",
     "text": [
      "HOOMD-blue v2.9.7 CUDA (11.2) DOUBLE HPMC_MIXED MPI SSE SSE2 \n",
      "Compiled: 23/06/22\n",
      "Copyright (c) 2009-2019 The Regents of the University of Michigan.\n",
      "-----\n",
      "You are using HOOMD-blue. Please cite the following:\n",
      "* J A Anderson, J Glaser, and S C Glotzer. \"HOOMD-blue: A Python package for\n",
      "  high-performance molecular dynamics and hard particle Monte Carlo\n",
      "  simulations\", Computational Materials Science 173 (2020) 109363\n",
      "-----\n",
      "HOOMD-blue is running on the following GPU(s):\n",
      " [0]       Quadro RTX 4000  36 SM_7.5 @ 1.54 GHz, 7959 MiB DRAM, MNG\n",
      "notice(2): Group \"all\" created containing 14 particles\n",
      "notice(2): -- Neighborlist exclusion statistics -- :\n",
      "notice(2): Particles with 7 exclusions             : 6\n",
      "notice(2): Particles with 10 exclusions             : 6\n",
      "notice(2): Particles with 13 exclusions             : 2\n",
      "notice(2): Neighbors included by diameter          : no\n",
      "notice(2): Neighbors excluded when in the same body: no\n",
      "notice(2): Group \"charged\" created containing 14 particles\n",
      "-----\n",
      "You are using PPPM. Please cite the following:\n",
      "* D N LeBard, B G Levine, S A Barr, A Jusufi, S Sanders, M L Klein, and A Z\n",
      "  Panagiotopoulos. \"Self-assembly of coarse-grained ionic surfactants\n",
      "  accelerated by graphics processing units\", Journal of Computational Physics 8\n",
      "  (2012) 2385-2397\n",
      "-----\n",
      "** starting run **\n",
      "notice(2): charge.pppm: RMS error: 1.29239e-08\n"
     ]
    },
    {
     "name": "stdout",
     "output_type": "stream",
     "text": [
      "Time 00:00:11 | Step 8226 / 500000 | TPS 822.534 | ETA 00:09:57\n",
      "Time 00:00:21 | Step 17784 / 500000 | TPS 955.763 | ETA 00:08:24\n",
      "Time 00:00:31 | Step 27072 / 500000 | TPS 928.766 | ETA 00:08:29\n",
      "Time 00:00:41 | Step 36019 / 500000 | TPS 894.616 | ETA 00:08:38\n",
      "Time 00:00:51 | Step 45469 / 500000 | TPS 944.906 | ETA 00:08:01\n",
      "Time 00:01:01 | Step 54809 / 500000 | TPS 933.948 | ETA 00:07:56\n",
      "Time 00:01:11 | Step 64099 / 500000 | TPS 928.939 | ETA 00:07:49\n",
      "Time 00:01:21 | Step 73477 / 500000 | TPS 937.792 | ETA 00:07:34\n",
      "Time 00:01:31 | Step 82917 / 500000 | TPS 943.977 | ETA 00:07:21\n",
      "Time 00:01:41 | Step 92421 / 500000 | TPS 950.371 | ETA 00:07:08\n",
      "Time 00:01:51 | Step 101874 / 500000 | TPS 945.263 | ETA 00:07:01\n",
      "Time 00:02:01 | Step 111302 / 500000 | TPS 942.79 | ETA 00:06:52\n",
      "Time 00:02:11 | Step 120690 / 500000 | TPS 938.793 | ETA 00:06:44\n",
      "Time 00:02:21 | Step 129661 / 500000 | TPS 897.03 | ETA 00:06:52\n",
      "Time 00:02:31 | Step 138423 / 500000 | TPS 876.136 | ETA 00:06:52\n",
      "Time 00:02:41 | Step 147635 / 500000 | TPS 921.186 | ETA 00:06:22\n",
      "Time 00:02:51 | Step 156695 / 500000 | TPS 905.905 | ETA 00:06:18\n",
      "Time 00:03:01 | Step 165812 / 500000 | TPS 911.678 | ETA 00:06:06\n",
      "Time 00:03:11 | Step 174903 / 500000 | TPS 909.052 | ETA 00:05:57\n",
      "Time 00:03:21 | Step 183964 / 500000 | TPS 906.018 | ETA 00:05:48\n",
      "Time 00:03:31 | Step 193044 / 500000 | TPS 907.856 | ETA 00:05:38\n",
      "Time 00:03:41 | Step 201974 / 500000 | TPS 892.978 | ETA 00:05:33\n",
      "Time 00:03:51 | Step 211021 / 500000 | TPS 904.646 | ETA 00:05:19\n",
      "Time 00:04:01 | Step 220024 / 500000 | TPS 900.104 | ETA 00:05:11\n",
      "Time 00:04:11 | Step 228761 / 500000 | TPS 873.629 | ETA 00:05:10\n",
      "Time 00:04:21 | Step 237850 / 500000 | TPS 908.795 | ETA 00:04:48\n",
      "Time 00:04:31 | Step 246914 / 500000 | TPS 906.365 | ETA 00:04:39\n",
      "Time 00:04:41 | Step 255687 / 500000 | TPS 877.284 | ETA 00:04:38\n",
      "Time 00:04:51 | Step 264727 / 500000 | TPS 903.989 | ETA 00:04:20\n",
      "Time 00:05:01 | Step 273773 / 500000 | TPS 904.566 | ETA 00:04:10\n",
      "Time 00:05:11 | Step 282621 / 500000 | TPS 884.76 | ETA 00:04:05\n",
      "Time 00:05:21 | Step 291619 / 500000 | TPS 899.761 | ETA 00:03:51\n",
      "Time 00:05:31 | Step 300677 / 500000 | TPS 905.708 | ETA 00:03:40\n",
      "Time 00:05:41 | Step 309833 / 500000 | TPS 915.594 | ETA 00:03:27\n",
      "Time 00:05:51 | Step 319011 / 500000 | TPS 917.794 | ETA 00:03:17\n",
      "Time 00:06:01 | Step 328162 / 500000 | TPS 915.039 | ETA 00:03:07\n",
      "Time 00:06:11 | Step 337224 / 500000 | TPS 906.129 | ETA 00:02:59\n",
      "Time 00:06:21 | Step 346358 / 500000 | TPS 913.324 | ETA 00:02:48\n",
      "Time 00:06:31 | Step 354479 / 500000 | TPS 812.089 | ETA 00:02:59\n",
      "Time 00:06:41 | Step 363148 / 500000 | TPS 866.876 | ETA 00:02:37\n",
      "Time 00:06:51 | Step 371962 / 500000 | TPS 881.357 | ETA 00:02:25\n",
      "Time 00:07:01 | Step 381115 / 500000 | TPS 915.273 | ETA 00:02:09\n",
      "Time 00:07:11 | Step 390021 / 500000 | TPS 890.598 | ETA 00:02:03\n",
      "Time 00:07:21 | Step 398454 / 500000 | TPS 843.284 | ETA 00:02:00\n",
      "Time 00:07:31 | Step 407280 / 500000 | TPS 882.523 | ETA 00:01:45\n",
      "Time 00:07:41 | Step 415176 / 500000 | TPS 789.541 | ETA 00:01:47\n",
      "Time 00:07:51 | Step 423059 / 500000 | TPS 788.223 | ETA 00:01:37\n",
      "Time 00:08:01 | Step 431562 / 500000 | TPS 850.257 | ETA 00:01:20\n",
      "Time 00:08:11 | Step 440670 / 500000 | TPS 910.775 | ETA 00:01:05\n",
      "Time 00:08:21 | Step 449768 / 500000 | TPS 909.769 | ETA 00:00:55\n",
      "Time 00:08:31 | Step 458962 / 500000 | TPS 919.381 | ETA 00:00:44\n",
      "Time 00:08:41 | Step 468253 / 500000 | TPS 929.052 | ETA 00:00:34\n",
      "Time 00:08:51 | Step 477511 / 500000 | TPS 925.73 | ETA 00:00:24\n",
      "Time 00:09:01 | Step 486790 / 500000 | TPS 927.783 | ETA 00:00:14\n",
      "Time 00:09:11 | Step 496058 / 500000 | TPS 926.772 | ETA 00:00:04\n",
      "Time 00:09:15 | Step 500000 / 500000 | TPS 932.518 | ETA 00:00:00\n",
      "Average TPS: 902.107\n",
      "---------\n",
      "-- Neighborlist stats:\n",
      "81209 normal updates / 1667 forced updates / 0 dangerous updates\n",
      "n_neigh_min: 0 / n_neigh_max: 6 / n_neigh_avg: 3.85714\n",
      "shortest rebuild period: 3\n",
      "-- Cell list stats:\n",
      "Dimension: 3, 3, 3\n",
      "n_min    : 0 / n_max: 14 / n_avg: 0.518519\n",
      "** run complete **\n"
     ]
    }
   ],
   "source": [
    "run_result = pysages.run(method, generate_simulation, timesteps)"
   ]
  },
  {
   "cell_type": "markdown",
   "metadata": {
    "id": "26zdu6yAht5Y"
   },
   "source": [
    "\n",
    "## Analysis\n",
    "PySAGES provides an `analyze` method that makes it easier to get the free energy of different simulation runs."
   ]
  },
  {
   "cell_type": "code",
   "execution_count": 5,
   "metadata": {
    "id": "2NWmahlfhoj8"
   },
   "outputs": [],
   "source": [
    "result = pysages.analyze(run_result)"
   ]
  },
  {
   "cell_type": "markdown",
   "metadata": {
    "id": "PXBKUfK0p9T2"
   },
   "source": [
    "Let's plot now the free energy!"
   ]
  },
  {
   "cell_type": "code",
   "execution_count": 6,
   "metadata": {
    "id": "X69d1R7OpW4P"
   },
   "outputs": [],
   "source": [
    "import matplotlib.pyplot as plt"
   ]
  },
  {
   "cell_type": "code",
   "execution_count": 7,
   "metadata": {
    "id": "pTIGVSSqKdbs"
   },
   "outputs": [],
   "source": [
    "mesh = result[\"mesh\"]\n",
    "A = result[\"free_energy\"]\n",
    "# Alternatively:\n",
    "# fes_fn = result[\"fes_fn\"]\n",
    "# A = fes_fn(mesh)"
   ]
  },
  {
   "cell_type": "code",
   "execution_count": 8,
   "metadata": {
    "colab": {
     "base_uri": "https://localhost:8080/",
     "height": 302
    },
    "id": "7_d_XfVLLkbI",
    "outputId": "e35db259-31f8-4a3b-b1fa-7e91a8a5c88a"
   },
   "outputs": [
    {
     "data": {
      "text/plain": [
       "<matplotlib.axes._subplots.AxesSubplot at 0x7f19ec0b19b0>"
      ]
     },
     "execution_count": 8,
     "metadata": {},
     "output_type": "execute_result"
    },
    {
     "data": {
      "image/png": "[encoded data removed]",
      "text/plain": [
       "<Figure size 432x288 with 1 Axes>"
      ]
     },
     "metadata": {
      "needs_background": "light"
     },
     "output_type": "display_data"
    }
   ],
   "source": [
    "fig, ax = plt.subplots()\n",
    "\n",
    "ax.set_xlabel(r\"Dihedral Angle, $\\xi$\")\n",
    "ax.set_ylabel(r\"$A(\\xi)$\")\n",
    "ax.plot(mesh, A)\n",
    "\n",
    "fig.show()"
   ]
  }
 ],
 "metadata": {
  "accelerator": "GPU",
  "colab": {
   "collapsed_sections": [],
   "name": "Butane-CFF.ipynb",
   "provenance": []
  },
  "jupytext": {
   "formats": "ipynb,md"
  },
  "kernelspec": {
   "display_name": "Python 3",
   "language": "python",
   "name": "python3"
  },
  "language_info": {
   "codemirror_mode": {
    "name": "ipython",
    "version": 3
   },
   "file_extension": ".py",
   "mimetype": "text/x-python",
   "name": "python",
   "nbconvert_exporter": "python",
   "pygments_lexer": "ipython3",
   "version": "3.7.3"
  }
 },
 "nbformat": 4,
 "nbformat_minor": 1
}
