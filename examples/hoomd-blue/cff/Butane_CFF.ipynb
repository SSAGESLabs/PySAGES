{
 "cells": [
  {
   "cell_type": "markdown",
   "metadata": {
    "id": "T-Qkg9C9n7Cc"
   },
   "source": [
    "# Setting up the environment\n",
    "\n",
    "First, we set up our environment. We will be using a pre-compiled and packaged installation of HOOMD-blue and the hoomd-dlext plugin.\n",
    "It will be downloaded from Google Drive and made accessible to the Python process running in this Colab instance."
   ]
  },
  {
   "cell_type": "code",
   "execution_count": 1,
   "metadata": {
    "id": "3eTbKklCnyd_"
   },
   "outputs": [],
   "source": [
    "%%bash\n",
    "\n",
    "BASE_URL=\"https://drive.usercontent.google.com/download?id=1hsKkKtdxZTVfHKgqVF6qV2e-4SShmhr7\"\n",
    "COOKIES=\"/tmp/cookies.txt\"\n",
    "CONFIRMATION=\"$(wget -q --save-cookies $COOKIES --keep-session-cookies --no-check-certificate $BASE_URL -O- | sed -rn 's/.*confirm=(\\w+).*/\\1\\n/p')\"\n",
    "\n",
    "wget -q --load-cookies $COOKIES \"$BASE_URL&confirm=$CONFIRMATION\" -O pysages-env.zip\n",
    "rm -rf $COOKIES"
   ]
  },
  {
   "cell_type": "code",
   "execution_count": 2,
   "metadata": {
    "colab": {
     "base_uri": "https://localhost:8080/"
    },
    "id": "KRPmkpd9n_NG",
    "outputId": "acc3a92c-182f-415b-d8dc-b5af076b3d01"
   },
   "outputs": [
    {
     "name": "stdout",
     "output_type": "stream",
     "text": [
      "env: PYSAGES_ENV=/env/pysages\n"
     ]
    }
   ],
   "source": [
    "%env PYSAGES_ENV=/env/pysages"
   ]
  },
  {
   "cell_type": "code",
   "execution_count": 3,
   "metadata": {
    "id": "J7OY5K9VoBBh"
   },
   "outputs": [],
   "source": [
    "%%bash\n",
    "\n",
    "mkdir -p $PYSAGES_ENV .\n",
    "unzip -qquo pysages-env.zip -d $PYSAGES_ENV"
   ]
  },
  {
   "cell_type": "code",
   "execution_count": 5,
   "metadata": {
    "id": "EMAWp8VloIk4"
   },
   "outputs": [],
   "source": [
    "import os\n",
    "import sys\n",
    "\n",
    "ver = sys.version_info\n",
    "sys.path.append(os.environ[\"PYSAGES_ENV\"] + \"/lib/python\" + str(ver.major) + \".\" + str(ver.minor) + \"/site-packages/\")\n",
    "\n",
    "os.environ[\"LD_LIBRARY_PATH\"] = \"/usr/lib/x86_64-linux-gnu:\" + os.environ[\"LD_LIBRARY_PATH\"]"
   ]
  },
  {
   "cell_type": "markdown",
   "metadata": {
    "id": "Wy-75Pt7Bqs1"
   },
   "source": [
    "We'll also need some additional python dependencies"
   ]
  },
  {
   "cell_type": "code",
   "execution_count": 6,
   "metadata": {
    "id": "LpBucu3V81xm"
   },
   "outputs": [],
   "source": [
    "!pip install -qq \"numpy<2\" gsd > /dev/null"
   ]
  },
  {
   "cell_type": "markdown",
   "metadata": {
    "id": "we_mTkFioS6R"
   },
   "source": [
    "## PySAGES\n",
    "\n",
    "Next, we install PySAGES. The latest version is retrieved from GitHub and installed (along with its dependencies) using `pip`."
   ]
  },
  {
   "cell_type": "code",
   "execution_count": 7,
   "metadata": {
    "id": "B-HB9CzioV5j"
   },
   "outputs": [],
   "source": [
    "!pip install -qq git+https://github.com/SSAGESLabs/PySAGES.git > /dev/null"
   ]
  },
  {
   "cell_type": "markdown",
   "metadata": {
    "id": "KBFVcG1FoeMq"
   },
   "source": [
    "# CFF-biased simulations"
   ]
  },
  {
   "cell_type": "code",
   "execution_count": 8,
   "metadata": {
    "id": "ppTzMmyyobHB"
   },
   "outputs": [],
   "source": [
    "%%bash\n",
    "\n",
    "mkdir /content/cff\n",
    "cd /content/cff"
   ]
  },
  {
   "cell_type": "markdown",
   "metadata": {
    "id": "0W2ukJuuojAl"
   },
   "source": [
    "CFF gradually learns both the free energy and its gradient from a discrete estimate of the generalized mean forces (based on the same algorithm as the ABF method), and frequency of visits to sites in phase space. It employs a couple of neural networks to provide a continuous approximation to the free energy.\n",
    "\n",
    "In this Colab notebook, we will use butane as an example system."
   ]
  },
  {
   "cell_type": "code",
   "execution_count": 9,
   "metadata": {
    "id": "BBvC7Spoog82"
   },
   "outputs": [],
   "source": [
    "import hoomd\n",
    "import gsd.hoomd\n",
    "import numpy as np\n",
    "\n",
    "\n",
    "pi = np.pi\n",
    "kT = 0.596161\n",
    "dt = 0.02045\n",
    "\n",
    "\n",
    "def generate_simulation(kT = kT, dt = dt, device = hoomd.device.auto_select(), seed = 42):\n",
    "    \"\"\"\n",
    "    Generates a simulation context to which will attatch our sampling method.\n",
    "    \"\"\"\n",
    "    simulation = hoomd.Simulation(device=device, seed=seed)\n",
    "\n",
    "    snapshot = gsd.hoomd.Frame()\n",
    "\n",
    "    snapshot.configuration.box = [41, 41, 41, 0, 0, 0]\n",
    "\n",
    "    snapshot.particles.N = N = 14\n",
    "    snapshot.particles.types = [\"C\", \"H\"]\n",
    "    snapshot.particles.typeid = np.zeros(N, dtype=int)\n",
    "    snapshot.particles.position = np.zeros((N, 3))\n",
    "    snapshot.particles.mass = np.zeros(N, dtype=float)\n",
    "    snapshot.particles.charge = np.zeros(N, dtype=float)\n",
    "    snapshot.particles.typeid[0] = 0\n",
    "    snapshot.particles.typeid[1:4] = 1\n",
    "    snapshot.particles.typeid[4] = 0\n",
    "    snapshot.particles.typeid[5:7] = 1\n",
    "    snapshot.particles.typeid[7] = 0\n",
    "    snapshot.particles.typeid[8:10] = 1\n",
    "    snapshot.particles.typeid[10] = 0\n",
    "    snapshot.particles.typeid[11:14] = 1\n",
    "\n",
    "    positions = np.array(\n",
    "        [\n",
    "            [-2.990196, 0.097881, 0.000091],\n",
    "            [-2.634894, -0.911406, 0.001002],\n",
    "            [-2.632173, 0.601251, -0.873601],\n",
    "            [-4.060195, 0.099327, -0.000736],\n",
    "            [-2.476854, 0.823942, 1.257436],\n",
    "            [-2.832157, 1.833228, 1.256526],\n",
    "            [-2.834877, 0.320572, 2.131128],\n",
    "            [-0.936856, 0.821861, 1.258628],\n",
    "            [-0.578833, 1.325231, 0.384935],\n",
    "            [-0.581553, -0.187426, 1.259538],\n",
    "            [-0.423514, 1.547922, 2.515972],\n",
    "            [-0.781537, 1.044552, 3.389664],\n",
    "            [0.646485, 1.546476, 2.516800],\n",
    "            [-0.778816, 2.557208, 2.515062],\n",
    "        ]\n",
    "    )\n",
    "\n",
    "    reference_box_low_coords = np.array([-22.206855, -19.677099, -19.241968])\n",
    "    box_low_coords = np.array([-41.0 / 2, -41.0 / 2, -41.0 / 2])\n",
    "    positions += box_low_coords - reference_box_low_coords\n",
    "\n",
    "    snapshot.particles.position[:] = positions[:]\n",
    "\n",
    "    mC = 12.00\n",
    "    mH = 1.008\n",
    "\n",
    "    # fmt: off\n",
    "    snapshot.particles.mass[:] = [\n",
    "        mC, mH, mH, mH,  # grouped by carbon atoms\n",
    "        mC, mH, mH,\n",
    "        mC, mH, mH,\n",
    "        mC, mH, mH, mH,\n",
    "    ]\n",
    "\n",
    "    reference_charges = np.array(\n",
    "        [\n",
    "            -0.180000, 0.060000, 0.060000, 0.060000,  # grouped by carbon atoms\n",
    "            -0.120000, 0.060000, 0.060000,\n",
    "            -0.120000, 0.060000, 0.060000,\n",
    "            -0.180000, 0.060000, 0.060000, 0.060000,\n",
    "        ]\n",
    "    )\n",
    "    # fmt: on\n",
    "\n",
    "    charge_conversion = 18.22262\n",
    "    snapshot.particles.charge[:] = charge_conversion * reference_charges[:]\n",
    "\n",
    "    snapshot.particles.validate()\n",
    "\n",
    "    snapshot.bonds.N = 13\n",
    "    snapshot.bonds.types = [\"CC\", \"CH\"]\n",
    "    snapshot.bonds.typeid = np.zeros(13, dtype=int)\n",
    "    snapshot.bonds.typeid[0:3] = 1\n",
    "    snapshot.bonds.typeid[3] = 0\n",
    "    snapshot.bonds.typeid[4:6] = 1\n",
    "    snapshot.bonds.typeid[6] = 0\n",
    "    snapshot.bonds.typeid[7:9] = 1\n",
    "    snapshot.bonds.typeid[9] = 0\n",
    "    snapshot.bonds.typeid[10:13] = 1\n",
    "\n",
    "    snapshot.bonds.group = np.zeros((13, 2), dtype=int)\n",
    "    # fmt: off\n",
    "    snapshot.bonds.group[:] = [\n",
    "        [0, 2], [0, 1], [0, 3], [0, 4],  # grouped by carbon atoms\n",
    "        [4, 5], [4, 6], [4, 7],\n",
    "        [7, 8], [7, 9], [7, 10],\n",
    "        [10, 11], [10, 12], [10, 13],\n",
    "    ]\n",
    "    # fmt: on\n",
    "\n",
    "    snapshot.angles.N = 24\n",
    "    snapshot.angles.types = [\"CCC\", \"CCH\", \"HCH\"]\n",
    "    snapshot.angles.typeid = np.zeros(24, dtype=int)\n",
    "    snapshot.angles.typeid[0:2] = 2\n",
    "    snapshot.angles.typeid[2] = 1\n",
    "    snapshot.angles.typeid[3] = 2\n",
    "    snapshot.angles.typeid[4:8] = 1\n",
    "    snapshot.angles.typeid[8] = 0\n",
    "    snapshot.angles.typeid[9] = 2\n",
    "    snapshot.angles.typeid[10:14] = 1\n",
    "    snapshot.angles.typeid[14] = 0\n",
    "    snapshot.angles.typeid[15] = 2\n",
    "    snapshot.angles.typeid[16:21] = 1\n",
    "    snapshot.angles.typeid[21:24] = 2\n",
    "\n",
    "    snapshot.angles.group = np.zeros((24, 3), dtype=int)\n",
    "    # fmt: off\n",
    "    snapshot.angles.group[:] = [\n",
    "        [1, 0, 2], [2, 0, 3], [2, 0, 4],  # grouped by carbon atoms\n",
    "        [1, 0, 3], [1, 0, 4], [3, 0, 4],\n",
    "        # ---\n",
    "        [0, 4, 5], [0, 4, 6], [0, 4, 7],\n",
    "        [5, 4, 6], [5, 4, 7], [6, 4, 7],\n",
    "        # ---\n",
    "        [4, 7, 8], [4, 7, 9], [4, 7, 10],\n",
    "        [8, 7, 9], [8, 7, 10], [9, 7, 10],\n",
    "        # ---\n",
    "        [7, 10, 11], [7, 10, 12], [7, 10, 13],\n",
    "        [11, 10, 12], [11, 10, 13], [12, 10, 13],\n",
    "    ]\n",
    "    # fmt: on\n",
    "\n",
    "    snapshot.dihedrals.N = 27\n",
    "    snapshot.dihedrals.types = [\"CCCC\", \"HCCC\", \"HCCH\"]\n",
    "    snapshot.dihedrals.typeid = np.zeros(27, dtype=int)\n",
    "    snapshot.dihedrals.typeid[0:2] = 2\n",
    "    snapshot.dihedrals.typeid[2] = 1\n",
    "    snapshot.dihedrals.typeid[3:5] = 2\n",
    "    snapshot.dihedrals.typeid[5] = 1\n",
    "    snapshot.dihedrals.typeid[6:8] = 2\n",
    "    snapshot.dihedrals.typeid[8:11] = 1\n",
    "    snapshot.dihedrals.typeid[11] = 0\n",
    "    snapshot.dihedrals.typeid[12:14] = 2\n",
    "    snapshot.dihedrals.typeid[14] = 1\n",
    "    snapshot.dihedrals.typeid[15:17] = 2\n",
    "    snapshot.dihedrals.typeid[17:21] = 1\n",
    "    snapshot.dihedrals.typeid[21:27] = 2\n",
    "\n",
    "    snapshot.dihedrals.group = np.zeros((27, 4), dtype=int)\n",
    "    # fmt: off\n",
    "    snapshot.dihedrals.group[:] = [\n",
    "        [2, 0, 4, 5], [2, 0, 4, 6], [2, 0, 4, 7],  # grouped by pairs of central atoms\n",
    "        [1, 0, 4, 5], [1, 0, 4, 6], [1, 0, 4, 7],\n",
    "        [3, 0, 4, 5], [3, 0, 4, 6], [3, 0, 4, 7],\n",
    "        # ---\n",
    "        [0, 4, 7, 8], [0, 4, 7, 9], [0, 4, 7, 10],\n",
    "        [5, 4, 7, 8], [5, 4, 7, 9], [5, 4, 7, 10],\n",
    "        [6, 4, 7, 8], [6, 4, 7, 9], [6, 4, 7, 10],\n",
    "        # ---\n",
    "        [4, 7, 10, 11], [4, 7, 10, 12], [4, 7, 10, 13],\n",
    "        [8, 7, 10, 11], [8, 7, 10, 12], [8, 7, 10, 13],\n",
    "        [9, 7, 10, 11], [9, 7, 10, 12], [9, 7, 10, 13],\n",
    "    ]\n",
    "    # fmt: on\n",
    "\n",
    "    snapshot.pairs.N = 27\n",
    "    snapshot.pairs.types = [\"CCCC\", \"HCCC\", \"HCCH\"]\n",
    "    snapshot.pairs.typeid = np.zeros(27, dtype=int)\n",
    "    snapshot.pairs.typeid[0:1] = 0\n",
    "    snapshot.pairs.typeid[1:11] = 1\n",
    "    snapshot.pairs.typeid[11:27] = 2\n",
    "    snapshot.pairs.group = np.zeros((27, 2), dtype=int)\n",
    "    # fmt: off\n",
    "    snapshot.pairs.group[:] = [\n",
    "        # CCCC\n",
    "        [0, 10],\n",
    "        # HCCC\n",
    "        [0, 8],\n",
    "        [0, 9],\n",
    "        [5, 10], [6, 10],\n",
    "        [1, 7], [2, 7], [3, 7],\n",
    "        [11, 4], [12, 4], [13, 4],\n",
    "        # HCCH\n",
    "        [1, 5], [1, 6],\n",
    "        [2, 5], [2, 6],\n",
    "        [3, 5], [3, 6],\n",
    "        [5, 8], [6, 8],\n",
    "        [5, 9], [6, 9],\n",
    "        [8, 11], [8, 12], [8, 13],\n",
    "        [9, 11], [9, 12], [9, 13],\n",
    "    ]\n",
    "    # fmt: on\n",
    "\n",
    "    simulation.create_state_from_snapshot(snapshot, domain_decomposition=(None, None, None))\n",
    "    simulation.run(0)\n",
    "\n",
    "    exclusions = [\"bond\", \"1-3\", \"1-4\"]\n",
    "    nl = hoomd.md.nlist.Cell(buffer=0.4, exclusions=exclusions)\n",
    "    lj = hoomd.md.pair.LJ(nlist=nl, default_r_cut=12.0)\n",
    "    lj.params[(\"C\", \"C\")] = dict(epsilon=0.07, sigma=3.55)\n",
    "    lj.params[(\"H\", \"H\")] = dict(epsilon=0.03, sigma=2.42)\n",
    "    lj.params[(\"C\", \"H\")] = dict(epsilon=np.sqrt(0.07 * 0.03), sigma=np.sqrt(3.55 * 2.42))\n",
    "\n",
    "    coulomb = hoomd.md.long_range.pppm.make_pppm_coulomb_forces(\n",
    "        nlist=nl, resolution=[64, 64, 64], order=6, r_cut=12.0\n",
    "    )\n",
    "\n",
    "    harmonic = hoomd.md.bond.Harmonic()\n",
    "    harmonic.params[\"CC\"] = dict(k=2 * 268.0, r0=1.529)\n",
    "    harmonic.params[\"CH\"] = dict(k=2 * 340.0, r0=1.09)\n",
    "\n",
    "    angle = hoomd.md.angle.Harmonic()\n",
    "    angle.params[\"CCC\"] = dict(k=2 * 58.35, t0=112.7 * pi / 180)\n",
    "    angle.params[\"CCH\"] = dict(k=2 * 37.5, t0=110.7 * pi / 180)\n",
    "    angle.params[\"HCH\"] = dict(k=2 * 33.0, t0=107.8 * pi / 180)\n",
    "\n",
    "    dihedral = hoomd.md.dihedral.OPLS()\n",
    "    dihedral.params[\"CCCC\"] = dict(k1=1.3, k2=-0.05, k3=0.2, k4=0.0)\n",
    "    dihedral.params[\"HCCC\"] = dict(k1=0.0, k2=0.0, k3=0.3, k4=0.0)\n",
    "    dihedral.params[\"HCCH\"] = dict(k1=0.0, k2=0.0, k3=0.3, k4=0.0)\n",
    "\n",
    "    lj_special_pairs = hoomd.md.special_pair.LJ()\n",
    "    lj_special_pairs.params[\"CCCC\"] = dict(epsilon=0.07, sigma=3.55)\n",
    "    lj_special_pairs.params[\"HCCH\"] = dict(epsilon=0.03, sigma=2.42)\n",
    "    lj_special_pairs.params[\"HCCC\"] = dict(epsilon=np.sqrt(0.07 * 0.03), sigma=np.sqrt(3.55 * 2.42))\n",
    "    lj_special_pairs.r_cut[\"CCCC\"] = 12.0\n",
    "    lj_special_pairs.r_cut[\"HCCC\"] = 12.0\n",
    "    lj_special_pairs.r_cut[\"HCCH\"] = 12.0\n",
    "    coulomb_special_pairs = hoomd.md.special_pair.Coulomb()\n",
    "    coulomb_special_pairs.params[\"CCCC\"] = dict(alpha=0.5)\n",
    "    coulomb_special_pairs.params[\"HCCC\"] = dict(alpha=0.5)\n",
    "    coulomb_special_pairs.params[\"HCCH\"] = dict(alpha=0.5)\n",
    "    coulomb_special_pairs.r_cut[\"HCCH\"] = 12.0\n",
    "    coulomb_special_pairs.r_cut[\"CCCC\"] = 12.0\n",
    "    coulomb_special_pairs.r_cut[\"HCCC\"] = 12.0\n",
    "\n",
    "    nvt = hoomd.md.methods.Langevin(filter=hoomd.filter.All(), kT=kT)\n",
    "\n",
    "    integrator = hoomd.md.Integrator(dt=dt)\n",
    "    integrator.forces.append(lj)\n",
    "    integrator.forces.append(coulomb[0])\n",
    "    integrator.forces.append(coulomb[1])\n",
    "    integrator.forces.append(harmonic)\n",
    "    integrator.forces.append(angle)\n",
    "    integrator.forces.append(dihedral)\n",
    "    integrator.forces.append(lj_special_pairs)\n",
    "    integrator.forces.append(coulomb_special_pairs)\n",
    "    integrator.methods.append(nvt)\n",
    "    simulation.operations.integrator = integrator\n",
    "\n",
    "    return simulation"
   ]
  },
  {
   "cell_type": "markdown",
   "metadata": {
    "id": "3UrzENm_oo6U"
   },
   "source": [
    "\n",
    "Next, we import PySAGES and the necessary classes and methods for our simulation\n"
   ]
  },
  {
   "cell_type": "code",
   "execution_count": 10,
   "metadata": {
    "id": "fpMg-o8WomAA"
   },
   "outputs": [],
   "source": [
    "from pysages.grids import Grid\n",
    "from pysages.colvars import DihedralAngle\n",
    "from pysages.methods import CFF\n",
    "\n",
    "import pysages"
   ]
  },
  {
   "cell_type": "markdown",
   "metadata": {
    "id": "LknkRvo1o4av"
   },
   "source": [
    "\n",
    "The next step is to define the collective variable (CV). In this case, we choose the central dihedral angle.\n",
    "\n",
    "We also define a grid to bin our CV space, the topology (tuple indicating the number of\n",
    "nodes of each hidden layer) for our neural network which will model the free energy.\n",
    "\n",
    "The appropriate number of bins depends on the complexity of the free energy landscape,\n",
    "a good rule of thumb is to choose between 20 to 100 bins along each CV dimension\n",
    "(using higher values for more rugged free energy surfaces), but it can be systematically\n",
    "found trying different values for short runs of any given system.\n"
   ]
  },
  {
   "cell_type": "code",
   "execution_count": 12,
   "metadata": {
    "id": "B1Z8FWz0o7u_"
   },
   "outputs": [],
   "source": [
    "cvs = [DihedralAngle([0, 4, 7, 10])]\n",
    "grid = Grid(lower=(-pi,), upper=(pi,), shape=(64,), periodic=True)\n",
    "\n",
    "topology = (14,)\n",
    "method = CFF(cvs, grid, topology, kT)"
   ]
  },
  {
   "cell_type": "markdown",
   "metadata": {
    "id": "Fz8BfU34pA_N"
   },
   "source": [
    "\n",
    "We will now run a simulation for $5\\times10^5$ time steps.\n",
    "For optimal performance, ensure that the simulation is executed with GPU acceleration. Otherwise, it may take a considerably longer time to complete.\n"
   ]
  },
  {
   "cell_type": "code",
   "execution_count": 13,
   "metadata": {
    "colab": {
     "base_uri": "https://localhost:8080/"
    },
    "id": "K951m4BbpUar",
    "outputId": "8005b8a9-2967-4eb9-f9db-e0dc0d523835"
   },
   "outputs": [
    {
     "name": "stdout",
     "output_type": "stream",
     "text": [
      "HOOMD-blue v2.9.7 CUDA (11.1) DOUBLE HPMC_MIXED SSE SSE2 \n",
      "Compiled: 07/07/2022\n",
      "Copyright (c) 2009-2019 The Regents of the University of Michigan.\n",
      "-----\n",
      "You are using HOOMD-blue. Please cite the following:\n",
      "* J A Anderson, J Glaser, and S C Glotzer. \"HOOMD-blue: A Python package for\n",
      "  high-performance molecular dynamics and hard particle Monte Carlo\n",
      "  simulations\", Computational Materials Science 173 (2020) 109363\n",
      "-----\n",
      "HOOMD-blue is running on the following GPU(s):\n",
      " [0]              Tesla T4  40 SM_7.5 @ 1.59 GHz, 15109 MiB DRAM, MNG\n",
      "notice(2): Group \"all\" created containing 14 particles\n",
      "notice(2): -- Neighborlist exclusion statistics -- :\n",
      "notice(2): Particles with 7 exclusions             : 6\n",
      "notice(2): Particles with 10 exclusions             : 6\n",
      "notice(2): Particles with 13 exclusions             : 2\n",
      "notice(2): Neighbors included by diameter          : no\n",
      "notice(2): Neighbors excluded when in the same body: no\n",
      "notice(2): Group \"charged\" created containing 14 particles\n",
      "-----\n",
      "You are using PPPM. Please cite the following:\n",
      "* D N LeBard, B G Levine, S A Barr, A Jusufi, S Sanders, M L Klein, and A Z\n",
      "  Panagiotopoulos. \"Self-assembly of coarse-grained ionic surfactants\n",
      "  accelerated by graphics processing units\", Journal of Computational Physics 8\n",
      "  (2012) 2385-2397\n",
      "-----\n",
      "** starting run **\n",
      "notice(2): charge.pppm: RMS error: 1.29239e-08\n",
      "Time 00:00:20 | Step 1 / 500000 | TPS 0.0598442 | ETA 2320:50:17\n",
      "Time 00:00:30 | Step 6657 / 500000 | TPS 665.517 | ETA 00:12:21\n",
      "Time 00:00:40 | Step 13651 / 500000 | TPS 699.38 | ETA 00:11:35\n",
      "Time 00:00:50 | Step 19728 / 500000 | TPS 607.655 | ETA 00:13:10\n",
      "Time 00:01:00 | Step 26406 / 500000 | TPS 667.742 | ETA 00:11:49\n",
      "Time 00:01:10 | Step 33718 / 500000 | TPS 731.136 | ETA 00:10:37\n",
      "Time 00:01:20 | Step 40689 / 500000 | TPS 697.036 | ETA 00:10:58\n",
      "Time 00:01:30 | Step 47204 / 500000 | TPS 651.483 | ETA 00:11:35\n",
      "Time 00:01:40 | Step 53364 / 500000 | TPS 615.919 | ETA 00:12:05\n",
      "Time 00:01:50 | Step 60534 / 500000 | TPS 716.984 | ETA 00:10:12\n",
      "Time 00:02:00 | Step 67731 / 500000 | TPS 719.618 | ETA 00:10:00\n",
      "Time 00:02:10 | Step 73668 / 500000 | TPS 593.387 | ETA 00:11:58\n",
      "Time 00:02:20 | Step 80172 / 500000 | TPS 650.378 | ETA 00:10:45\n",
      "Time 00:02:30 | Step 86904 / 500000 | TPS 673.147 | ETA 00:10:13\n",
      "Time 00:02:40 | Step 93960 / 500000 | TPS 705.596 | ETA 00:09:35\n",
      "Time 00:02:50 | Step 100723 / 500000 | TPS 676.271 | ETA 00:09:50\n",
      "Time 00:03:00 | Step 106714 / 500000 | TPS 599.071 | ETA 00:10:56\n",
      "Time 00:03:10 | Step 112437 / 500000 | TPS 572.235 | ETA 00:11:17\n",
      "Time 00:03:20 | Step 119390 / 500000 | TPS 695.268 | ETA 00:09:07\n",
      "Time 00:03:30 | Step 126132 / 500000 | TPS 674.109 | ETA 00:09:14\n",
      "Time 00:03:40 | Step 133404 / 500000 | TPS 727.124 | ETA 00:08:24\n",
      "Time 00:03:50 | Step 140016 / 500000 | TPS 661.164 | ETA 00:09:04\n",
      "Time 00:04:00 | Step 147320 / 500000 | TPS 730.322 | ETA 00:08:02\n",
      "Time 00:04:10 | Step 154593 / 500000 | TPS 727.218 | ETA 00:07:54\n",
      "Time 00:04:20 | Step 161659 / 500000 | TPS 706.519 | ETA 00:07:58\n",
      "Time 00:04:30 | Step 169025 / 500000 | TPS 736.589 | ETA 00:07:29\n",
      "Time 00:04:40 | Step 176330 / 500000 | TPS 730.437 | ETA 00:07:23\n",
      "Time 00:04:50 | Step 183537 / 500000 | TPS 720.695 | ETA 00:07:19\n",
      "Time 00:05:00 | Step 190932 / 500000 | TPS 739.444 | ETA 00:06:57\n",
      "Time 00:05:10 | Step 198190 / 500000 | TPS 725.728 | ETA 00:06:55\n",
      "Time 00:05:20 | Step 204817 / 500000 | TPS 662.608 | ETA 00:07:25\n",
      "Time 00:05:30 | Step 210383 / 500000 | TPS 556.54 | ETA 00:08:40\n",
      "Time 00:05:40 | Step 216634 / 500000 | TPS 625.034 | ETA 00:07:33\n",
      "Time 00:05:50 | Step 223053 / 500000 | TPS 641.885 | ETA 00:07:11\n",
      "Time 00:06:00 | Step 229250 / 500000 | TPS 619.686 | ETA 00:07:16\n",
      "Time 00:06:10 | Step 235985 / 500000 | TPS 673.409 | ETA 00:06:32\n",
      "Time 00:06:20 | Step 242444 / 500000 | TPS 645.819 | ETA 00:06:38\n",
      "Time 00:06:30 | Step 249795 / 500000 | TPS 735.099 | ETA 00:05:40\n",
      "Time 00:06:40 | Step 255652 / 500000 | TPS 585.693 | ETA 00:06:57\n",
      "Time 00:06:50 | Step 261412 / 500000 | TPS 575.964 | ETA 00:06:54\n",
      "Time 00:07:00 | Step 267723 / 500000 | TPS 631.052 | ETA 00:06:08\n",
      "Time 00:07:10 | Step 274402 / 500000 | TPS 667.819 | ETA 00:05:37\n",
      "Time 00:07:20 | Step 281679 / 500000 | TPS 727.612 | ETA 00:05:00\n",
      "Time 00:07:30 | Step 289054 / 500000 | TPS 737.423 | ETA 00:04:46\n",
      "Time 00:07:40 | Step 296379 / 500000 | TPS 732.459 | ETA 00:04:37\n",
      "Time 00:07:50 | Step 303214 / 500000 | TPS 683.482 | ETA 00:04:47\n",
      "Time 00:08:00 | Step 310599 / 500000 | TPS 738.11 | ETA 00:04:16\n",
      "Time 00:08:10 | Step 317944 / 500000 | TPS 734.425 | ETA 00:04:07\n",
      "Time 00:08:20 | Step 325305 / 500000 | TPS 736.04 | ETA 00:03:57\n",
      "Time 00:08:30 | Step 332746 / 500000 | TPS 744.032 | ETA 00:03:44\n",
      "Time 00:08:40 | Step 339821 / 500000 | TPS 707.492 | ETA 00:03:46\n",
      "Time 00:08:50 | Step 347059 / 500000 | TPS 723.757 | ETA 00:03:31\n",
      "Time 00:09:00 | Step 354539 / 500000 | TPS 747.949 | ETA 00:03:14\n",
      "Time 00:09:10 | Step 361949 / 500000 | TPS 740.91 | ETA 00:03:06\n",
      "Time 00:09:20 | Step 369442 / 500000 | TPS 749.205 | ETA 00:02:54\n",
      "Time 00:09:30 | Step 376905 / 500000 | TPS 746.263 | ETA 00:02:44\n",
      "Time 00:09:40 | Step 384362 / 500000 | TPS 745.643 | ETA 00:02:35\n",
      "Time 00:09:50 | Step 390145 / 500000 | TPS 577.927 | ETA 00:03:10\n",
      "Time 00:10:00 | Step 396176 / 500000 | TPS 603.056 | ETA 00:02:52\n",
      "Time 00:10:10 | Step 403449 / 500000 | TPS 727.231 | ETA 00:02:12\n",
      "Time 00:10:20 | Step 410910 / 500000 | TPS 746.085 | ETA 00:01:59\n",
      "Time 00:10:30 | Step 418388 / 500000 | TPS 747.758 | ETA 00:01:49\n",
      "Time 00:10:40 | Step 425792 / 500000 | TPS 740.366 | ETA 00:01:40\n",
      "Time 00:10:50 | Step 433012 / 500000 | TPS 721.975 | ETA 00:01:32\n",
      "Time 00:11:00 | Step 440402 / 500000 | TPS 738.956 | ETA 00:01:20\n",
      "Time 00:11:10 | Step 447757 / 500000 | TPS 735.41 | ETA 00:01:11\n",
      "Time 00:11:20 | Step 455260 / 500000 | TPS 750.268 | ETA 00:00:59\n",
      "Time 00:11:30 | Step 462642 / 500000 | TPS 738.196 | ETA 00:00:50\n",
      "Time 00:11:40 | Step 470072 / 500000 | TPS 742.902 | ETA 00:00:40\n",
      "Time 00:11:50 | Step 477549 / 500000 | TPS 747.682 | ETA 00:00:30\n",
      "Time 00:12:00 | Step 485001 / 500000 | TPS 739.907 | ETA 00:00:20\n",
      "Time 00:12:10 | Step 492458 / 500000 | TPS 745.549 | ETA 00:00:10\n",
      "Time 00:12:20 | Step 499984 / 500000 | TPS 752.583 | ETA 00:00:00\n",
      "Time 00:12:20 | Step 500000 / 500000 | TPS 567.819 | ETA 00:00:00\n",
      "Average TPS: 678.538\n",
      "---------\n",
      "-- Neighborlist stats:\n",
      "82126 normal updates / 1667 forced updates / 0 dangerous updates\n",
      "n_neigh_min: 0 / n_neigh_max: 6 / n_neigh_avg: 3.85714\n",
      "shortest rebuild period: 3\n",
      "-- Cell list stats:\n",
      "Dimension: 3, 3, 3\n",
      "n_min    : 0 / n_max: 14 / n_avg: 0.518519\n",
      "** run complete **\n"
     ]
    }
   ],
   "source": [
    "raw_result = pysages.run(method, generate_simulation, int(5e5))"
   ]
  },
  {
   "cell_type": "markdown",
   "metadata": {
    "id": "26zdu6yAht5Y"
   },
   "source": [
    "\n",
    "PySAGES provides an `analyze` method that makes it easier to get the free energy of different simulation runs.\n"
   ]
  },
  {
   "cell_type": "code",
   "execution_count": 21,
   "metadata": {
    "id": "2NWmahlfhoj8"
   },
   "outputs": [],
   "source": [
    "result = pysages.analyze(raw_result)"
   ]
  },
  {
   "cell_type": "markdown",
   "metadata": {
    "id": "PXBKUfK0p9T2"
   },
   "source": [
    "\n",
    "Let's plot now the free energy!\n"
   ]
  },
  {
   "cell_type": "code",
   "execution_count": 14,
   "metadata": {
    "id": "X69d1R7OpW4P"
   },
   "outputs": [],
   "source": [
    "import matplotlib.pyplot as plt"
   ]
  },
  {
   "cell_type": "code",
   "execution_count": 22,
   "metadata": {
    "id": "pTIGVSSqKdbs"
   },
   "outputs": [],
   "source": [
    "mesh = result[\"mesh\"]\n",
    "A = result[\"free_energy\"]\n",
    "# Alternatively:\n",
    "# fes_fn = result[\"fes_fn\"]\n",
    "# A = fes_fn(mesh)"
   ]
  },
  {
   "cell_type": "code",
   "execution_count": 24,
   "metadata": {
    "colab": {
     "base_uri": "https://localhost:8080/",
     "height": 302
    },
    "id": "7_d_XfVLLkbI",
    "outputId": "e35db259-31f8-4a3b-b1fa-7e91a8a5c88a"
   },
   "outputs": [
    {
     "data": {
      "text/plain": [
       "<matplotlib.axes._subplots.AxesSubplot at 0x7f27df5b8750>"
      ]
     },
     "execution_count": 24,
     "metadata": {},
     "output_type": "execute_result"
    },
    {
     "data": {
      "image/png": "[encoded data removed]",
      "text/plain": [
       "<Figure size 432x288 with 1 Axes>"
      ]
     },
     "metadata": {
      "needs_background": "light"
     },
     "output_type": "display_data"
    }
   ],
   "source": [
    "fig, ax = plt.subplots()\n",
    "\n",
    "ax.set_xlabel(r\"Dihedral Angle, $\\xi$\")\n",
    "ax.set_ylabel(r\"$A(\\xi)$\")\n",
    "ax.plot(mesh, A)\n",
    "\n",
    "fig.show()"
   ]
  }
 ],
 "metadata": {
  "accelerator": "GPU",
  "colab": {
   "collapsed_sections": [],
   "name": "Butane-CFF.ipynb",
   "provenance": []
  },
  "jupytext": {
   "formats": "ipynb,md",
   "main_language": "python"
  },
  "kernelspec": {
   "display_name": "Python 3",
   "name": "python3"
  },
  "language_info": {
   "codemirror_mode": {
    "name": "ipython",
    "version": 3
   },
   "file_extension": ".py",
   "mimetype": "text/x-python",
   "name": "python",
   "nbconvert_exporter": "python",
   "pygments_lexer": "ipython3",
   "version": "3.9.12"
  }
 },
 "nbformat": 4,
 "nbformat_minor": 1
}
