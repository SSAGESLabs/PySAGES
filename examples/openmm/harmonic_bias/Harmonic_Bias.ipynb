{
 "cells": [
  {
   "cell_type": "markdown",
   "metadata": {
    "id": "_UgEohXC8n0g"
   },
   "source": [
    "# Setting up the environment\n",
    "\n",
    "First, we set up our environment. We will be using a pre-compiled and packaged installation of OpenMM and the openmm-dlext plugin.\n",
    "It will be downloaded from Google Drive and made accessible to the Python process running in this Colab instance."
   ]
  },
  {
   "cell_type": "code",
   "execution_count": 1,
   "metadata": {
    "id": "3eTbKklCnyd_"
   },
   "outputs": [],
   "source": [
    "%%bash\n",
    "\n",
    "BASE_URL=\"https://drive.usercontent.google.com/download?id=1hsKkKtdxZTVfHKgqVF6qV2e-4SShmhr7\"\n",
    "COOKIES=\"/tmp/cookies.txt\"\n",
    "CONFIRMATION=\"$(wget -q --save-cookies $COOKIES --keep-session-cookies --no-check-certificate $BASE_URL -O- | sed -rn 's/.*confirm=(\\w+).*/\\1\\n/p')\"\n",
    "\n",
    "wget -q --load-cookies $COOKIES \"$BASE_URL&confirm=$CONFIRMATION\" -O pysages-env.zip\n",
    "rm -rf $COOKIES"
   ]
  },
  {
   "cell_type": "code",
   "execution_count": 2,
   "metadata": {
    "id": "25H3kl03wzJe"
   },
   "outputs": [
    {
     "name": "stdout",
     "output_type": "stream",
     "text": [
      "env: PYSAGES_ENV=/env/pysages\n"
     ]
    }
   ],
   "source": [
    "%env PYSAGES_ENV=/env/pysages"
   ]
  },
  {
   "cell_type": "code",
   "execution_count": 3,
   "metadata": {
    "id": "CPkgxfj6w4te"
   },
   "outputs": [],
   "source": [
    "%%bash\n",
    "\n",
    "mkdir -p $PYSAGES_ENV .\n",
    "unzip -qquo pysages-env.zip -d $PYSAGES_ENV"
   ]
  },
  {
   "cell_type": "code",
   "execution_count": 4,
   "metadata": {
    "id": "JMO5fiRTxAWB"
   },
   "outputs": [],
   "source": [
    "import os\n",
    "import sys\n",
    "\n",
    "ver = sys.version_info\n",
    "sys.path.append(os.environ[\"PYSAGES_ENV\"] + \"/lib/python\" + str(ver.major) + \".\" + str(ver.minor) + \"/site-packages/\")\n",
    "\n",
    "os.environ[\"LD_LIBRARY_PATH\"] = \"/usr/lib/x86_64-linux-gnu:\" + os.environ[\"LD_LIBRARY_PATH\"]"
   ]
  },
  {
   "cell_type": "markdown",
   "metadata": {
    "id": "lf2KeHt5_eFv"
   },
   "source": [
    "## PySAGES\n",
    "\n",
    "Next, we install PySAGES. The latest version is retrieved from GitHub and installed (along with its dependencies) using `pip`."
   ]
  },
  {
   "cell_type": "code",
   "execution_count": null,
   "id": "0cde9d43",
   "metadata": {
    "id": "B-HB9CzioV5j"
   },
   "outputs": [],
   "source": [
    "!pip install -qq git+https://github.com/SSAGESLabs/PySAGES.git > /dev/null"
   ]
  },
  {
   "cell_type": "markdown",
   "metadata": {
    "id": "h5xD1zfj-J2z"
   },
   "source": [
    "# Harmonic Bias simulations"
   ]
  },
  {
   "cell_type": "code",
   "execution_count": 8,
   "metadata": {
    "id": "OIyRfOU9_cEJ"
   },
   "outputs": [],
   "source": [
    "%%bash\n",
    "\n",
    "mkdir /content/harmonic-bias\n",
    "cd /content/harmonic-bias"
   ]
  },
  {
   "cell_type": "markdown",
   "metadata": {
    "id": "Uh2y2RXDDZub"
   },
   "source": [
    "A harmonic bias simulation constraints a collective variable with a harmonic potential. This is useful for a variety of advanced sampling methods, in particular, umbrella sampling.\n",
    "\n",
    "For this Colab, we are using alanine dipeptide as the example molecule, a system widely-used for benchmarking enhanced sampling methods. So first, we fetch the molecule from the examples of PySAGES."
   ]
  },
  {
   "cell_type": "code",
   "execution_count": 9,
   "metadata": {
    "id": "5fxJMNyE-RdA"
   },
   "outputs": [],
   "source": [
    "%%bash\n",
    "\n",
    "# Download pdb file with the initial configuration of our system\n",
    "wget -q https://raw.githubusercontent.com/SSAGESLabs/PySAGES/main/examples/inputs/alanine-dipeptide/adp-explicit.pdb"
   ]
  },
  {
   "cell_type": "markdown",
   "metadata": {
    "id": "3TV4h_WEAdSm"
   },
   "source": [
    "Next, we write a function that can generate an execution context for OpenMM. This is everything you would normally write in an OpenMM script, just wrapped as a function that returns the context of the simulation."
   ]
  },
  {
   "cell_type": "code",
   "execution_count": 11,
   "metadata": {
    "id": "GAGw0s_cAcgP"
   },
   "outputs": [],
   "source": [
    "import numpy as np\n",
    "import openmm\n",
    "import openmm.app as app\n",
    "import openmm.unit as unit\n",
    "\n",
    "\n",
    "T = 298.15 * unit.kelvin\n",
    "dt = 2.0 * unit.femtoseconds\n",
    "adp_pdb = \"adp-explicit.pdb\"\n",
    "\n",
    "\n",
    "def generate_simulation(pdb_filename=adp_pdb, T=T, dt=dt, **kwargs):\n",
    "    \"\"\"\n",
    "    Generates a simulation context to which will attach our sampling method.\n",
    "    \"\"\"\n",
    "    pdb = app.PDBFile(pdb_filename)\n",
    "\n",
    "    ff = app.ForceField(\"amber99sb.xml\", \"tip3p.xml\")\n",
    "    cutoff_distance = 1.0 * unit.nanometer\n",
    "    topology = pdb.topology\n",
    "    system = ff.createSystem(\n",
    "        topology, constraints = app.HBonds, nonbondedMethod = app.NoCutoff,\n",
    "        nonbondedCutoff = cutoff_distance\n",
    "    )\n",
    "\n",
    "    positions = pdb.getPositions(asNumpy = True)\n",
    "\n",
    "    integrator = openmm.LangevinIntegrator(T, 1 / unit.picosecond, dt)\n",
    "\n",
    "    simulation = app.Simulation(topology, system, integrator)\n",
    "    simulation.context.setPositions(positions)\n",
    "    simulation.minimizeEnergy()\n",
    "\n",
    "    return simulation"
   ]
  },
  {
   "cell_type": "markdown",
   "metadata": {
    "id": "YtUoUMEdKtH8"
   },
   "source": [
    "The next step is to define the collective variable (CV). In this case, we choose the two dihedral angles on the molecule as defined by the atom positions. We also choose an equilibrium value to constrain the dihedrals and the corresponding spring constant.\n",
    "The `HarmonicBias` class is responsible for introducing the bias into the simulation run."
   ]
  },
  {
   "cell_type": "code",
   "execution_count": 12,
   "metadata": {
    "id": "P6kPLtGI_-66"
   },
   "outputs": [],
   "source": [
    "import pysages\n",
    "\n",
    "from pysages.colvars import DihedralAngle\n",
    "from pysages.methods import HarmonicBias, HistogramLogger"
   ]
  },
  {
   "cell_type": "code",
   "execution_count": null,
   "id": "732e9f0e",
   "metadata": {
    "id": "zEH5jrRoKszT"
   },
   "outputs": [],
   "source": [
    "cvs = [DihedralAngle([4, 6, 8, 14]), DihedralAngle([6, 8, 14, 16])]\n",
    "center = [-0.33*np.pi, -0.4*np.pi]\n",
    "k = 100\n",
    "method = HarmonicBias(cvs, k, center)"
   ]
  },
  {
   "cell_type": "markdown",
   "metadata": {
    "id": "sqKuZo92K9n9"
   },
   "source": [
    "We now define a Histogram callback to log the measured values of the CVs and run the simulation for $10^4$ time steps. The `HistogramLogger` collects the state of the collective variable during the run.\n",
    "Make sure to run with GPU support. Using the CPU platform with OpenMM is possible and supported, but can take a very long time."
   ]
  },
  {
   "cell_type": "code",
   "execution_count": 13,
   "metadata": {
    "id": "-XKSe3os_-Rg"
   },
   "outputs": [],
   "source": [
    "callback = HistogramLogger(50)\n",
    "pysages.run(method, generate_simulation, int(1e4), callback)"
   ]
  },
  {
   "cell_type": "markdown",
   "metadata": {
    "id": "z8V0iX70RF1m"
   },
   "source": [
    "Next, we want to plot the histogram as recorded from the simulations."
   ]
  },
  {
   "cell_type": "code",
   "execution_count": 14,
   "metadata": {
    "id": "Mvq9CWdg_qxl"
   },
   "outputs": [],
   "source": [
    "bins = 25\n",
    "lim = (-np.pi/2, -np.pi/4)\n",
    "lims = [lim for i in range(2)]\n",
    "hist, edges = callback.get_histograms(bins=bins, range=lims)\n",
    "hist_list = [np.sum(hist, axis=(0)), np.sum(hist, axis=(1))]"
   ]
  },
  {
   "cell_type": "code",
   "execution_count": 15,
   "metadata": {
    "colab": {
     "base_uri": "https://localhost:8080/",
     "height": 301
    },
    "id": "mxZVBr2FR5FJ",
    "outputId": "2d0d189b-a1b8-400d-92cd-0fbbeaa783e8"
   },
   "outputs": [
    {
     "data": {
      "text/plain": [
       "<matplotlib.legend.Legend at 0x7f020e8cda50>"
      ]
     },
     "execution_count": 15,
     "metadata": {},
     "output_type": "execute_result"
    },
    {
     "data": {
      "image/png": "[encoded data removed]",
      "text/plain": [
       "<Figure size 432x288 with 1 Axes>"
      ]
     },
     "metadata": {
      "needs_background": "light"
     },
     "output_type": "display_data"
    }
   ],
   "source": [
    "import matplotlib.pyplot as plt\n",
    "\n",
    "x = np.linspace(lim[0], lim[1], hist_list[0].shape[0])\n",
    "\n",
    "fig, ax = plt.subplots()\n",
    "\n",
    "ax.legend(loc=\"best\")\n",
    "ax.set_xlabel(r\"CV $\\xi_i$\")\n",
    "ax.set_ylabel(r\"$p(\\xi_i)$\")\n",
    "\n",
    "for i in range(len(hist_list)):\n",
    "    (line,) = ax.plot(x, hist_list[i], label=\"i= {0}\".format(i))\n",
    "\n",
    "fig.show()"
   ]
  },
  {
   "cell_type": "markdown",
   "metadata": {
    "id": "m9JjGXq_ha-6"
   },
   "source": [
    "We see how the dihedral angles are distributed. The histograms are not perfect in this example because we ran the simulation only for a few time steps and hence sampling is quite limited."
   ]
  }
 ],
 "metadata": {
  "accelerator": "GPU",
  "colab": {
   "name": "Harmonic-Bias-PySAGES-OpenMM.ipynb",
   "provenance": []
  },
  "jupytext": {
   "formats": "ipynb,md"
  },
  "kernelspec": {
   "display_name": "Python 3",
   "language": "python",
   "name": "python3"
  },
  "language_info": {
   "codemirror_mode": {
    "name": "ipython",
    "version": 3
   },
   "file_extension": ".py",
   "mimetype": "text/x-python",
   "name": "python",
   "nbconvert_exporter": "python",
   "pygments_lexer": "ipython3",
   "version": "3.9.2"
  }
 },
 "nbformat": 4,
 "nbformat_minor": 1
}
