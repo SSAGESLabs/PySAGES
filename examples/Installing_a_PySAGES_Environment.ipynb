{
 "cells": [
  {
   "cell_type": "markdown",
   "metadata": {
    "id": "fb18f873",
    "lines_to_next_cell": 0
   },
   "source": [
    "<!-- trunk-ignore-all(markdownlint/MD001) -->\n",
    "<!-- trunk-ignore-all(markdownlint/MD024) -->"
   ]
  },
  {
   "cell_type": "markdown",
   "metadata": {
    "id": "p49wJ0IjLAVD"
   },
   "source": [
    "\n",
    "# Setting up the Environment\n"
   ]
  },
  {
   "cell_type": "markdown",
   "metadata": {
    "id": "0opWLiz1shLz"
   },
   "source": [
    "We set up a directory that we will use as an installation prefix. If you are not running in an interactive environment and you don't want to install packages in a custom path, the steps in this section are unnecessary.\n"
   ]
  },
  {
   "cell_type": "code",
   "execution_count": 1,
   "metadata": {
    "id": "YQplbeQbsvg_"
   },
   "outputs": [],
   "source": [
    "import os\n",
    "import sys\n",
    "\n",
    "ver = sys.version_info\n",
    "\n",
    "os.environ[\"PYSAGES_ENV\"] = os.environ[\"PREFIX\"] = \"/env/pysages\"\n",
    "os.environ[\"PYTHON_SITE_INSTALL_DIR\"] = f\"lib/python{str(ver.major)}.{str(ver.minor)}/site-packages\"\n",
    "os.environ[\"PREFIX_USER_SITE\"] = os.environ[\"PREFIX\"] + \"/\" + os.environ[\"PYTHON_SITE_INSTALL_DIR\"]\n",
    "\n",
    "# The following lines are to prevent python packages being looked up from certain paths in this Colab instance\n",
    "for path in (\"/content\", \"\"):\n",
    "  if path in sys.path:\n",
    "    sys.path.remove(path)"
   ]
  },
  {
   "cell_type": "code",
   "execution_count": 2,
   "metadata": {
    "id": "f4YUpAAD_ECn"
   },
   "outputs": [],
   "source": [
    "!mkdir -p $PREFIX_USER_SITE"
   ]
  },
  {
   "cell_type": "markdown",
   "metadata": {
    "id": "V3bkQyaIerAM"
   },
   "source": [
    "We want to make the installation visible to the python system, but we will be installing packages into a custom location that is not checked by python by default. In this Colab, we achieve this in two steps.\n",
    "\n",
    "First, we extend the environment variable `PYTHONPATH`. This helps newly started python environments to find packages.\n"
   ]
  },
  {
   "cell_type": "code",
   "execution_count": 3,
   "metadata": {
    "id": "rK5eqf1Efd5U"
   },
   "outputs": [],
   "source": [
    "import os\n",
    "os.environ[\"PYTHONPATH\"] = os.environ[\"PREFIX_USER_SITE\"] + \":\" + os.environ[\"PYTHONPATH\"]"
   ]
  },
  {
   "cell_type": "markdown",
   "metadata": {
    "id": "WJpB7JxLflFa"
   },
   "source": [
    "Because the notebook environment has already a running python we need to let it know about the new location. We achieve this by appending the `sys.path` with such location."
   ]
  },
  {
   "cell_type": "code",
   "execution_count": 4,
   "metadata": {
    "id": "UeVmb0cZfl8-"
   },
   "outputs": [],
   "source": [
    "import os\n",
    "import sys\n",
    "sys.path.append(os.environ[\"PREFIX_USER_SITE\"])"
   ]
  },
  {
   "cell_type": "markdown",
   "metadata": {
    "id": "S6jbsO0ZxUyO"
   },
   "source": [
    "\n",
    "# Adding HOOMD-blue Support\n",
    "\n",
    "We first install some dependencies necessary to build HOOMD-blue. These may vary in number and names based on your environment and operating system."
   ]
  },
  {
   "cell_type": "code",
   "execution_count": 5,
   "metadata": {
    "id": "tlM4nMxwXFKO"
   },
   "outputs": [],
   "source": [
    "!apt-get -qq install libeigen3-dev pybind11-dev > /dev/null"
   ]
  },
  {
   "cell_type": "markdown",
   "metadata": {
    "id": "yreB95grry8d"
   },
   "source": [
    "\n",
    "## Building and Installing HOOMD-blue\n",
    "\n",
    "The following clones the HOOMD-blue repo and sets the version to `v4.7.0` (this is the newest version that builds with the system dependencies available in Ubuntu 22.04, which is the OS used in Colab as of the end of 2024)."
   ]
  },
  {
   "cell_type": "code",
   "execution_count": 6,
   "metadata": {
    "id": "bEvgKS5EZDW1"
   },
   "outputs": [],
   "source": [
    "%%bash\n",
    "\n",
    "# Get HOOMD-blue source code\n",
    "rm -rf hoomd-blue\n",
    "git clone -q https://github.com/glotzerlab/hoomd-blue.git\n",
    "cd hoomd-blue\n",
    "git checkout -q v4.7.0\n",
    "git submodule update -q --init"
   ]
  },
  {
   "cell_type": "markdown",
   "metadata": {
    "id": "Q-XrmUMJZF2N"
   },
   "source": [
    "#### \\_\\_\\_\n",
    "\n",
    "We need to patch `CMake/hoomd/HOOMDPythonSetup.cmake` to being able to install\n",
    "in a custom `site-packages` path within this Colab instance. This is also done\n",
    "for hoomd conda builds (see for example [here](https://github.com/conda-forge/hoomd-feedstock/pull/106)).\n",
    "In general you shouldn't need to do this."
   ]
  },
  {
   "cell_type": "code",
   "execution_count": 7,
   "metadata": {
    "id": "kbfWJ0bGZsAt"
   },
   "outputs": [],
   "source": [
    "%%bash\n",
    "cd hoomd-blue\n",
    "wget -q -O- https://raw.githubusercontent.com/conda-forge/hoomd-feedstock/4eb9b8ecd47f6780fcdbcde90ad99c180b5e2f51/recipe/fix-python-site-dir.patch | patch -p1 -s"
   ]
  },
  {
   "cell_type": "markdown",
   "metadata": {
    "id": "pxQu1nVbc45X"
   },
   "source": [
    "#### \\_\\_\\_\n",
    "\n",
    "We first disable some HOOMD-blue components to save on installation time, and then, we compile and install the package.\n",
    "\n",
    "**This may take a while, so be mindful of not inadvertently re-running the cell.**"
   ]
  },
  {
   "cell_type": "code",
   "execution_count": null,
   "metadata": {
    "id": "r_eiHnV5K6HI"
   },
   "outputs": [],
   "source": [
    "%%bash\n",
    "\n",
    "cd hoomd-blue\n",
    "\n",
    "# Compile and install\n",
    "BUILD_PATH=/tmp/build/hoomd\n",
    "rm -rf $BUILD_PATH\n",
    "cmake -S . -B $BUILD_PATH \\\n",
    "    -DCMAKE_INSTALL_PREFIX=$PREFIX \\\n",
    "    -DBUILD_HPMC=OFF \\\n",
    "    -DBUILD_METAL=OFF \\\n",
    "    -DBUILD_MPCD=OFF \\\n",
    "    -DBUILD_TESTING=OFF \\\n",
    "    -DENABLE_GPU=ON \\\n",
    "    -DENABLE_TBB=ON \\\n",
    "    -DPLUGINS=\"\" \\\n",
    "    -DPYTHON_SITE_INSTALL_DIR=$PYTHON_SITE_INSTALL_DIR/hoomd > /dev/null\n",
    "\n",
    "cmake --build $BUILD_PATH --target install -j8 > /dev/null\n",
    "# Or alternately to the line above\n",
    "# cd $BUILD_PATH\n",
    "# make install -j8 > /dev/null"
   ]
  },
  {
   "cell_type": "markdown",
   "metadata": {
    "id": "jtPHo0j1aG5p"
   },
   "source": [
    "\n",
    "## Building and Installing the HOOMD-dlext Plugin\n",
    "\n",
    "Now we can install the `dlext` plugin for HOOMD-blue. But, we need to get some dependencies first.\n"
   ]
  },
  {
   "cell_type": "code",
   "execution_count": null,
   "metadata": {
    "id": "fAgQT1rRKsLf"
   },
   "outputs": [],
   "source": [
    "!python -m pip install -q setuptools_scm > /dev/null"
   ]
  },
  {
   "cell_type": "markdown",
   "metadata": {
    "id": "13FChNadwLUn"
   },
   "source": [
    "\n",
    "We then clone the hoomd-dlext repository and install the package via `cmake` as well. This cell is significantly faster than the HOOMD-blue installation.\n"
   ]
  },
  {
   "cell_type": "code",
   "execution_count": null,
   "metadata": {
    "id": "-imFRwdKfDvq"
   },
   "outputs": [],
   "source": [
    "%%bash\n",
    "\n",
    "# Get the plugin\n",
    "rm -rf hoomd-dlext\n",
    "git clone -q https://github.com/SSAGESLabs/hoomd-dlext.git\n",
    "cd hoomd-dlext\n",
    "\n",
    "# Build and install\n",
    "BUILD_PATH=/tmp/build/hoomd-dlext\n",
    "rm -rf $BUILD_PATH\n",
    "cmake -S . -B $BUILD_PATH -DCMAKE_FIND_ROOT_PATH=$PREFIX &> /dev/null\n",
    "cmake --build $BUILD_PATH --target install > /dev/null"
   ]
  },
  {
   "cell_type": "markdown",
   "metadata": {
    "id": "WVi8yFoDq--b"
   },
   "source": [
    "\n",
    "This concludes the installation of the HOOMD-blue and its plugin for PySAGES. We quickly test the installation.\n"
   ]
  },
  {
   "cell_type": "code",
   "execution_count": null,
   "metadata": {
    "id": "xJC1ebpqrKC8"
   },
   "outputs": [],
   "source": [
    "import hoomd\n",
    "import hoomd.dlext"
   ]
  },
  {
   "cell_type": "markdown",
   "metadata": {
    "id": "gOGvNMRL2x3p"
   },
   "source": [
    "\n",
    "# Adding OpenMM Support\n",
    "\n",
    "Having previously set up the environment, we can now just simply install some required dependencies and build and install OpenMM.\n",
    "\n",
    "Again, installing dependencies will be different depending on your operating system and python environment."
   ]
  },
  {
   "cell_type": "code",
   "execution_count": null,
   "metadata": {
    "id": "USDPtmzmBckY"
   },
   "outputs": [],
   "source": [
    "%%bash\n",
    "\n",
    "apt-get -qq install doxygen swig > /dev/null\n",
    "python -m pip install -qq setuptools wheel Cython"
   ]
  },
  {
   "cell_type": "markdown",
   "metadata": {
    "id": "Uaco_PJqoZrq"
   },
   "source": [
    "\n",
    "## Building and Installing OpenMM\n",
    "\n",
    "The following clones the OpenMM repo and sets the version to `v8.1.2` (the newest available when this notebook was last updated). Then, it configures and builds OpenMM.\n",
    "\n",
    "**This may take a while, so be mindful of not inadvertently re-running the cell.**"
   ]
  },
  {
   "cell_type": "code",
   "execution_count": null,
   "metadata": {
    "id": "OPsrb1RqmD-p"
   },
   "outputs": [],
   "source": [
    "%%bash\n",
    "\n",
    "# Get OpenMM source code\n",
    "rm -rf openmm\n",
    "git clone -q https://github.com/openmm/openmm.git\n",
    "cd openmm\n",
    "git checkout -q 8.1.2\n",
    "\n",
    "# Compile and install\n",
    "BUILD_PATH=/tmp/build/openmm\n",
    "rm -rf $BUILD_PATH\n",
    "cmake -S . -B $BUILD_PATH \\\n",
    "    -DCMAKE_INSTALL_PREFIX=$PREFIX \\\n",
    "    -DBUILD_TESTING=OFF \\\n",
    "    -DOPENMM_PYTHON_USER_INSTALL=ON \\\n",
    "    -Wno-dev > /dev/null\n",
    "\n",
    "cmake --build $BUILD_PATH -j8 &> /dev/null\n",
    "cmake --install $BUILD_PATH > /dev/null"
   ]
  },
  {
   "cell_type": "markdown",
   "metadata": {
    "id": "R8dVbeEdVyin"
   },
   "source": [
    "The OpenMM python library needs to be build and installed separately. We also need to point for the library to be installed in our custom path."
   ]
  },
  {
   "cell_type": "code",
   "execution_count": null,
   "metadata": {
    "id": "WoEFi8P7XlVP"
   },
   "outputs": [],
   "source": [
    "%%bash\n",
    "\n",
    "export OPENMM_INCLUDE_PATH=$PREFIX/include\n",
    "export OPENMM_LIB_PATH=$PREFIX/lib\n",
    "BUILD_PATH=/tmp/build/openmm\n",
    "\n",
    "# Install python package\n",
    "cd $BUILD_PATH\n",
    "make PythonInstall &> /dev/null\n",
    "\n",
    "cd $BUILD_PATH/python\n",
    "pip install --target $PREFIX_USER_SITE . &> /dev/null"
   ]
  },
  {
   "cell_type": "markdown",
   "metadata": {
    "id": "zPZpzuaq9CIW"
   },
   "source": [
    "\n",
    "## Building and Installing the OpenMM-dlext Plugin\n",
    "\n",
    "Similarly as shown for HOOMD-blue above, for OpenMM we need to build and install the corresponding `openmm-dlext` plugin.\n"
   ]
  },
  {
   "cell_type": "code",
   "execution_count": null,
   "metadata": {
    "id": "mCUYSTLp9M-C"
   },
   "outputs": [],
   "source": [
    "%%bash\n",
    "\n",
    "# Get the plugin\n",
    "rm -rf openmm-dlext\n",
    "git clone -q https://github.com/SSAGESLabs/openmm-dlext.git\n",
    "cd openmm-dlext\n",
    "\n",
    "# Build and install\n",
    "BUILD_PATH=/tmp/build/openmm-dlext\n",
    "rm -rf $BUILD_PATH\n",
    "cmake -S . -B $BUILD_PATH -Wno-dev > /dev/null\n",
    "cmake --build $BUILD_PATH --target install &> /dev/null"
   ]
  },
  {
   "cell_type": "markdown",
   "metadata": {
    "id": "cm5xnNrM9P20"
   },
   "source": [
    "If everything worked as expected, the following should run without issuing any errors."
   ]
  },
  {
   "cell_type": "code",
   "execution_count": null,
   "metadata": {
    "id": "5Ty-Jnm09gnu"
   },
   "outputs": [],
   "source": [
    "import openmm\n",
    "import openmm.dlext"
   ]
  },
  {
   "cell_type": "markdown",
   "metadata": {
    "id": "5qvCIYnS3StP"
   },
   "source": [
    "\n",
    "## Upload environment to Google Drive\n"
   ]
  },
  {
   "cell_type": "markdown",
   "metadata": {
    "id": "3a_zSXJatWUY"
   },
   "source": [
    "These steps are not necessary to understand the setup of the environment. If you want to build your own environment, modify the lines such that it uploads to your own Google Drive.\n",
    "\n",
    "We upload the data to a shared Google Drive so we can reuse our environment in other notebooks.\n",
    "\n",
    "First, we mount our Google Drive file system to a local directory.\n"
   ]
  },
  {
   "cell_type": "code",
   "execution_count": 78,
   "metadata": {
    "colab": {
     "base_uri": "https://localhost:8080/"
    },
    "id": "yic9Joq5tlGh",
    "outputId": "9ea110d5-8f45-4de2-e917-6c48d047acf9"
   },
   "outputs": [
    {
     "name": "stdout",
     "output_type": "stream",
     "text": [
      "Mounted at /content/mnt\n"
     ]
    }
   ],
   "source": [
    "from google.colab import drive\n",
    "drive.mount('/content/mnt')"
   ]
  },
  {
   "cell_type": "markdown",
   "metadata": {
    "id": "lKHxKVDRYEpP"
   },
   "source": [
    "We clean the cache of the code generated by python for our built packages such that the upload size is smaller."
   ]
  },
  {
   "cell_type": "code",
   "execution_count": null,
   "metadata": {
    "id": "Tl248P32YH8O"
   },
   "outputs": [],
   "source": [
    "%%bash\n",
    "python -m pip install -q pyclean > /dev/null\n",
    "pyclean -q $PREFIX_USER_SITE"
   ]
  },
  {
   "cell_type": "markdown",
   "metadata": {
    "id": "M09QOE_E3ukB"
   },
   "source": [
    "\n",
    "We then compress the environment into a zip file and copy it to a folder within Google Drive. Here we are choosing an existing Shared Drive, but if you were to do this you should choose a folder you have access to and write permissions.\n"
   ]
  },
  {
   "cell_type": "code",
   "execution_count": 79,
   "metadata": {
    "colab": {
     "base_uri": "https://localhost:8080/"
    },
    "id": "QmXbqp9Pqp-a",
    "outputId": "483ad6a2-2042-4a96-9eb1-964eb16c6c36"
   },
   "outputs": [
    {
     "name": "stdout",
     "output_type": "stream",
     "text": [
      "env: PYSAGES_SHARED_ENV=/content/mnt/Shareddrives/pysages-env\n"
     ]
    }
   ],
   "source": [
    "%env PYSAGES_SHARED_ENV=/content/mnt/Shareddrives/pysages-env"
   ]
  },
  {
   "cell_type": "code",
   "execution_count": 80,
   "metadata": {
    "id": "ufo9WHoQqzuW"
   },
   "outputs": [],
   "source": [
    "%%bash\n",
    "\n",
    "cd $PYSAGES_ENV\n",
    "zip -qr pysages-env.zip .\n",
    "cp -f pysages-env.zip $PYSAGES_SHARED_ENV\n",
    "rm -f pysages-env.zip"
   ]
  }
 ],
 "metadata": {
  "accelerator": "GPU",
  "colab": {
   "collapsed_sections": [
    "Q-XrmUMJZF2N"
   ],
   "name": "Installing_a_PySAGES_Environment.ipynb",
   "provenance": []
  },
  "jupytext": {
   "formats": "ipynb,md",
   "main_language": "python"
  },
  "kernelspec": {
   "display_name": "Python 3",
   "name": "python3"
  },
  "language_info": {
   "name": "python"
  }
 },
 "nbformat": 4,
 "nbformat_minor": 0
}
